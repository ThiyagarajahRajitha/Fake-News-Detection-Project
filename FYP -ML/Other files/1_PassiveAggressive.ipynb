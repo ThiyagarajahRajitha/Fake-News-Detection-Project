{
 "cells": [
  {
   "cell_type": "code",
   "execution_count": 1,
   "metadata": {},
   "outputs": [],
   "source": [
    "import numpy as np\n",
    "import pandas as pd"
   ]
  },
  {
   "cell_type": "code",
   "execution_count": 4,
   "metadata": {},
   "outputs": [],
   "source": [
    "from sklearn.feature_extraction.text import TfidfVectorizer\n",
    "from sklearn.linear_model import PassiveAggressiveClassifier\n",
    "from sklearn.model_selection import train_test_split\n",
    "from sklearn.metrics import accuracy_score, confusion_matrix\n",
    "from sklearn.model_selection import cross_val_score"
   ]
  },
  {
   "cell_type": "code",
   "execution_count": 9,
   "metadata": {},
   "outputs": [
    {
     "data": {
      "text/html": [
       "<div>\n",
       "<style scoped>\n",
       "    .dataframe tbody tr th:only-of-type {\n",
       "        vertical-align: middle;\n",
       "    }\n",
       "\n",
       "    .dataframe tbody tr th {\n",
       "        vertical-align: top;\n",
       "    }\n",
       "\n",
       "    .dataframe thead th {\n",
       "        text-align: right;\n",
       "    }\n",
       "</style>\n",
       "<table border=\"1\" class=\"dataframe\">\n",
       "  <thead>\n",
       "    <tr style=\"text-align: right;\">\n",
       "      <th></th>\n",
       "      <th>Unnamed: 0</th>\n",
       "      <th>title</th>\n",
       "      <th>text</th>\n",
       "      <th>subcategory</th>\n",
       "      <th>label</th>\n",
       "    </tr>\n",
       "  </thead>\n",
       "  <tbody>\n",
       "    <tr>\n",
       "      <th>0</th>\n",
       "      <td>0</td>\n",
       "      <td>FACEBOOK DELETES MICHIGAN ANTI-LOCKDOWN GROUP ...</td>\n",
       "      <td>Facebook has shuttered a popular group for Mic...</td>\n",
       "      <td>false news</td>\n",
       "      <td>0</td>\n",
       "    </tr>\n",
       "    <tr>\n",
       "      <th>1</th>\n",
       "      <td>1</td>\n",
       "      <td>Other Viewpoints: COVID-19 is worse than the flu</td>\n",
       "      <td>We can now officially put to rest all comparis...</td>\n",
       "      <td>true</td>\n",
       "      <td>1</td>\n",
       "    </tr>\n",
       "    <tr>\n",
       "      <th>2</th>\n",
       "      <td>2</td>\n",
       "      <td>Bermuda's COVID-19 cases surpass 100</td>\n",
       "      <td>The Ministry of Health in Bermuda has confirme...</td>\n",
       "      <td>true</td>\n",
       "      <td>1</td>\n",
       "    </tr>\n",
       "    <tr>\n",
       "      <th>3</th>\n",
       "      <td>3</td>\n",
       "      <td>Purdue University says students face 'close to...</td>\n",
       "      <td>Purdue University President Mitch Daniels, the...</td>\n",
       "      <td>partially false</td>\n",
       "      <td>0</td>\n",
       "    </tr>\n",
       "    <tr>\n",
       "      <th>4</th>\n",
       "      <td>4</td>\n",
       "      <td>THE HIGH COST OF LOCKING DOWN AMERICA: “WE’VE ...</td>\n",
       "      <td>Locking down much of the country may have help...</td>\n",
       "      <td>false news</td>\n",
       "      <td>0</td>\n",
       "    </tr>\n",
       "    <tr>\n",
       "      <th>...</th>\n",
       "      <td>...</td>\n",
       "      <td>...</td>\n",
       "      <td>...</td>\n",
       "      <td>...</td>\n",
       "      <td>...</td>\n",
       "    </tr>\n",
       "    <tr>\n",
       "      <th>3114</th>\n",
       "      <td>2998</td>\n",
       "      <td>2019-nCoV: Health dept. on full alert</td>\n",
       "      <td>Quarantine advised for 80 persons across the S...</td>\n",
       "      <td>true</td>\n",
       "      <td>1</td>\n",
       "    </tr>\n",
       "    <tr>\n",
       "      <th>3115</th>\n",
       "      <td>2999</td>\n",
       "      <td>Screening machine for corona virus launched at...</td>\n",
       "      <td>South Sudan has begun screening all travelers ...</td>\n",
       "      <td>true</td>\n",
       "      <td>1</td>\n",
       "    </tr>\n",
       "    <tr>\n",
       "      <th>3116</th>\n",
       "      <td>3000</td>\n",
       "      <td>Coronavirus (2019-nCoV)</td>\n",
       "      <td>Coronavirus (2019-nCoV) is a new respiratory i...</td>\n",
       "      <td>true</td>\n",
       "      <td>1</td>\n",
       "    </tr>\n",
       "    <tr>\n",
       "      <th>3117</th>\n",
       "      <td>3001</td>\n",
       "      <td>Characterizing Patients Hospitalized With COVI...</td>\n",
       "      <td>Characterizing Patients Hospitalized With COVI...</td>\n",
       "      <td>false news</td>\n",
       "      <td>0</td>\n",
       "    </tr>\n",
       "    <tr>\n",
       "      <th>3118</th>\n",
       "      <td>3002</td>\n",
       "      <td>Corona Virus WARNING</td>\n",
       "      <td>Just something to be prepared for… but then it...</td>\n",
       "      <td>false news</td>\n",
       "      <td>0</td>\n",
       "    </tr>\n",
       "  </tbody>\n",
       "</table>\n",
       "<p>3119 rows × 5 columns</p>\n",
       "</div>"
      ],
      "text/plain": [
       "      Unnamed: 0                                              title  \\\n",
       "0              0  FACEBOOK DELETES MICHIGAN ANTI-LOCKDOWN GROUP ...   \n",
       "1              1   Other Viewpoints: COVID-19 is worse than the flu   \n",
       "2              2               Bermuda's COVID-19 cases surpass 100   \n",
       "3              3  Purdue University says students face 'close to...   \n",
       "4              4  THE HIGH COST OF LOCKING DOWN AMERICA: “WE’VE ...   \n",
       "...          ...                                                ...   \n",
       "3114        2998              2019-nCoV: Health dept. on full alert   \n",
       "3115        2999  Screening machine for corona virus launched at...   \n",
       "3116        3000                            Coronavirus (2019-nCoV)   \n",
       "3117        3001  Characterizing Patients Hospitalized With COVI...   \n",
       "3118        3002                               Corona Virus WARNING   \n",
       "\n",
       "                                                   text      subcategory  \\\n",
       "0     Facebook has shuttered a popular group for Mic...       false news   \n",
       "1     We can now officially put to rest all comparis...             true   \n",
       "2     The Ministry of Health in Bermuda has confirme...             true   \n",
       "3     Purdue University President Mitch Daniels, the...  partially false   \n",
       "4     Locking down much of the country may have help...       false news   \n",
       "...                                                 ...              ...   \n",
       "3114  Quarantine advised for 80 persons across the S...             true   \n",
       "3115  South Sudan has begun screening all travelers ...             true   \n",
       "3116  Coronavirus (2019-nCoV) is a new respiratory i...             true   \n",
       "3117  Characterizing Patients Hospitalized With COVI...       false news   \n",
       "3118  Just something to be prepared for… but then it...       false news   \n",
       "\n",
       "      label  \n",
       "0         0  \n",
       "1         1  \n",
       "2         1  \n",
       "3         0  \n",
       "4         0  \n",
       "...     ...  \n",
       "3114      1  \n",
       "3115      1  \n",
       "3116      1  \n",
       "3117      0  \n",
       "3118      0  \n",
       "\n",
       "[3119 rows x 5 columns]"
      ]
     },
     "execution_count": 9,
     "metadata": {},
     "output_type": "execute_result"
    }
   ],
   "source": [
    "df=pd.read_csv('1_fake_new_dataset_3120.csv',encoding='windows-1252')#had some decode error. so used encoding\n",
    "df"
   ]
  },
  {
   "cell_type": "code",
   "execution_count": 12,
   "metadata": {},
   "outputs": [
    {
     "data": {
      "text/html": [
       "<div>\n",
       "<style scoped>\n",
       "    .dataframe tbody tr th:only-of-type {\n",
       "        vertical-align: middle;\n",
       "    }\n",
       "\n",
       "    .dataframe tbody tr th {\n",
       "        vertical-align: top;\n",
       "    }\n",
       "\n",
       "    .dataframe thead th {\n",
       "        text-align: right;\n",
       "    }\n",
       "</style>\n",
       "<table border=\"1\" class=\"dataframe\">\n",
       "  <thead>\n",
       "    <tr style=\"text-align: right;\">\n",
       "      <th></th>\n",
       "      <th>Unnamed: 0</th>\n",
       "      <th>title</th>\n",
       "      <th>text</th>\n",
       "      <th>subcategory</th>\n",
       "      <th>label</th>\n",
       "    </tr>\n",
       "  </thead>\n",
       "  <tbody>\n",
       "    <tr>\n",
       "      <th>0</th>\n",
       "      <td>0</td>\n",
       "      <td>FACEBOOK DELETES MICHIGAN ANTI-LOCKDOWN GROUP ...</td>\n",
       "      <td>Facebook has shuttered a popular group for Mic...</td>\n",
       "      <td>false news</td>\n",
       "      <td>False</td>\n",
       "    </tr>\n",
       "    <tr>\n",
       "      <th>1</th>\n",
       "      <td>1</td>\n",
       "      <td>Other Viewpoints: COVID-19 is worse than the flu</td>\n",
       "      <td>We can now officially put to rest all comparis...</td>\n",
       "      <td>true</td>\n",
       "      <td>True</td>\n",
       "    </tr>\n",
       "    <tr>\n",
       "      <th>2</th>\n",
       "      <td>2</td>\n",
       "      <td>Bermuda's COVID-19 cases surpass 100</td>\n",
       "      <td>The Ministry of Health in Bermuda has confirme...</td>\n",
       "      <td>true</td>\n",
       "      <td>True</td>\n",
       "    </tr>\n",
       "    <tr>\n",
       "      <th>3</th>\n",
       "      <td>3</td>\n",
       "      <td>Purdue University says students face 'close to...</td>\n",
       "      <td>Purdue University President Mitch Daniels, the...</td>\n",
       "      <td>partially false</td>\n",
       "      <td>False</td>\n",
       "    </tr>\n",
       "    <tr>\n",
       "      <th>4</th>\n",
       "      <td>4</td>\n",
       "      <td>THE HIGH COST OF LOCKING DOWN AMERICA: “WE’VE ...</td>\n",
       "      <td>Locking down much of the country may have help...</td>\n",
       "      <td>false news</td>\n",
       "      <td>False</td>\n",
       "    </tr>\n",
       "    <tr>\n",
       "      <th>...</th>\n",
       "      <td>...</td>\n",
       "      <td>...</td>\n",
       "      <td>...</td>\n",
       "      <td>...</td>\n",
       "      <td>...</td>\n",
       "    </tr>\n",
       "    <tr>\n",
       "      <th>3114</th>\n",
       "      <td>2998</td>\n",
       "      <td>2019-nCoV: Health dept. on full alert</td>\n",
       "      <td>Quarantine advised for 80 persons across the S...</td>\n",
       "      <td>true</td>\n",
       "      <td>True</td>\n",
       "    </tr>\n",
       "    <tr>\n",
       "      <th>3115</th>\n",
       "      <td>2999</td>\n",
       "      <td>Screening machine for corona virus launched at...</td>\n",
       "      <td>South Sudan has begun screening all travelers ...</td>\n",
       "      <td>true</td>\n",
       "      <td>True</td>\n",
       "    </tr>\n",
       "    <tr>\n",
       "      <th>3116</th>\n",
       "      <td>3000</td>\n",
       "      <td>Coronavirus (2019-nCoV)</td>\n",
       "      <td>Coronavirus (2019-nCoV) is a new respiratory i...</td>\n",
       "      <td>true</td>\n",
       "      <td>True</td>\n",
       "    </tr>\n",
       "    <tr>\n",
       "      <th>3117</th>\n",
       "      <td>3001</td>\n",
       "      <td>Characterizing Patients Hospitalized With COVI...</td>\n",
       "      <td>Characterizing Patients Hospitalized With COVI...</td>\n",
       "      <td>false news</td>\n",
       "      <td>False</td>\n",
       "    </tr>\n",
       "    <tr>\n",
       "      <th>3118</th>\n",
       "      <td>3002</td>\n",
       "      <td>Corona Virus WARNING</td>\n",
       "      <td>Just something to be prepared for… but then it...</td>\n",
       "      <td>false news</td>\n",
       "      <td>False</td>\n",
       "    </tr>\n",
       "  </tbody>\n",
       "</table>\n",
       "<p>3119 rows × 5 columns</p>\n",
       "</div>"
      ],
      "text/plain": [
       "      Unnamed: 0                                              title  \\\n",
       "0              0  FACEBOOK DELETES MICHIGAN ANTI-LOCKDOWN GROUP ...   \n",
       "1              1   Other Viewpoints: COVID-19 is worse than the flu   \n",
       "2              2               Bermuda's COVID-19 cases surpass 100   \n",
       "3              3  Purdue University says students face 'close to...   \n",
       "4              4  THE HIGH COST OF LOCKING DOWN AMERICA: “WE’VE ...   \n",
       "...          ...                                                ...   \n",
       "3114        2998              2019-nCoV: Health dept. on full alert   \n",
       "3115        2999  Screening machine for corona virus launched at...   \n",
       "3116        3000                            Coronavirus (2019-nCoV)   \n",
       "3117        3001  Characterizing Patients Hospitalized With COVI...   \n",
       "3118        3002                               Corona Virus WARNING   \n",
       "\n",
       "                                                   text      subcategory  \\\n",
       "0     Facebook has shuttered a popular group for Mic...       false news   \n",
       "1     We can now officially put to rest all comparis...             true   \n",
       "2     The Ministry of Health in Bermuda has confirme...             true   \n",
       "3     Purdue University President Mitch Daniels, the...  partially false   \n",
       "4     Locking down much of the country may have help...       false news   \n",
       "...                                                 ...              ...   \n",
       "3114  Quarantine advised for 80 persons across the S...             true   \n",
       "3115  South Sudan has begun screening all travelers ...             true   \n",
       "3116  Coronavirus (2019-nCoV) is a new respiratory i...             true   \n",
       "3117  Characterizing Patients Hospitalized With COVI...       false news   \n",
       "3118  Just something to be prepared for… but then it...       false news   \n",
       "\n",
       "      label  \n",
       "0     False  \n",
       "1      True  \n",
       "2      True  \n",
       "3     False  \n",
       "4     False  \n",
       "...     ...  \n",
       "3114   True  \n",
       "3115   True  \n",
       "3116   True  \n",
       "3117  False  \n",
       "3118  False  \n",
       "\n",
       "[3119 rows x 5 columns]"
      ]
     },
     "execution_count": 12,
     "metadata": {},
     "output_type": "execute_result"
    }
   ],
   "source": [
    "df=pd.read_csv('1_fake_new_dataset_3120.csv',encoding='windows-1252')\n",
    "conversion_dict={0:'False',1:'True'}\n",
    "df['label']=df['label'].replace(conversion_dict)#Replace 1,0 to real and fake\n",
    "df"
   ]
  },
  {
   "cell_type": "code",
   "execution_count": 13,
   "metadata": {},
   "outputs": [
    {
     "data": {
      "text/plain": [
       "True     2061\n",
       "False    1058\n",
       "Name: label, dtype: int64"
      ]
     },
     "execution_count": 13,
     "metadata": {},
     "output_type": "execute_result"
    }
   ],
   "source": [
    "#Check the balance of the data\n",
    "df.label.value_counts()#Not balanced. Have to find a way to solve this"
   ]
  },
  {
   "cell_type": "code",
   "execution_count": 15,
   "metadata": {},
   "outputs": [],
   "source": [
    "X_train, X_test,y_train, y_test=train_test_split(df['text'],df['label'],test_size=0.25,random_state=9,shuffle=True)"
   ]
  },
  {
   "cell_type": "code",
   "execution_count": 16,
   "metadata": {},
   "outputs": [],
   "source": [
    "tfidf_vectorizer=TfidfVectorizer(stop_words='english', max_df=0.75)"
   ]
  },
  {
   "cell_type": "code",
   "execution_count": 21,
   "metadata": {},
   "outputs": [],
   "source": [
    "vec_train=tfidf_vectorizer.fit_transform(X_train.values.astype('U'))\n",
    "vec_test=tfidf_vectorizer.transform(X_test.values.astype('U'))"
   ]
  },
  {
   "cell_type": "code",
   "execution_count": 22,
   "metadata": {},
   "outputs": [
    {
     "data": {
      "text/plain": [
       "PassiveAggressiveClassifier(max_iter=50)"
      ]
     },
     "execution_count": 22,
     "metadata": {},
     "output_type": "execute_result"
    }
   ],
   "source": [
    "pac=PassiveAggressiveClassifier(max_iter=50)\n",
    "pac.fit(vec_train,y_train)"
   ]
  },
  {
   "cell_type": "code",
   "execution_count": 25,
   "metadata": {},
   "outputs": [
    {
     "name": "stdout",
     "output_type": "stream",
     "text": [
      "PAC Accuracy: 78.08%\n"
     ]
    }
   ],
   "source": [
    "y_pred=pac.predict(vec_test)\n",
    "score=accuracy_score(y_test,y_pred)\n",
    "print(f'PAC Accuracy: {round(score*100,2)}%')"
   ]
  },
  {
   "cell_type": "code",
   "execution_count": 27,
   "metadata": {},
   "outputs": [
    {
     "data": {
      "text/plain": [
       "array([[428,  97],\n",
       "       [ 74, 181]], dtype=int64)"
      ]
     },
     "execution_count": 27,
     "metadata": {},
     "output_type": "execute_result"
    }
   ],
   "source": [
    "confusion_matrix(y_test,y_pred, labels=['True','False'])"
   ]
  },
  {
   "cell_type": "code",
   "execution_count": 28,
   "metadata": {},
   "outputs": [],
   "source": [
    "#428 true positive-predicted real and actually real\n",
    "#181 false negative- predicted false and actually false\n",
    "#accuracy=(428+181)/(428+181+74+97)  = 78.08"
   ]
  },
  {
   "cell_type": "code",
   "execution_count": 29,
   "metadata": {},
   "outputs": [],
   "source": [
    "#K fold accuracy\n",
    "X=tfidf_vectorizer.transform(df['text'].values.astype('U'))"
   ]
  },
  {
   "cell_type": "code",
   "execution_count": 30,
   "metadata": {},
   "outputs": [
    {
     "name": "stdout",
     "output_type": "stream",
     "text": [
      "K fold accuracy : 78.81%\n"
     ]
    }
   ],
   "source": [
    "scores=cross_val_score(pac,X,df['label'].values, cv=5)\n",
    "print(f'K fold accuracy : {round(scores.mean()*100,2)}%')"
   ]
  },
  {
   "cell_type": "code",
   "execution_count": 33,
   "metadata": {},
   "outputs": [],
   "source": [
    "df_true=pd.read_csv('Real.csv',encoding='windows-1252')\n",
    "#df_true_rep=[df_true['text'][i].replace('WASHINGTON(Reuters)-','').replace]\n",
    "#df_true['text']=df_true_rep"
   ]
  },
  {
   "cell_type": "code",
   "execution_count": 39,
   "metadata": {},
   "outputs": [],
   "source": [
    "df_fake=pd.read_csv('Fake.csv',encoding='windows-1252')"
   ]
  },
  {
   "cell_type": "code",
   "execution_count": 40,
   "metadata": {},
   "outputs": [],
   "source": [
    "df_final=pd.concat([df_true,df_fake])"
   ]
  },
  {
   "cell_type": "code",
   "execution_count": 41,
   "metadata": {},
   "outputs": [
    {
     "data": {
      "text/html": [
       "<div>\n",
       "<style scoped>\n",
       "    .dataframe tbody tr th:only-of-type {\n",
       "        vertical-align: middle;\n",
       "    }\n",
       "\n",
       "    .dataframe tbody tr th {\n",
       "        vertical-align: top;\n",
       "    }\n",
       "\n",
       "    .dataframe thead th {\n",
       "        text-align: right;\n",
       "    }\n",
       "</style>\n",
       "<table border=\"1\" class=\"dataframe\">\n",
       "  <thead>\n",
       "    <tr style=\"text-align: right;\">\n",
       "      <th></th>\n",
       "      <th>Unnamed: 0</th>\n",
       "      <th>title</th>\n",
       "      <th>text</th>\n",
       "      <th>label</th>\n",
       "    </tr>\n",
       "  </thead>\n",
       "  <tbody>\n",
       "    <tr>\n",
       "      <th>0</th>\n",
       "      <td>NaN</td>\n",
       "      <td>The reason why the COVID-19 mortality rate and...</td>\n",
       "      <td>instant download http://drberg.com/covid-waves...</td>\n",
       "      <td>False</td>\n",
       "    </tr>\n",
       "    <tr>\n",
       "      <th>1</th>\n",
       "      <td>947.0</td>\n",
       "      <td>Some mouthwashes could help curb coronavirus</td>\n",
       "      <td>researchers are looking into possibility that ...</td>\n",
       "      <td>False</td>\n",
       "    </tr>\n",
       "    <tr>\n",
       "      <th>2</th>\n",
       "      <td>948.0</td>\n",
       "      <td>The World Health Organization confirmed that t...</td>\n",
       "      <td>zerohedge on long enough timeline survival rat...</td>\n",
       "      <td>False</td>\n",
       "    </tr>\n",
       "    <tr>\n",
       "      <th>3</th>\n",
       "      <td>949.0</td>\n",
       "      <td>The U.S. CDC said that the virus which causes ...</td>\n",
       "      <td>owen breaks down latest update from cdc as the...</td>\n",
       "      <td>False</td>\n",
       "    </tr>\n",
       "    <tr>\n",
       "      <th>4</th>\n",
       "      <td>955.0</td>\n",
       "      <td>The genomic sequences of coronaviruses that su...</td>\n",
       "      <td>two possibilities should be considered for ori...</td>\n",
       "      <td>False</td>\n",
       "    </tr>\n",
       "    <tr>\n",
       "      <th>5</th>\n",
       "      <td>958.0</td>\n",
       "      <td>The U.S. government has released their initial...</td>\n",
       "      <td>earlier today trump administration released it...</td>\n",
       "      <td>False</td>\n",
       "    </tr>\n",
       "    <tr>\n",
       "      <th>6</th>\n",
       "      <td>963.0</td>\n",
       "      <td>More babies die by abortion in two days than a...</td>\n",
       "      <td>more babies will die by abortion in two days t...</td>\n",
       "      <td>False</td>\n",
       "    </tr>\n",
       "    <tr>\n",
       "      <th>7</th>\n",
       "      <td>966.0</td>\n",
       "      <td>The U.S. CDC encourages the use of a “[COVID-1...</td>\n",
       "      <td>covid parent warning alert i had to take my so...</td>\n",
       "      <td>False</td>\n",
       "    </tr>\n",
       "    <tr>\n",
       "      <th>8</th>\n",
       "      <td>968.0</td>\n",
       "      <td>“Coronavirus was created in Wuhan lab and rele...</td>\n",
       "      <td>just now on tucker carlson it was revealed tha...</td>\n",
       "      <td>False</td>\n",
       "    </tr>\n",
       "    <tr>\n",
       "      <th>9</th>\n",
       "      <td>969.0</td>\n",
       "      <td>If you decide you don’t want the COVID-19 vacc...</td>\n",
       "      <td>earlier today trump administration released it...</td>\n",
       "      <td>False</td>\n",
       "    </tr>\n",
       "    <tr>\n",
       "      <th>10</th>\n",
       "      <td>970.0</td>\n",
       "      <td>There is no second wave of COVID-19; this seco...</td>\n",
       "      <td>it 's not second wave of c19 coming soon. it '...</td>\n",
       "      <td>False</td>\n",
       "    </tr>\n",
       "    <tr>\n",
       "      <th>11</th>\n",
       "      <td>971.0</td>\n",
       "      <td>Genetic evidence within the Spike gene of the ...</td>\n",
       "      <td>dr. li meng yan joins tucker carlson with insi...</td>\n",
       "      <td>False</td>\n",
       "    </tr>\n",
       "    <tr>\n",
       "      <th>12</th>\n",
       "      <td>973.0</td>\n",
       "      <td>PGA golfer Bubba Wallace wrote Facebook post t...</td>\n",
       "      <td>hooray for bubba watson. he put into words wha...</td>\n",
       "      <td>False</td>\n",
       "    </tr>\n",
       "    <tr>\n",
       "      <th>13</th>\n",
       "      <td>974.0</td>\n",
       "      <td>The World Integrated Trade Solutions (WITS) we...</td>\n",
       "      <td>this is incredibly strange. world bank website...</td>\n",
       "      <td>False</td>\n",
       "    </tr>\n",
       "  </tbody>\n",
       "</table>\n",
       "</div>"
      ],
      "text/plain": [
       "    Unnamed: 0                                              title  \\\n",
       "0          NaN  The reason why the COVID-19 mortality rate and...   \n",
       "1        947.0       Some mouthwashes could help curb coronavirus   \n",
       "2        948.0  The World Health Organization confirmed that t...   \n",
       "3        949.0  The U.S. CDC said that the virus which causes ...   \n",
       "4        955.0  The genomic sequences of coronaviruses that su...   \n",
       "5        958.0  The U.S. government has released their initial...   \n",
       "6        963.0  More babies die by abortion in two days than a...   \n",
       "7        966.0  The U.S. CDC encourages the use of a “[COVID-1...   \n",
       "8        968.0  “Coronavirus was created in Wuhan lab and rele...   \n",
       "9        969.0  If you decide you don’t want the COVID-19 vacc...   \n",
       "10       970.0  There is no second wave of COVID-19; this seco...   \n",
       "11       971.0  Genetic evidence within the Spike gene of the ...   \n",
       "12       973.0  PGA golfer Bubba Wallace wrote Facebook post t...   \n",
       "13       974.0  The World Integrated Trade Solutions (WITS) we...   \n",
       "\n",
       "                                                 text  label  \n",
       "0   instant download http://drberg.com/covid-waves...  False  \n",
       "1   researchers are looking into possibility that ...  False  \n",
       "2   zerohedge on long enough timeline survival rat...  False  \n",
       "3   owen breaks down latest update from cdc as the...  False  \n",
       "4   two possibilities should be considered for ori...  False  \n",
       "5   earlier today trump administration released it...  False  \n",
       "6   more babies will die by abortion in two days t...  False  \n",
       "7   covid parent warning alert i had to take my so...  False  \n",
       "8   just now on tucker carlson it was revealed tha...  False  \n",
       "9   earlier today trump administration released it...  False  \n",
       "10  it 's not second wave of c19 coming soon. it '...  False  \n",
       "11  dr. li meng yan joins tucker carlson with insi...  False  \n",
       "12  hooray for bubba watson. he put into words wha...  False  \n",
       "13  this is incredibly strange. world bank website...  False  "
      ]
     },
     "execution_count": 41,
     "metadata": {},
     "output_type": "execute_result"
    }
   ],
   "source": [
    "df_fake"
   ]
  },
  {
   "cell_type": "code",
   "execution_count": 42,
   "metadata": {},
   "outputs": [],
   "source": [
    "def find_label(newtext):\n",
    "    vec_newtext=tfidf_vectorizer.transform([newtext])\n",
    "    y_pred=pac.predict(vec_newtext)\n",
    "    return y_pred[0]"
   ]
  },
  {
   "cell_type": "code",
   "execution_count": 43,
   "metadata": {},
   "outputs": [
    {
     "data": {
      "text/plain": [
       "'False'"
      ]
     },
     "execution_count": 43,
     "metadata": {},
     "output_type": "execute_result"
    }
   ],
   "source": [
    "find_label((df_true['text'][0]))#predicting true news as false"
   ]
  },
  {
   "cell_type": "code",
   "execution_count": 46,
   "metadata": {},
   "outputs": [
    {
     "data": {
      "text/plain": [
       "'experts warn covid-19 pandemic may intensify over winter months but there are steps you can take to protect yourself and your family .. '"
      ]
     },
     "execution_count": 46,
     "metadata": {},
     "output_type": "execute_result"
    }
   ],
   "source": [
    "df_true['text'][0]"
   ]
  },
  {
   "cell_type": "code",
   "execution_count": 45,
   "metadata": {},
   "outputs": [
    {
     "data": {
      "text/plain": [
       "'False'"
      ]
     },
     "execution_count": 45,
     "metadata": {},
     "output_type": "execute_result"
    }
   ],
   "source": [
    "find_label((df_fake['text'][0]))"
   ]
  },
  {
   "cell_type": "code",
   "execution_count": 47,
   "metadata": {},
   "outputs": [
    {
     "data": {
      "text/plain": [
       "'instant download http://drberg.com/covid-waves covid-19 first and second wave)here are references:1. swedish study about memory t cells and long term .... '"
      ]
     },
     "execution_count": 47,
     "metadata": {},
     "output_type": "execute_result"
    }
   ],
   "source": [
    "df_fake['text'][0]"
   ]
  },
  {
   "cell_type": "code",
   "execution_count": 48,
   "metadata": {},
   "outputs": [
    {
     "data": {
      "text/plain": [
       "0.1631578947368421"
      ]
     },
     "execution_count": 48,
     "metadata": {},
     "output_type": "execute_result"
    }
   ],
   "source": [
    "sum([1 if find_label((df_true['text'][i]))=='True' else 0 for i in range(len(df_true['text']))])/df_true['text'].size"
   ]
  },
  {
   "cell_type": "code",
   "execution_count": 2,
   "metadata": {},
   "outputs": [
    {
     "ename": "NameError",
     "evalue": "name 'df_fake' is not defined",
     "output_type": "error",
     "traceback": [
      "\u001b[1;31m---------------------------------------------------------------------------\u001b[0m",
      "\u001b[1;31mNameError\u001b[0m                                 Traceback (most recent call last)",
      "\u001b[1;32m<ipython-input-2-5aa193631a37>\u001b[0m in \u001b[0;36m<module>\u001b[1;34m\u001b[0m\n\u001b[1;32m----> 1\u001b[1;33m \u001b[0msum\u001b[0m\u001b[1;33m(\u001b[0m\u001b[1;33m[\u001b[0m\u001b[1;36m1\u001b[0m \u001b[1;32mif\u001b[0m \u001b[0mfind_label\u001b[0m\u001b[1;33m(\u001b[0m\u001b[1;33m(\u001b[0m\u001b[0mdf_fake\u001b[0m\u001b[1;33m[\u001b[0m\u001b[1;34m'text'\u001b[0m\u001b[1;33m]\u001b[0m\u001b[1;33m[\u001b[0m\u001b[0mi\u001b[0m\u001b[1;33m]\u001b[0m\u001b[1;33m)\u001b[0m\u001b[1;33m)\u001b[0m\u001b[1;33m==\u001b[0m\u001b[1;34m'Fake'\u001b[0m \u001b[1;32melse\u001b[0m \u001b[1;36m0\u001b[0m \u001b[1;32mfor\u001b[0m \u001b[0mi\u001b[0m \u001b[1;32min\u001b[0m \u001b[0mrange\u001b[0m\u001b[1;33m(\u001b[0m\u001b[0mlen\u001b[0m\u001b[1;33m(\u001b[0m\u001b[0mdf_fake\u001b[0m\u001b[1;33m[\u001b[0m\u001b[1;34m'text'\u001b[0m\u001b[1;33m]\u001b[0m\u001b[1;33m)\u001b[0m\u001b[1;33m)\u001b[0m\u001b[1;33m]\u001b[0m\u001b[1;33m)\u001b[0m\u001b[1;33m/\u001b[0m\u001b[0mdf_fake\u001b[0m\u001b[1;33m[\u001b[0m\u001b[1;34m'text'\u001b[0m\u001b[1;33m]\u001b[0m\u001b[1;33m.\u001b[0m\u001b[0msize\u001b[0m\u001b[1;33m\u001b[0m\u001b[1;33m\u001b[0m\u001b[0m\n\u001b[0m",
      "\u001b[1;31mNameError\u001b[0m: name 'df_fake' is not defined"
     ]
    }
   ],
   "source": [
    "sum([1 if find_label((df_fake['text'][i]))=='False' else 0 for i in range(len(df_fake['text']))])/df_fake['text'].size"
   ]
  },
  {
   "cell_type": "code",
   "execution_count": 50,
   "metadata": {},
   "outputs": [],
   "source": [
    "#Only 16% times the model predicts the actual results as true for the unknown dataset which all the news are true\n",
    "#Only 28% times the model predicts the actual results as true for the unknown dataset which all the news are false"
   ]
  },
  {
   "cell_type": "code",
   "execution_count": null,
   "metadata": {},
   "outputs": [],
   "source": [
    "#So can't conclude only with the accuracy"
   ]
  }
 ],
 "metadata": {
  "kernelspec": {
   "display_name": "Python 3 (ipykernel)",
   "language": "python",
   "name": "python3"
  },
  "language_info": {
   "codemirror_mode": {
    "name": "ipython",
    "version": 3
   },
   "file_extension": ".py",
   "mimetype": "text/x-python",
   "name": "python",
   "nbconvert_exporter": "python",
   "pygments_lexer": "ipython3",
   "version": "3.11.2"
  }
 },
 "nbformat": 4,
 "nbformat_minor": 4
}
