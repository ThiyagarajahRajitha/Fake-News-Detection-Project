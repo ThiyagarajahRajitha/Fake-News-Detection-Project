{
 "cells": [
  {
   "cell_type": "code",
   "execution_count": 318,
   "id": "5b995184",
   "metadata": {},
   "outputs": [],
   "source": [
    "import pandas as pandas\n",
    "import numpy as np\n",
    "import pickle\n",
    "from sklearn.model_selection import KFold\n",
    "from sklearn.naive_bayes import MultinomialNB\n",
    "from sklearn import metrics\n",
    "from sklearn.pipeline import Pipeline\n",
    "from matplotlib import pyplot as plt\n",
    "from sklearn.feature_extraction.text import TfidfVectorizer\n",
    "from sklearn.model_selection import train_test_split\n",
    "from sklearn.metrics import accuracy_score, confusion_matrix\n",
    "from sklearn.model_selection import cross_val_score\n",
    "import string\n",
    "import re\n",
    "import nltk\n",
    "from nltk.corpus import stopwords\n",
    "import itertools as itertools"
   ]
  },
  {
   "cell_type": "code",
   "execution_count": 319,
   "id": "65129410",
   "metadata": {},
   "outputs": [
    {
     "name": "stdout",
     "output_type": "stream",
     "text": [
      "<class 'pandas.core.frame.DataFrame'>\n",
      "RangeIndex: 2596 entries, 0 to 2595\n",
      "Data columns (total 7 columns):\n",
      " #   Column      Non-Null Count  Dtype \n",
      "---  ------      --------------  ----- \n",
      " 0   myId        2596 non-null   int64 \n",
      " 1   id          2596 non-null   int64 \n",
      " 2   filename    2596 non-null   object\n",
      " 3   title       1301 non-null   object\n",
      " 4   text        2596 non-null   object\n",
      " 5   label_text  2596 non-null   object\n",
      " 6   label       2596 non-null   int64 \n",
      "dtypes: int64(3), object(4)\n",
      "memory usage: 142.1+ KB\n"
     ]
    },
    {
     "data": {
      "text/plain": [
       "0    Fake\n",
       "1    Real\n",
       "2    Real\n",
       "3    Fake\n",
       "4    Fake\n",
       "Name: label_text, dtype: object"
      ]
     },
     "execution_count": 319,
     "metadata": {},
     "output_type": "execute_result"
    },
    {
     "data": {
      "image/png": "[encoded data removed]",
      "text/plain": [
       "<Figure size 640x480 with 1 Axes>"
      ]
     },
     "metadata": {},
     "output_type": "display_data"
    }
   ],
   "source": [
    "df=pandas.read_csv('Final13022.csv',encoding='windows-1252')\n",
    "\n",
    "df.shape\n",
    "\n",
    "import seaborn as sb\n",
    "def create_distribution(datafile):\n",
    "    return sb.countplot(x='label_text',data =datafile, palette ='hls')\n",
    "create_distribution(df)\n",
    "\n",
    "def data_qualityCheck():\n",
    "    df.isnull().sum()\n",
    "    df.info()\n",
    "    \n",
    "data_qualityCheck()    \n",
    "\n",
    "y=df.label_text\n",
    "y.head()"
   ]
  },
  {
   "cell_type": "code",
   "execution_count": 320,
   "id": "dc83c4d1",
   "metadata": {},
   "outputs": [
    {
     "data": {
      "text/plain": [
       "211     In our previous analysis we warned traders tha...\n",
       "2460    You can maintain the alkaline state of the bod...\n",
       "846     There is no need for the public to wear surgic...\n",
       "1022    Under the category, the more things change, th...\n",
       "2235    Why you should not take seriously this card on...\n",
       "2591    Vitamin C with Zinc prevent and treat the coro...\n",
       "1468    Most quarantine decisions are up to states and...\n",
       "1905    It occurs to me that the world wide death rare...\n",
       "2419    The Simpsons have predicted the coronavirus pa...\n",
       "1837    A midshipman at the U.S. Naval Academy in Anna...\n",
       "Name: text, dtype: object"
      ]
     },
     "execution_count": 320,
     "metadata": {},
     "output_type": "execute_result"
    }
   ],
   "source": [
    "from sklearn.model_selection import train_test_split\n",
    "X_train, X_test,y_train, y_test=train_test_split(df['text'],y,test_size=0.20,random_state=9)\n",
    "\n",
    "y_test.head(10)\n",
    "\n",
    "X_train.head(10)"
   ]
  },
  {
   "cell_type": "code",
   "execution_count": 321,
   "id": "af805b09",
   "metadata": {},
   "outputs": [],
   "source": [
    "# Define a function to filter out non-English or gibberish words\n",
    "def filter_non_english(text):\n",
    "    english_word_pattern = re.compile(r'\\b[a-zA-Z]+\\b')\n",
    "    english_words = english_word_pattern.findall(text)\n",
    "    filtered_text = ' '.join(english_words)\n",
    "    return filtered_text\n",
    "\n",
    "# Filter the corpus to remove non-English or gibberish words\n",
    "filtered_corpus = [filter_non_english(text) for text in X_train]\n",
    "\n",
    "def remove_stopwords(text):\n",
    "    stop_words = set(stopwords.words('english'))\n",
    "    tokens = nltk.word_tokenize(text)\n",
    "    filtered_tokens = [word for word in tokens if word.lower() not in stop_words]\n",
    "    filtered_text = ' '.join(filtered_tokens)\n",
    "    return filtered_text\n",
    "\n",
    "def clean_data(text):\n",
    "    cleaned_corpus =[]\n",
    "    for tt in text:\n",
    "        cleaned_text =re.sub(r'[^\\w\\s]', '', tt.strip())#remove punctuation\n",
    "        cleaned_text=re.sub('\\n','',cleaned_text) #Remove New lines\n",
    "        cleaned_text=re.sub(r\"http\\S+\", \"\", cleaned_text) #to remove urls\n",
    "        cleaned_text = re.sub(r'\\b\\d+/\\d+\\b', '', cleaned_text)#remove numbers\n",
    "        cleaned_text = cleaned_text.lower()\n",
    "        cleaned_text = remove_stopwords(cleaned_text)\n",
    "        cleaned_corpus.append(cleaned_text)\n",
    "    return cleaned_corpus       \n",
    "\n",
    "CleanedCorpus = clean_data(filtered_corpus)"
   ]
  },
  {
   "cell_type": "code",
   "execution_count": 322,
   "id": "02b8e5e2",
   "metadata": {},
   "outputs": [
    {
     "data": {
      "text/plain": [
       "2076"
      ]
     },
     "execution_count": 322,
     "metadata": {},
     "output_type": "execute_result"
    }
   ],
   "source": [
    "tokenized_corpus = []   \n",
    "for sentence in CleanedCorpus:\n",
    "    tokens = nltk.word_tokenize(sentence)\n",
    "    tokenized_corpus.append(tokens)\n",
    "#len(tokenized_corpus)\n",
    "joined_tokens = [' '.join(tokens) for tokens in tokenized_corpus]\n"
   ]
  },
  {
   "cell_type": "code",
   "execution_count": 323,
   "id": "0f756a4a",
   "metadata": {},
   "outputs": [
    {
     "name": "stdout",
     "output_type": "stream",
     "text": [
      "[[0. 0. 0. ... 0. 0. 0.]\n",
      " [0. 0. 0. ... 0. 0. 0.]\n",
      " [0. 0. 0. ... 0. 0. 0.]\n",
      " ...\n",
      " [0. 0. 0. ... 0. 0. 0.]\n",
      " [0. 0. 0. ... 0. 0. 0.]\n",
      " [0. 0. 0. ... 0. 0. 0.]]\n",
      "['zoos' 'zs' 'zte' 'zuckerberg' 'zulfikar' 'zulu' 'zuo' 'zureikat'\n",
      " 'zverev' 'zweli']\n",
      "    aa  aaa  aadmi  aahuja  aai  aajtak  aameen  aana  aangirfan  aanirfan  \\\n",
      "0  0.0  0.0    0.0     0.0  0.0     0.0     0.0   0.0        0.0       0.0   \n",
      "1  0.0  0.0    0.0     0.0  0.0     0.0     0.0   0.0        0.0       0.0   \n",
      "2  0.0  0.0    0.0     0.0  0.0     0.0     0.0   0.0        0.0       0.0   \n",
      "3  0.0  0.0    0.0     0.0  0.0     0.0     0.0   0.0        0.0       0.0   \n",
      "4  0.0  0.0    0.0     0.0  0.0     0.0     0.0   0.0        0.0       0.0   \n",
      "\n",
      "   ...  zoos   zs  zte  zuckerberg  zulfikar  zulu  zuo  zureikat  zverev  \\\n",
      "0  ...   0.0  0.0  0.0         0.0       0.0   0.0  0.0       0.0     0.0   \n",
      "1  ...   0.0  0.0  0.0         0.0       0.0   0.0  0.0       0.0     0.0   \n",
      "2  ...   0.0  0.0  0.0         0.0       0.0   0.0  0.0       0.0     0.0   \n",
      "3  ...   0.0  0.0  0.0         0.0       0.0   0.0  0.0       0.0     0.0   \n",
      "4  ...   0.0  0.0  0.0         0.0       0.0   0.0  0.0       0.0     0.0   \n",
      "\n",
      "   zweli  \n",
      "0    0.0  \n",
      "1    0.0  \n",
      "2    0.0  \n",
      "3    0.0  \n",
      "4    0.0  \n",
      "\n",
      "[5 rows x 23817 columns]\n"
     ]
    }
   ],
   "source": [
    "tfidf_vectorizer = TfidfVectorizer(token_pattern=r'\\b[^\\d\\s]+\\b',stop_words = 'english', max_df = 0.8)\n",
    "tfidf_train = tfidf_vectorizer.fit_transform(joined_tokens)\n",
    "\n",
    "def get_tfidf_stats():\n",
    "    tfidf_train.shape\n",
    "    print(tfidf_train.A[:10])\n",
    "get_tfidf_stats()\n",
    "\n",
    "#get the extracted features\n",
    "print(tfidf_vectorizer.get_feature_names_out()[-10:])\n",
    "\n",
    "tfidf_df = pandas.DataFrame(tfidf_train.A,columns=tfidf_vectorizer.get_feature_names_out())\n",
    "print(tfidf_df.head())"
   ]
  },
  {
   "cell_type": "code",
   "execution_count": 324,
   "id": "a16a407d",
   "metadata": {},
   "outputs": [
    {
     "data": {
      "text/html": [
       "<style>#sk-container-id-8 {color: black;background-color: white;}#sk-container-id-8 pre{padding: 0;}#sk-container-id-8 div.sk-toggleable {background-color: white;}#sk-container-id-8 label.sk-toggleable__label {cursor: pointer;display: block;width: 100%;margin-bottom: 0;padding: 0.3em;box-sizing: border-box;text-align: center;}#sk-container-id-8 label.sk-toggleable__label-arrow:before {content: \"▸\";float: left;margin-right: 0.25em;color: #696969;}#sk-container-id-8 label.sk-toggleable__label-arrow:hover:before {color: black;}#sk-container-id-8 div.sk-estimator:hover label.sk-toggleable__label-arrow:before {color: black;}#sk-container-id-8 div.sk-toggleable__content {max-height: 0;max-width: 0;overflow: hidden;text-align: left;background-color: #f0f8ff;}#sk-container-id-8 div.sk-toggleable__content pre {margin: 0.2em;color: black;border-radius: 0.25em;background-color: #f0f8ff;}#sk-container-id-8 input.sk-toggleable__control:checked~div.sk-toggleable__content {max-height: 200px;max-width: 100%;overflow: auto;}#sk-container-id-8 input.sk-toggleable__control:checked~label.sk-toggleable__label-arrow:before {content: \"▾\";}#sk-container-id-8 div.sk-estimator input.sk-toggleable__control:checked~label.sk-toggleable__label {background-color: #d4ebff;}#sk-container-id-8 div.sk-label input.sk-toggleable__control:checked~label.sk-toggleable__label {background-color: #d4ebff;}#sk-container-id-8 input.sk-hidden--visually {border: 0;clip: rect(1px 1px 1px 1px);clip: rect(1px, 1px, 1px, 1px);height: 1px;margin: -1px;overflow: hidden;padding: 0;position: absolute;width: 1px;}#sk-container-id-8 div.sk-estimator {font-family: monospace;background-color: #f0f8ff;border: 1px dotted black;border-radius: 0.25em;box-sizing: border-box;margin-bottom: 0.5em;}#sk-container-id-8 div.sk-estimator:hover {background-color: #d4ebff;}#sk-container-id-8 div.sk-parallel-item::after {content: \"\";width: 100%;border-bottom: 1px solid gray;flex-grow: 1;}#sk-container-id-8 div.sk-label:hover label.sk-toggleable__label {background-color: #d4ebff;}#sk-container-id-8 div.sk-serial::before {content: \"\";position: absolute;border-left: 1px solid gray;box-sizing: border-box;top: 0;bottom: 0;left: 50%;z-index: 0;}#sk-container-id-8 div.sk-serial {display: flex;flex-direction: column;align-items: center;background-color: white;padding-right: 0.2em;padding-left: 0.2em;position: relative;}#sk-container-id-8 div.sk-item {position: relative;z-index: 1;}#sk-container-id-8 div.sk-parallel {display: flex;align-items: stretch;justify-content: center;background-color: white;position: relative;}#sk-container-id-8 div.sk-item::before, #sk-container-id-8 div.sk-parallel-item::before {content: \"\";position: absolute;border-left: 1px solid gray;box-sizing: border-box;top: 0;bottom: 0;left: 50%;z-index: -1;}#sk-container-id-8 div.sk-parallel-item {display: flex;flex-direction: column;z-index: 1;position: relative;background-color: white;}#sk-container-id-8 div.sk-parallel-item:first-child::after {align-self: flex-end;width: 50%;}#sk-container-id-8 div.sk-parallel-item:last-child::after {align-self: flex-start;width: 50%;}#sk-container-id-8 div.sk-parallel-item:only-child::after {width: 0;}#sk-container-id-8 div.sk-dashed-wrapped {border: 1px dashed gray;margin: 0 0.4em 0.5em 0.4em;box-sizing: border-box;padding-bottom: 0.4em;background-color: white;}#sk-container-id-8 div.sk-label label {font-family: monospace;font-weight: bold;display: inline-block;line-height: 1.2em;}#sk-container-id-8 div.sk-label-container {text-align: center;}#sk-container-id-8 div.sk-container {/* jupyter's `normalize.less` sets `[hidden] { display: none; }` but bootstrap.min.css set `[hidden] { display: none !important; }` so we also need the `!important` here to be able to override the default hidden behavior on the sphinx rendered scikit-learn.org. See: https://github.com/scikit-learn/scikit-learn/issues/21755 */display: inline-block !important;position: relative;}#sk-container-id-8 div.sk-text-repr-fallback {display: none;}</style><div id=\"sk-container-id-8\" class=\"sk-top-container\"><div class=\"sk-text-repr-fallback\"><pre>Pipeline(steps=[(&#x27;NBTV&#x27;,\n",
       "                 TfidfVectorizer(max_df=0.8, stop_words=&#x27;english&#x27;,\n",
       "                                 token_pattern=&#x27;\\\\b[^\\\\d\\\\s]+\\\\b&#x27;)),\n",
       "                (&#x27;nb_clf&#x27;, MultinomialNB())])</pre><b>In a Jupyter environment, please rerun this cell to show the HTML representation or trust the notebook. <br />On GitHub, the HTML representation is unable to render, please try loading this page with nbviewer.org.</b></div><div class=\"sk-container\" hidden><div class=\"sk-item sk-dashed-wrapped\"><div class=\"sk-label-container\"><div class=\"sk-label sk-toggleable\"><input class=\"sk-toggleable__control sk-hidden--visually\" id=\"sk-estimator-id-22\" type=\"checkbox\" ><label for=\"sk-estimator-id-22\" class=\"sk-toggleable__label sk-toggleable__label-arrow\">Pipeline</label><div class=\"sk-toggleable__content\"><pre>Pipeline(steps=[(&#x27;NBTV&#x27;,\n",
       "                 TfidfVectorizer(max_df=0.8, stop_words=&#x27;english&#x27;,\n",
       "                                 token_pattern=&#x27;\\\\b[^\\\\d\\\\s]+\\\\b&#x27;)),\n",
       "                (&#x27;nb_clf&#x27;, MultinomialNB())])</pre></div></div></div><div class=\"sk-serial\"><div class=\"sk-item\"><div class=\"sk-estimator sk-toggleable\"><input class=\"sk-toggleable__control sk-hidden--visually\" id=\"sk-estimator-id-23\" type=\"checkbox\" ><label for=\"sk-estimator-id-23\" class=\"sk-toggleable__label sk-toggleable__label-arrow\">TfidfVectorizer</label><div class=\"sk-toggleable__content\"><pre>TfidfVectorizer(max_df=0.8, stop_words=&#x27;english&#x27;,\n",
       "                token_pattern=&#x27;\\\\b[^\\\\d\\\\s]+\\\\b&#x27;)</pre></div></div></div><div class=\"sk-item\"><div class=\"sk-estimator sk-toggleable\"><input class=\"sk-toggleable__control sk-hidden--visually\" id=\"sk-estimator-id-24\" type=\"checkbox\" ><label for=\"sk-estimator-id-24\" class=\"sk-toggleable__label sk-toggleable__label-arrow\">MultinomialNB</label><div class=\"sk-toggleable__content\"><pre>MultinomialNB()</pre></div></div></div></div></div></div></div>"
      ],
      "text/plain": [
       "Pipeline(steps=[('NBTV',\n",
       "                 TfidfVectorizer(max_df=0.8, stop_words='english',\n",
       "                                 token_pattern='\\\\b[^\\\\d\\\\s]+\\\\b')),\n",
       "                ('nb_clf', MultinomialNB())])"
      ]
     },
     "execution_count": 324,
     "metadata": {},
     "output_type": "execute_result"
    }
   ],
   "source": [
    "#builing naive classifier model\n",
    "nb_pipeline = Pipeline([('NBTV',tfidf_vectorizer),('nb_clf', MultinomialNB())])\n",
    "nb_pipeline.fit(joined_tokens, y_train)"
   ]
  },
  {
   "cell_type": "code",
   "execution_count": 325,
   "id": "9fd9ffdc",
   "metadata": {},
   "outputs": [
    {
     "data": {
      "text/html": [
       "<div>\n",
       "<style scoped>\n",
       "    .dataframe tbody tr th:only-of-type {\n",
       "        vertical-align: middle;\n",
       "    }\n",
       "\n",
       "    .dataframe tbody tr th {\n",
       "        vertical-align: top;\n",
       "    }\n",
       "\n",
       "    .dataframe thead th {\n",
       "        text-align: right;\n",
       "    }\n",
       "</style>\n",
       "<table border=\"1\" class=\"dataframe\">\n",
       "  <thead>\n",
       "    <tr style=\"text-align: right;\">\n",
       "      <th></th>\n",
       "      <th>aa</th>\n",
       "      <th>aaa</th>\n",
       "      <th>aadmi</th>\n",
       "      <th>aahuja</th>\n",
       "      <th>aai</th>\n",
       "      <th>aajtak</th>\n",
       "      <th>aameen</th>\n",
       "      <th>aana</th>\n",
       "      <th>aangirfan</th>\n",
       "      <th>aanirfan</th>\n",
       "      <th>...</th>\n",
       "      <th>zoos</th>\n",
       "      <th>zs</th>\n",
       "      <th>zte</th>\n",
       "      <th>zuckerberg</th>\n",
       "      <th>zulfikar</th>\n",
       "      <th>zulu</th>\n",
       "      <th>zuo</th>\n",
       "      <th>zureikat</th>\n",
       "      <th>zverev</th>\n",
       "      <th>zweli</th>\n",
       "    </tr>\n",
       "  </thead>\n",
       "  <tbody>\n",
       "    <tr>\n",
       "      <th>0</th>\n",
       "      <td>0.0</td>\n",
       "      <td>0.0</td>\n",
       "      <td>0.0</td>\n",
       "      <td>0.0</td>\n",
       "      <td>0.0</td>\n",
       "      <td>0.0</td>\n",
       "      <td>0.0</td>\n",
       "      <td>0.0</td>\n",
       "      <td>0.0</td>\n",
       "      <td>0.0</td>\n",
       "      <td>...</td>\n",
       "      <td>0.0</td>\n",
       "      <td>0.0</td>\n",
       "      <td>0.0</td>\n",
       "      <td>0.0</td>\n",
       "      <td>0.0</td>\n",
       "      <td>0.0</td>\n",
       "      <td>0.0</td>\n",
       "      <td>0.0</td>\n",
       "      <td>0.0</td>\n",
       "      <td>0.0</td>\n",
       "    </tr>\n",
       "    <tr>\n",
       "      <th>1</th>\n",
       "      <td>0.0</td>\n",
       "      <td>0.0</td>\n",
       "      <td>0.0</td>\n",
       "      <td>0.0</td>\n",
       "      <td>0.0</td>\n",
       "      <td>0.0</td>\n",
       "      <td>0.0</td>\n",
       "      <td>0.0</td>\n",
       "      <td>0.0</td>\n",
       "      <td>0.0</td>\n",
       "      <td>...</td>\n",
       "      <td>0.0</td>\n",
       "      <td>0.0</td>\n",
       "      <td>0.0</td>\n",
       "      <td>0.0</td>\n",
       "      <td>0.0</td>\n",
       "      <td>0.0</td>\n",
       "      <td>0.0</td>\n",
       "      <td>0.0</td>\n",
       "      <td>0.0</td>\n",
       "      <td>0.0</td>\n",
       "    </tr>\n",
       "    <tr>\n",
       "      <th>2</th>\n",
       "      <td>0.0</td>\n",
       "      <td>0.0</td>\n",
       "      <td>0.0</td>\n",
       "      <td>0.0</td>\n",
       "      <td>0.0</td>\n",
       "      <td>0.0</td>\n",
       "      <td>0.0</td>\n",
       "      <td>0.0</td>\n",
       "      <td>0.0</td>\n",
       "      <td>0.0</td>\n",
       "      <td>...</td>\n",
       "      <td>0.0</td>\n",
       "      <td>0.0</td>\n",
       "      <td>0.0</td>\n",
       "      <td>0.0</td>\n",
       "      <td>0.0</td>\n",
       "      <td>0.0</td>\n",
       "      <td>0.0</td>\n",
       "      <td>0.0</td>\n",
       "      <td>0.0</td>\n",
       "      <td>0.0</td>\n",
       "    </tr>\n",
       "    <tr>\n",
       "      <th>3</th>\n",
       "      <td>0.0</td>\n",
       "      <td>0.0</td>\n",
       "      <td>0.0</td>\n",
       "      <td>0.0</td>\n",
       "      <td>0.0</td>\n",
       "      <td>0.0</td>\n",
       "      <td>0.0</td>\n",
       "      <td>0.0</td>\n",
       "      <td>0.0</td>\n",
       "      <td>0.0</td>\n",
       "      <td>...</td>\n",
       "      <td>0.0</td>\n",
       "      <td>0.0</td>\n",
       "      <td>0.0</td>\n",
       "      <td>0.0</td>\n",
       "      <td>0.0</td>\n",
       "      <td>0.0</td>\n",
       "      <td>0.0</td>\n",
       "      <td>0.0</td>\n",
       "      <td>0.0</td>\n",
       "      <td>0.0</td>\n",
       "    </tr>\n",
       "    <tr>\n",
       "      <th>4</th>\n",
       "      <td>0.0</td>\n",
       "      <td>0.0</td>\n",
       "      <td>0.0</td>\n",
       "      <td>0.0</td>\n",
       "      <td>0.0</td>\n",
       "      <td>0.0</td>\n",
       "      <td>0.0</td>\n",
       "      <td>0.0</td>\n",
       "      <td>0.0</td>\n",
       "      <td>0.0</td>\n",
       "      <td>...</td>\n",
       "      <td>0.0</td>\n",
       "      <td>0.0</td>\n",
       "      <td>0.0</td>\n",
       "      <td>0.0</td>\n",
       "      <td>0.0</td>\n",
       "      <td>0.0</td>\n",
       "      <td>0.0</td>\n",
       "      <td>0.0</td>\n",
       "      <td>0.0</td>\n",
       "      <td>0.0</td>\n",
       "    </tr>\n",
       "  </tbody>\n",
       "</table>\n",
       "<p>5 rows × 23817 columns</p>\n",
       "</div>"
      ],
      "text/plain": [
       "    aa  aaa  aadmi  aahuja  aai  aajtak  aameen  aana  aangirfan  aanirfan  \\\n",
       "0  0.0  0.0    0.0     0.0  0.0     0.0     0.0   0.0        0.0       0.0   \n",
       "1  0.0  0.0    0.0     0.0  0.0     0.0     0.0   0.0        0.0       0.0   \n",
       "2  0.0  0.0    0.0     0.0  0.0     0.0     0.0   0.0        0.0       0.0   \n",
       "3  0.0  0.0    0.0     0.0  0.0     0.0     0.0   0.0        0.0       0.0   \n",
       "4  0.0  0.0    0.0     0.0  0.0     0.0     0.0   0.0        0.0       0.0   \n",
       "\n",
       "   ...  zoos   zs  zte  zuckerberg  zulfikar  zulu  zuo  zureikat  zverev  \\\n",
       "0  ...   0.0  0.0  0.0         0.0       0.0   0.0  0.0       0.0     0.0   \n",
       "1  ...   0.0  0.0  0.0         0.0       0.0   0.0  0.0       0.0     0.0   \n",
       "2  ...   0.0  0.0  0.0         0.0       0.0   0.0  0.0       0.0     0.0   \n",
       "3  ...   0.0  0.0  0.0         0.0       0.0   0.0  0.0       0.0     0.0   \n",
       "4  ...   0.0  0.0  0.0         0.0       0.0   0.0  0.0       0.0     0.0   \n",
       "\n",
       "   zweli  \n",
       "0    0.0  \n",
       "1    0.0  \n",
       "2    0.0  \n",
       "3    0.0  \n",
       "4    0.0  \n",
       "\n",
       "[5 rows x 23817 columns]"
      ]
     },
     "execution_count": 325,
     "metadata": {},
     "output_type": "execute_result"
    }
   ],
   "source": [
    "#Test data\n",
    "filtered_Testcorpus = [filter_non_english(text) for text in X_test]\n",
    "CleanedTestDate = clean_data(filtered_Testcorpus)    \n",
    "tokenized_corpus_test = []   \n",
    "for sentence in CleanedTestDate:\n",
    "    tokens = nltk.word_tokenize(sentence)\n",
    "    tokenized_corpus_test.append(tokens)\n",
    "\n",
    "joined_tokens_test = [' '.join(tokens) for tokens in tokenized_corpus_test]\n",
    "    \n",
    "tfidf_test = tfidf_vectorizer.transform(joined_tokens_test)\n",
    "tfidf_test\n",
    "\n",
    "tfidf_test_df=pandas.DataFrame(tfidf_test.A,columns=tfidf_vectorizer.get_feature_names_out())\n",
    "tfidf_test_df.head()"
   ]
  },
  {
   "cell_type": "code",
   "execution_count": 326,
   "id": "598d9532",
   "metadata": {},
   "outputs": [
    {
     "name": "stdout",
     "output_type": "stream",
     "text": [
      "Accuracy: 75.19%\n"
     ]
    }
   ],
   "source": [
    "#test vector\n",
    "predicted_nbt = nb_pipeline.predict(joined_tokens_test)\n",
    "score = metrics.accuracy_score(y_test,predicted_nbt)\n",
    "print(f'Accuracy: {round(score*100,2)}%')"
   ]
  },
  {
   "cell_type": "code",
   "execution_count": 327,
   "id": "7abdb07f",
   "metadata": {},
   "outputs": [
    {
     "data": {
      "text/plain": [
       "array([[146, 101],\n",
       "       [ 28, 245]], dtype=int64)"
      ]
     },
     "execution_count": 327,
     "metadata": {},
     "output_type": "execute_result"
    }
   ],
   "source": [
    "cm = metrics.confusion_matrix(y_test.to_numpy(),predicted_nbt,labels=['Fake','Real'])\n",
    "cm"
   ]
  },
  {
   "cell_type": "code",
   "execution_count": 328,
   "id": "85448c71",
   "metadata": {},
   "outputs": [
    {
     "name": "stdout",
     "output_type": "stream",
     "text": [
      "Confusion matrix without normalization\n"
     ]
    },
    {
     "data": {
      "image/png": "[encoded data removed]",
      "text/plain": [
       "<Figure size 640x480 with 2 Axes>"
      ]
     },
     "metadata": {},
     "output_type": "display_data"
    }
   ],
   "source": [
    "#plot confusion matrix function\n",
    "def plot_confusion_matrix(cm, classes, normalize=False,\n",
    "                         title='Confusion matrix',\n",
    "                         cmap=plt.cm.Blues):\n",
    "    plt.imshow(cm,interpolation = 'nearest', cmap = cmap)\n",
    "    plt.title(title)\n",
    "    plt.colorbar()\n",
    "    tick_marks = np.arange(2)\n",
    "    plt.xticks(tick_marks,classes, rotation=45)\n",
    "    plt.yticks(tick_marks,classes)\n",
    "    \n",
    "    if normalize:\n",
    "        cm = cm.astype('float')/cm.sum(axis=1)[:,np.newaxis]\n",
    "        print(\"Normalized confusion matrix\")\n",
    "    else:\n",
    "        print(\"Confusion matrix without normalization\")\n",
    "    \n",
    "    thresh=cm.max()/2.\n",
    "    for i,j in itertools.product(range(cm.shape[0]),range(cm.shape[1])):\n",
    "        plt.text(j,i,cm[i,j],\n",
    "                horizontalalignment = \"center\",\n",
    "                color= \"white\" if cm[i,j]>thresh else \"black\")\n",
    "        \n",
    "    plt.tight_layout()\n",
    "    plt.ylabel('True label')\n",
    "    plt.xlabel('Fake label')\n",
    "    \n",
    "\n",
    "plot_confusion_matrix(cm,classes=['Fake','Real'])"
   ]
  },
  {
   "cell_type": "code",
   "execution_count": 329,
   "id": "45b401e5",
   "metadata": {},
   "outputs": [
    {
     "name": "stdout",
     "output_type": "stream",
     "text": [
      "              precision    recall  f1-score   support\n",
      "\n",
      "        Fake       0.84      0.59      0.69       247\n",
      "        Real       0.71      0.90      0.79       273\n",
      "\n",
      "    accuracy                           0.75       520\n",
      "   macro avg       0.77      0.74      0.74       520\n",
      "weighted avg       0.77      0.75      0.75       520\n",
      "\n"
     ]
    }
   ],
   "source": [
    "print(metrics.classification_report(y_test,predicted_nbt))"
   ]
  }
 ],
 "metadata": {
  "kernelspec": {
   "display_name": "Python 3 (ipykernel)",
   "language": "python",
   "name": "python3"
  },
  "language_info": {
   "codemirror_mode": {
    "name": "ipython",
    "version": 3
   },
   "file_extension": ".py",
   "mimetype": "text/x-python",
   "name": "python",
   "nbconvert_exporter": "python",
   "pygments_lexer": "ipython3",
   "version": "3.11.1"
  }
 },
 "nbformat": 4,
 "nbformat_minor": 5
}
