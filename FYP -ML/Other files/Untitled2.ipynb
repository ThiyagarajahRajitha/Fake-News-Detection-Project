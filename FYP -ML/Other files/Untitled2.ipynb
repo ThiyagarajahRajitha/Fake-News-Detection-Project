{
 "cells": [
  {
   "cell_type": "code",
   "execution_count": 3,
   "id": "4dbcd3c3",
   "metadata": {},
   "outputs": [],
   "source": [
    "import pandas as pandas\n",
    "df=pandas.read_csv('Final13022.csv',encoding='windows-1252')"
   ]
  },
  {
   "cell_type": "code",
   "execution_count": 4,
   "id": "88c672bc",
   "metadata": {},
   "outputs": [
    {
     "data": {
      "text/plain": [
       "(2596, 7)"
      ]
     },
     "execution_count": 4,
     "metadata": {},
     "output_type": "execute_result"
    }
   ],
   "source": [
    "df.shape"
   ]
  },
  {
   "cell_type": "code",
   "execution_count": 3,
   "id": "81288903",
   "metadata": {},
   "outputs": [],
   "source": [
    "conversion_dict={0:'False',1:'True'}"
   ]
  },
  {
   "cell_type": "code",
   "execution_count": 4,
   "id": "295d5956",
   "metadata": {},
   "outputs": [],
   "source": [
    "df['label']=df['label'].replace(conversion_dict)#Replace 1,0 to real and fake"
   ]
  },
  {
   "cell_type": "code",
   "execution_count": 1,
   "id": "8f0af150",
   "metadata": {},
   "outputs": [
    {
     "ename": "NameError",
     "evalue": "name 'df' is not defined",
     "output_type": "error",
     "traceback": [
      "\u001b[1;31m---------------------------------------------------------------------------\u001b[0m",
      "\u001b[1;31mNameError\u001b[0m                                 Traceback (most recent call last)",
      "Cell \u001b[1;32mIn[1], line 1\u001b[0m\n\u001b[1;32m----> 1\u001b[0m \u001b[43mdf\u001b[49m\u001b[38;5;241m.\u001b[39mshape\n",
      "\u001b[1;31mNameError\u001b[0m: name 'df' is not defined"
     ]
    }
   ],
   "source": [
    "df.shape"
   ]
  },
  {
   "cell_type": "code",
   "execution_count": 7,
   "id": "03585238",
   "metadata": {},
   "outputs": [
    {
     "data": {
      "text/plain": [
       "<Axes: xlabel='label_text', ylabel='count'>"
      ]
     },
     "execution_count": 7,
     "metadata": {},
     "output_type": "execute_result"
    },
    {
     "data": {
      "image/png": "[encoded data removed]",
      "text/plain": [
       "<Figure size 640x480 with 1 Axes>"
      ]
     },
     "metadata": {},
     "output_type": "display_data"
    }
   ],
   "source": [
    "import seaborn as sb\n",
    "def create_distribution(datafile):\n",
    "    return sb.countplot(x='label_text',data =datafile, palette ='hls')\n",
    "create_distribution(df)"
   ]
  },
  {
   "cell_type": "code",
   "execution_count": 8,
   "id": "0c193bff",
   "metadata": {},
   "outputs": [
    {
     "name": "stdout",
     "output_type": "stream",
     "text": [
      "<class 'pandas.core.frame.DataFrame'>\n",
      "RangeIndex: 2596 entries, 0 to 2595\n",
      "Data columns (total 7 columns):\n",
      " #   Column      Non-Null Count  Dtype \n",
      "---  ------      --------------  ----- \n",
      " 0   myId        2596 non-null   int64 \n",
      " 1   id          2596 non-null   int64 \n",
      " 2   filename    2596 non-null   object\n",
      " 3   title       1301 non-null   object\n",
      " 4   text        2596 non-null   object\n",
      " 5   label_text  2596 non-null   object\n",
      " 6   label       2596 non-null   int64 \n",
      "dtypes: int64(3), object(4)\n",
      "memory usage: 142.1+ KB\n"
     ]
    }
   ],
   "source": [
    "def data_qualityCheck():\n",
    "    df.isnull().sum()\n",
    "    df.info()\n",
    "    \n",
    "data_qualityCheck()    "
   ]
  },
  {
   "cell_type": "code",
   "execution_count": 10,
   "id": "b4f74595",
   "metadata": {},
   "outputs": [
    {
     "data": {
      "text/plain": [
       "0    Fake\n",
       "1    Real\n",
       "2    Real\n",
       "3    Fake\n",
       "4    Fake\n",
       "Name: label_text, dtype: object"
      ]
     },
     "execution_count": 10,
     "metadata": {},
     "output_type": "execute_result"
    }
   ],
   "source": [
    "y=df.label_text\n",
    "y.head()"
   ]
  },
  {
   "cell_type": "code",
   "execution_count": 12,
   "id": "8a411a3f",
   "metadata": {},
   "outputs": [
    {
     "data": {
      "text/html": [
       "<div>\n",
       "<style scoped>\n",
       "    .dataframe tbody tr th:only-of-type {\n",
       "        vertical-align: middle;\n",
       "    }\n",
       "\n",
       "    .dataframe tbody tr th {\n",
       "        vertical-align: top;\n",
       "    }\n",
       "\n",
       "    .dataframe thead th {\n",
       "        text-align: right;\n",
       "    }\n",
       "</style>\n",
       "<table border=\"1\" class=\"dataframe\">\n",
       "  <thead>\n",
       "    <tr style=\"text-align: right;\">\n",
       "      <th></th>\n",
       "      <th>myId</th>\n",
       "      <th>id</th>\n",
       "      <th>filename</th>\n",
       "      <th>title</th>\n",
       "      <th>text</th>\n",
       "      <th>label</th>\n",
       "    </tr>\n",
       "  </thead>\n",
       "  <tbody>\n",
       "    <tr>\n",
       "      <th>0</th>\n",
       "      <td>1</td>\n",
       "      <td>0</td>\n",
       "      <td>1_fake_new_dataset_3120</td>\n",
       "      <td>FACEBOOK DELETES MICHIGAN ANTI-LOCKDOWN GROUP ...</td>\n",
       "      <td>Facebook has shuttered a popular group for Mic...</td>\n",
       "      <td>0</td>\n",
       "    </tr>\n",
       "    <tr>\n",
       "      <th>1</th>\n",
       "      <td>2</td>\n",
       "      <td>1</td>\n",
       "      <td>1_fake_new_dataset_3120</td>\n",
       "      <td>Other Viewpoints: COVID-19 is worse than the flu</td>\n",
       "      <td>We can now officially put to rest all comparis...</td>\n",
       "      <td>1</td>\n",
       "    </tr>\n",
       "    <tr>\n",
       "      <th>2</th>\n",
       "      <td>3</td>\n",
       "      <td>2</td>\n",
       "      <td>1_fake_new_dataset_3120</td>\n",
       "      <td>Bermuda's COVID-19 cases surpass 100</td>\n",
       "      <td>The Ministry of Health in Bermuda has confirme...</td>\n",
       "      <td>1</td>\n",
       "    </tr>\n",
       "    <tr>\n",
       "      <th>3</th>\n",
       "      <td>5</td>\n",
       "      <td>4</td>\n",
       "      <td>1_fake_new_dataset_3120</td>\n",
       "      <td>THE HIGH COST OF LOCKING DOWN AMERICA: “WE’VE ...</td>\n",
       "      <td>Locking down much of the country may have help...</td>\n",
       "      <td>0</td>\n",
       "    </tr>\n",
       "    <tr>\n",
       "      <th>4</th>\n",
       "      <td>6</td>\n",
       "      <td>5</td>\n",
       "      <td>1_fake_new_dataset_3120</td>\n",
       "      <td>NY TIMES WORRIES HALF OF AMERICANS WILL REFUSE...</td>\n",
       "      <td>The New York Times has published an article by...</td>\n",
       "      <td>0</td>\n",
       "    </tr>\n",
       "    <tr>\n",
       "      <th>...</th>\n",
       "      <td>...</td>\n",
       "      <td>...</td>\n",
       "      <td>...</td>\n",
       "      <td>...</td>\n",
       "      <td>...</td>\n",
       "      <td>...</td>\n",
       "    </tr>\n",
       "    <tr>\n",
       "      <th>2591</th>\n",
       "      <td>4409</td>\n",
       "      <td>4056</td>\n",
       "      <td>2_news_4129</td>\n",
       "      <td>NaN</td>\n",
       "      <td>Vitamin C with Zinc prevent and treat the coro...</td>\n",
       "      <td>0</td>\n",
       "    </tr>\n",
       "    <tr>\n",
       "      <th>2592</th>\n",
       "      <td>4410</td>\n",
       "      <td>4059</td>\n",
       "      <td>2_news_4129</td>\n",
       "      <td>NaN</td>\n",
       "      <td>Video of a girl dying of coronavirus in a shop...</td>\n",
       "      <td>0</td>\n",
       "    </tr>\n",
       "    <tr>\n",
       "      <th>2593</th>\n",
       "      <td>4411</td>\n",
       "      <td>4062</td>\n",
       "      <td>2_news_4129</td>\n",
       "      <td>NaN</td>\n",
       "      <td>The first patient diagnosed with COVID-19 was ...</td>\n",
       "      <td>0</td>\n",
       "    </tr>\n",
       "    <tr>\n",
       "      <th>2594</th>\n",
       "      <td>4412</td>\n",
       "      <td>4063</td>\n",
       "      <td>2_news_4129</td>\n",
       "      <td>NaN</td>\n",
       "      <td>You no longer need to have contact with someon...</td>\n",
       "      <td>0</td>\n",
       "    </tr>\n",
       "    <tr>\n",
       "      <th>2595</th>\n",
       "      <td>4413</td>\n",
       "      <td>4067</td>\n",
       "      <td>2_news_4129</td>\n",
       "      <td>NaN</td>\n",
       "      <td>Video of a girl dying of coronavirus</td>\n",
       "      <td>0</td>\n",
       "    </tr>\n",
       "  </tbody>\n",
       "</table>\n",
       "<p>2596 rows × 6 columns</p>\n",
       "</div>"
      ],
      "text/plain": [
       "      myId    id                 filename  \\\n",
       "0        1     0  1_fake_new_dataset_3120   \n",
       "1        2     1  1_fake_new_dataset_3120   \n",
       "2        3     2  1_fake_new_dataset_3120   \n",
       "3        5     4  1_fake_new_dataset_3120   \n",
       "4        6     5  1_fake_new_dataset_3120   \n",
       "...    ...   ...                      ...   \n",
       "2591  4409  4056              2_news_4129   \n",
       "2592  4410  4059              2_news_4129   \n",
       "2593  4411  4062              2_news_4129   \n",
       "2594  4412  4063              2_news_4129   \n",
       "2595  4413  4067              2_news_4129   \n",
       "\n",
       "                                                  title  \\\n",
       "0     FACEBOOK DELETES MICHIGAN ANTI-LOCKDOWN GROUP ...   \n",
       "1      Other Viewpoints: COVID-19 is worse than the flu   \n",
       "2                  Bermuda's COVID-19 cases surpass 100   \n",
       "3     THE HIGH COST OF LOCKING DOWN AMERICA: “WE’VE ...   \n",
       "4     NY TIMES WORRIES HALF OF AMERICANS WILL REFUSE...   \n",
       "...                                                 ...   \n",
       "2591                                                NaN   \n",
       "2592                                                NaN   \n",
       "2593                                                NaN   \n",
       "2594                                                NaN   \n",
       "2595                                                NaN   \n",
       "\n",
       "                                                   text  label  \n",
       "0     Facebook has shuttered a popular group for Mic...      0  \n",
       "1     We can now officially put to rest all comparis...      1  \n",
       "2     The Ministry of Health in Bermuda has confirme...      1  \n",
       "3     Locking down much of the country may have help...      0  \n",
       "4     The New York Times has published an article by...      0  \n",
       "...                                                 ...    ...  \n",
       "2591  Vitamin C with Zinc prevent and treat the coro...      0  \n",
       "2592  Video of a girl dying of coronavirus in a shop...      0  \n",
       "2593  The first patient diagnosed with COVID-19 was ...      0  \n",
       "2594  You no longer need to have contact with someon...      0  \n",
       "2595               Video of a girl dying of coronavirus      0  \n",
       "\n",
       "[2596 rows x 6 columns]"
      ]
     },
     "execution_count": 12,
     "metadata": {},
     "output_type": "execute_result"
    }
   ],
   "source": [
    "df.drop(\"label_text\",axis=1)"
   ]
  },
  {
   "cell_type": "code",
   "execution_count": 13,
   "id": "9c994499",
   "metadata": {},
   "outputs": [],
   "source": [
    "from sklearn.model_selection import train_test_split\n",
    "X_train, X_test,y_train, y_test=train_test_split(df['text'],y,test_size=0.20,random_state=9)"
   ]
  },
  {
   "cell_type": "code",
   "execution_count": 14,
   "id": "d80e98df",
   "metadata": {},
   "outputs": [
    {
     "data": {
      "text/plain": [
       "211     In our previous analysis we warned traders tha...\n",
       "2460    You can maintain the alkaline state of the bod...\n",
       "846     There is no need for the public to wear surgic...\n",
       "1022    Under the category, the more things change, th...\n",
       "2235    Why you should not take seriously this card on...\n",
       "2591    Vitamin C with Zinc prevent and treat the coro...\n",
       "1468    Most quarantine decisions are up to states and...\n",
       "1905    It occurs to me that the world wide death rare...\n",
       "2419    The Simpsons have predicted the coronavirus pa...\n",
       "1837    A midshipman at the U.S. Naval Academy in Anna...\n",
       "Name: text, dtype: object"
      ]
     },
     "execution_count": 14,
     "metadata": {},
     "output_type": "execute_result"
    }
   ],
   "source": [
    "X_train.head(10)"
   ]
  },
  {
   "cell_type": "code",
   "execution_count": 15,
   "id": "6a3d5225",
   "metadata": {},
   "outputs": [
    {
     "data": {
      "text/plain": [
       "969     An uproar took place in a kindergarten in Rish...\n",
       "709     The 2019 novel coronavirus is a new virus that...\n",
       "1655         Nah. DJT said its all set. CDC is in control\n",
       "721     While there is no scientific link that connect...\n",
       "2589    The Chinese company Ruilan Bao Hu San Biotech ...\n",
       "1314    The Trump administration recently announced pl...\n",
       "2468      The Chinese accept Islam en masse (20 millions)\n",
       "589     “When you've got had current vacation to Wuhan...\n",
       "2242       You can get coronavirus from makeup and creams\n",
       "151     Traditional infection-control and public healt...\n",
       "Name: text, dtype: object"
      ]
     },
     "execution_count": 15,
     "metadata": {},
     "output_type": "execute_result"
    }
   ],
   "source": [
    "X_test.head(10)"
   ]
  },
  {
   "cell_type": "code",
   "execution_count": 21,
   "id": "0a76a8d3",
   "metadata": {},
   "outputs": [
    {
     "name": "stdout",
     "output_type": "stream",
     "text": [
      "CountVectorizer(stop_words='english')\n",
      "  (0, 18010)\t1\n",
      "  (0, 2105)\t3\n",
      "  (0, 24683)\t1\n",
      "  (0, 23259)\t1\n",
      "  (0, 14396)\t1\n",
      "  (0, 18792)\t1\n",
      "  (0, 13946)\t1\n",
      "  (0, 6005)\t1\n",
      "  (0, 21928)\t1\n",
      "  (0, 14526)\t1\n",
      "  (0, 7666)\t1\n",
      "  (0, 15164)\t1\n",
      "  (0, 4128)\t3\n",
      "  (0, 15318)\t1\n",
      "  (0, 14881)\t1\n",
      "  (0, 25248)\t1\n",
      "  (0, 19721)\t1\n",
      "  (0, 13527)\t1\n",
      "  (0, 19862)\t1\n",
      "  (0, 21515)\t1\n",
      "  (0, 4215)\t1\n",
      "  (0, 21762)\t1\n",
      "  (0, 391)\t1\n",
      "  (0, 15660)\t1\n",
      "  (0, 10306)\t2\n",
      "  :\t:\n",
      "  (2075, 2904)\t1\n",
      "  (2075, 19065)\t1\n",
      "  (2075, 13862)\t1\n",
      "  (2075, 8662)\t1\n",
      "  (2075, 20986)\t2\n",
      "  (2075, 1402)\t1\n",
      "  (2075, 1662)\t1\n",
      "  (2075, 9479)\t1\n",
      "  (2075, 15991)\t1\n",
      "  (2075, 6111)\t1\n",
      "  (2075, 17704)\t1\n",
      "  (2075, 17410)\t1\n",
      "  (2075, 4428)\t1\n",
      "  (2075, 12030)\t2\n",
      "  (2075, 10645)\t2\n",
      "  (2075, 4960)\t1\n",
      "  (2075, 5037)\t1\n",
      "  (2075, 20233)\t1\n",
      "  (2075, 2418)\t1\n",
      "  (2075, 10125)\t1\n",
      "  (2075, 10449)\t2\n",
      "  (2075, 4969)\t2\n",
      "  (2075, 19282)\t1\n",
      "  (2075, 10646)\t1\n",
      "  (2075, 5039)\t1\n"
     ]
    }
   ],
   "source": [
    "from sklearn.feature_extraction.text import CountVectorizer\n",
    "count_vectorizer = CountVectorizer(stop_words='english')\n",
    "count_train = count_vectorizer.fit_transform(X_train)\n",
    "print(count_vectorizer)\n",
    "print(count_train)"
   ]
  },
  {
   "cell_type": "code",
   "execution_count": 5,
   "id": "0f3c66f9",
   "metadata": {},
   "outputs": [],
   "source": [
    "corpus = df['text'].tolist()\n",
    "labels = df['label'].tolist()"
   ]
  },
  {
   "cell_type": "code",
   "execution_count": 10,
   "id": "388c7ef7",
   "metadata": {},
   "outputs": [],
   "source": [
    "from sklearn.model_selection import train_test_split\n",
    "X_train, X_test,y_train, y_test=train_test_split(corpus,labels,test_size=0.20,random_state=9,shuffle=True)"
   ]
  },
  {
   "cell_type": "code",
   "execution_count": 12,
   "id": "7978ca13",
   "metadata": {},
   "outputs": [],
   "source": [
    "import pandas as pandas\n",
    "from sklearn.feature_extraction.text import TfidfVectorizer\n",
    "from sklearn.model_selection import train_test_split\n",
    "from sklearn.metrics import accuracy_score, confusion_matrix\n",
    "from sklearn.model_selection import cross_val_score\n",
    "import string\n",
    "import re\n",
    "import nltk\n",
    "from nltk.corpus import stopwords"
   ]
  },
  {
   "cell_type": "code",
   "execution_count": 24,
   "id": "e0f3c4f7",
   "metadata": {},
   "outputs": [],
   "source": [
    "def remove_stopwords(text):\n",
    "    stop_words = set(stopwords.words('english'))\n",
    "    tokens = nltk.word_tokenize(text)\n",
    "    filtered_tokens = [word for word in tokens if word.lower() not in stop_words]\n",
    "    filtered_text = ' '.join(filtered_tokens)\n",
    "    return filtered_text"
   ]
  },
  {
   "cell_type": "code",
   "execution_count": 25,
   "id": "6df506dd",
   "metadata": {},
   "outputs": [],
   "source": [
    "cleaned_corpus =[]\n",
    "for tt in X_train:\n",
    "    cleaned_text =re.sub(r'[^\\w\\s]', '', tt)#remove punctuation\n",
    "    cleaned_text=re.sub('\\n','',cleaned_text) #Remove New lines\n",
    "    cleaned_text = cleaned_text.lower()\n",
    "    cleaned_text = remove_stopwords(cleaned_text)\n",
    "    cleaned_corpus.append(cleaned_text)\n"
   ]
  },
  {
   "cell_type": "code",
   "execution_count": 27,
   "id": "a96f180c",
   "metadata": {},
   "outputs": [],
   "source": [
    "tokenized_corpus = []   \n",
    "for sentence in cleaned_corpus:\n",
    "    tokens = nltk.word_tokenize(sentence)\n",
    "    tokenized_corpus.append(tokens)"
   ]
  },
  {
   "cell_type": "code",
   "execution_count": 32,
   "id": "6d673281",
   "metadata": {},
   "outputs": [
    {
     "data": {
      "text/plain": [
       "<2076x36369 sparse matrix of type '<class 'numpy.float64'>'\n",
       "\twith 216393 stored elements in Compressed Sparse Row format>"
      ]
     },
     "execution_count": 32,
     "metadata": {},
     "output_type": "execute_result"
    }
   ],
   "source": [
    "tfidf_vectorizer=TfidfVectorizer()\n",
    "Xt_vec = tfidf_vectorizer.fit_transform([' '.join(tokens) for tokens in tokenized_corpus])\n",
    "Xt_vec"
   ]
  },
  {
   "cell_type": "code",
   "execution_count": 33,
   "id": "63f51ee2",
   "metadata": {},
   "outputs": [
    {
     "data": {
      "text/html": [
       "<style>#sk-container-id-1 {color: black;background-color: white;}#sk-container-id-1 pre{padding: 0;}#sk-container-id-1 div.sk-toggleable {background-color: white;}#sk-container-id-1 label.sk-toggleable__label {cursor: pointer;display: block;width: 100%;margin-bottom: 0;padding: 0.3em;box-sizing: border-box;text-align: center;}#sk-container-id-1 label.sk-toggleable__label-arrow:before {content: \"▸\";float: left;margin-right: 0.25em;color: #696969;}#sk-container-id-1 label.sk-toggleable__label-arrow:hover:before {color: black;}#sk-container-id-1 div.sk-estimator:hover label.sk-toggleable__label-arrow:before {color: black;}#sk-container-id-1 div.sk-toggleable__content {max-height: 0;max-width: 0;overflow: hidden;text-align: left;background-color: #f0f8ff;}#sk-container-id-1 div.sk-toggleable__content pre {margin: 0.2em;color: black;border-radius: 0.25em;background-color: #f0f8ff;}#sk-container-id-1 input.sk-toggleable__control:checked~div.sk-toggleable__content {max-height: 200px;max-width: 100%;overflow: auto;}#sk-container-id-1 input.sk-toggleable__control:checked~label.sk-toggleable__label-arrow:before {content: \"▾\";}#sk-container-id-1 div.sk-estimator input.sk-toggleable__control:checked~label.sk-toggleable__label {background-color: #d4ebff;}#sk-container-id-1 div.sk-label input.sk-toggleable__control:checked~label.sk-toggleable__label {background-color: #d4ebff;}#sk-container-id-1 input.sk-hidden--visually {border: 0;clip: rect(1px 1px 1px 1px);clip: rect(1px, 1px, 1px, 1px);height: 1px;margin: -1px;overflow: hidden;padding: 0;position: absolute;width: 1px;}#sk-container-id-1 div.sk-estimator {font-family: monospace;background-color: #f0f8ff;border: 1px dotted black;border-radius: 0.25em;box-sizing: border-box;margin-bottom: 0.5em;}#sk-container-id-1 div.sk-estimator:hover {background-color: #d4ebff;}#sk-container-id-1 div.sk-parallel-item::after {content: \"\";width: 100%;border-bottom: 1px solid gray;flex-grow: 1;}#sk-container-id-1 div.sk-label:hover label.sk-toggleable__label {background-color: #d4ebff;}#sk-container-id-1 div.sk-serial::before {content: \"\";position: absolute;border-left: 1px solid gray;box-sizing: border-box;top: 0;bottom: 0;left: 50%;z-index: 0;}#sk-container-id-1 div.sk-serial {display: flex;flex-direction: column;align-items: center;background-color: white;padding-right: 0.2em;padding-left: 0.2em;position: relative;}#sk-container-id-1 div.sk-item {position: relative;z-index: 1;}#sk-container-id-1 div.sk-parallel {display: flex;align-items: stretch;justify-content: center;background-color: white;position: relative;}#sk-container-id-1 div.sk-item::before, #sk-container-id-1 div.sk-parallel-item::before {content: \"\";position: absolute;border-left: 1px solid gray;box-sizing: border-box;top: 0;bottom: 0;left: 50%;z-index: -1;}#sk-container-id-1 div.sk-parallel-item {display: flex;flex-direction: column;z-index: 1;position: relative;background-color: white;}#sk-container-id-1 div.sk-parallel-item:first-child::after {align-self: flex-end;width: 50%;}#sk-container-id-1 div.sk-parallel-item:last-child::after {align-self: flex-start;width: 50%;}#sk-container-id-1 div.sk-parallel-item:only-child::after {width: 0;}#sk-container-id-1 div.sk-dashed-wrapped {border: 1px dashed gray;margin: 0 0.4em 0.5em 0.4em;box-sizing: border-box;padding-bottom: 0.4em;background-color: white;}#sk-container-id-1 div.sk-label label {font-family: monospace;font-weight: bold;display: inline-block;line-height: 1.2em;}#sk-container-id-1 div.sk-label-container {text-align: center;}#sk-container-id-1 div.sk-container {/* jupyter's `normalize.less` sets `[hidden] { display: none; }` but bootstrap.min.css set `[hidden] { display: none !important; }` so we also need the `!important` here to be able to override the default hidden behavior on the sphinx rendered scikit-learn.org. See: https://github.com/scikit-learn/scikit-learn/issues/21755 */display: inline-block !important;position: relative;}#sk-container-id-1 div.sk-text-repr-fallback {display: none;}</style><div id=\"sk-container-id-1\" class=\"sk-top-container\"><div class=\"sk-text-repr-fallback\"><pre>KNeighborsClassifier(n_neighbors=2)</pre><b>In a Jupyter environment, please rerun this cell to show the HTML representation or trust the notebook. <br />On GitHub, the HTML representation is unable to render, please try loading this page with nbviewer.org.</b></div><div class=\"sk-container\" hidden><div class=\"sk-item\"><div class=\"sk-estimator sk-toggleable\"><input class=\"sk-toggleable__control sk-hidden--visually\" id=\"sk-estimator-id-1\" type=\"checkbox\" checked><label for=\"sk-estimator-id-1\" class=\"sk-toggleable__label sk-toggleable__label-arrow\">KNeighborsClassifier</label><div class=\"sk-toggleable__content\"><pre>KNeighborsClassifier(n_neighbors=2)</pre></div></div></div></div></div>"
      ],
      "text/plain": [
       "KNeighborsClassifier(n_neighbors=2)"
      ]
     },
     "execution_count": 33,
     "metadata": {},
     "output_type": "execute_result"
    }
   ],
   "source": [
    "from sklearn.neighbors import KNeighborsClassifier\n",
    "global knn\n",
    "knn=KNeighborsClassifier(n_neighbors=2)\n",
    "knn.fit(Xt_vec,y_train)"
   ]
  },
  {
   "cell_type": "code",
   "execution_count": 36,
   "id": "2e2c16d0",
   "metadata": {},
   "outputs": [
    {
     "data": {
      "text/plain": [
       "['Delhi: Eight nurses test positive for Covid-19 at Kalawati Saran Hospital. Another nurse at the Kalawati Saran Hospital in central Delhi has tested positive for Covid-19, taking to eight the total number of nurses there affected by the highly infectious disease. At least 8 nurses at Kalawati Saran Hospital have tested positive for novel coronavirus , a source told IANS on Sunday, adding that the nurses had been working at the hospitals paediatric ward. Their tests were conducted at the Lady Hardinge Hospital. All are now admitted in the isolation ward and their contacts have been traced and sent for home isolation.There are many healthcare workers who have tested positive for novel coronavirus, however, the government has not released any separate data on them. The source said: Now we have to face this. Sometimes a doctor test is turning positive, another time it is a nurse. We have been fighting on the forefront.The largest number of infected hospital workers has been reported from Babu Jagjivan Ram Memorial Hospital where as many as 58 staffers, including doctors and nurses, of the hospital have tested positive for coronavirus, Of them, 70 per cent were asymptomatic. Prior to this, a doctor and two nurses from the Lok Nayak Hospital had tested positive. Other hospitals in the national capital that have reported positive cases of novel coronavirus amongst health workers are the Ram Manohar Lohia Hospital , Safdarjung Hospital, Max Hospital, Sir Ganga Ram Hospital, and various Mohalla clinic etc.']"
      ]
     },
     "execution_count": 36,
     "metadata": {},
     "output_type": "execute_result"
    }
   ],
   "source": [
    "news='Delhi: Eight nurses test positive for Covid-19 at Kalawati Saran Hospital. Another nurse at the Kalawati Saran Hospital in central Delhi has tested positive for Covid-19, taking to eight the total number of nurses there affected by the highly infectious disease. At least 8 nurses at Kalawati Saran Hospital have tested positive for novel coronavirus , a source told IANS on Sunday, adding that the nurses had been working at the hospitals paediatric ward. Their tests were conducted at the Lady Hardinge Hospital. All are now admitted in the isolation ward and their contacts have been traced and sent for home isolation.There are many healthcare workers who have tested positive for novel coronavirus, however, the government has not released any separate data on them. The source said: Now we have to face this. Sometimes a doctor test is turning positive, another time it is a nurse. We have been fighting on the forefront.The largest number of infected hospital workers has been reported from Babu Jagjivan Ram Memorial Hospital where as many as 58 staffers, including doctors and nurses, of the hospital have tested positive for coronavirus, Of them, 70 per cent were asymptomatic. Prior to this, a doctor and two nurses from the Lok Nayak Hospital had tested positive. Other hospitals in the national capital that have reported positive cases of novel coronavirus amongst health workers are the Ram Manohar Lohia Hospital , Safdarjung Hospital, Max Hospital, Sir Ganga Ram Hospital, and various Mohalla clinic etc.'\n",
    "testData = [news]\n",
    "testData"
   ]
  },
  {
   "cell_type": "code",
   "execution_count": 38,
   "id": "f4d3ae58",
   "metadata": {},
   "outputs": [
    {
     "data": {
      "text/plain": [
       "['delhi eight nurses test positive covid19 kalawati saran hospital another nurse kalawati saran hospital central delhi tested positive covid19 taking eight total number nurses affected highly infectious disease least 8 nurses kalawati saran hospital tested positive novel coronavirus source told ians sunday adding nurses working hospitals paediatric ward tests conducted lady hardinge hospital admitted isolation ward contacts traced sent home isolationthere many healthcare workers tested positive novel coronavirus however government released separate data source said face sometimes doctor test turning positive another time nurse fighting forefrontthe largest number infected hospital workers reported babu jagjivan ram memorial hospital many 58 staffers including doctors nurses hospital tested positive coronavirus 70 per cent asymptomatic prior doctor two nurses lok nayak hospital tested positive hospitals national capital reported positive cases novel coronavirus amongst health workers ram manohar lohia hospital safdarjung hospital max hospital sir ganga ram hospital various mohalla clinic etc']"
      ]
     },
     "execution_count": 38,
     "metadata": {},
     "output_type": "execute_result"
    }
   ],
   "source": [
    "cleaned_text = []\n",
    "\n",
    "for tt in testData:\n",
    "    cleaned =re.sub(r'[^\\w\\s]', '', tt)#remove punctuation\n",
    "    cleaned=re.sub('\\n','',cleaned) #Remove New lines\n",
    "    cleaned = cleaned.lower()\n",
    "    cleaned = remove_stopwords(cleaned)\n",
    "    cleaned_text.append(cleaned)\n",
    "\n",
    "cleaned_text    "
   ]
  },
  {
   "cell_type": "code",
   "execution_count": 39,
   "id": "5bb95e52",
   "metadata": {},
   "outputs": [
    {
     "data": {
      "text/plain": [
       "<1x36369 sparse matrix of type '<class 'numpy.float64'>'\n",
       "\twith 91 stored elements in Compressed Sparse Row format>"
      ]
     },
     "execution_count": 39,
     "metadata": {},
     "output_type": "execute_result"
    }
   ],
   "source": [
    "tokenized_text = []   \n",
    "for sentence in cleaned_text:\n",
    "    tokens = nltk.word_tokenize(sentence)\n",
    "    tokenized_text.append(tokens)\n",
    "    \n",
    "newTest_X = tfidf_vectorizer.transform([' '.join(tokens) for tokens in tokenized_text])\n",
    "newTest_X"
   ]
  },
  {
   "cell_type": "code",
   "execution_count": 42,
   "id": "86e830c6",
   "metadata": {},
   "outputs": [
    {
     "data": {
      "text/plain": [
       "array(['False'], dtype='<U5')"
      ]
     },
     "execution_count": 42,
     "metadata": {},
     "output_type": "execute_result"
    }
   ],
   "source": [
    "y_pred=knn.predict(newTest_X)\n",
    "y_pred"
   ]
  },
  {
   "cell_type": "code",
   "execution_count": 43,
   "id": "97414365",
   "metadata": {},
   "outputs": [
    {
     "data": {
      "text/plain": [
       "['officially put rest comparisons covid19 influenza coronavirus killing americans flu almost everything else according data compiled washington post covid19 secondleading cause death americathe upward march numbers steady disturbing week march 16 covid19 didnt rank among 15 common causes death next week ranked seventh following week moved third week april 6 covid19 killed people anything besides heart diseasethese numbers tragic milestone theyre also verdict attempts downplay severity event messaging political leaders media voices early outbreak comparing flu wrong might wellintentioned efforts keep people panicking point moot nowcoronavirus formidable public health threat generation time minimizing time aggressive testing social distancing hopefully soon treatment']"
      ]
     },
     "execution_count": 43,
     "metadata": {},
     "output_type": "execute_result"
    }
   ],
   "source": [
    "news1='We can now officially put to rest all comparisons of COVID-19 to influenza. Coronavirus is killing more Americans than the flu and almost everything else. According to data compiled by the Washington Post, COVID-19 is now the second-leading cause of death in America.The upward march of these numbers is steady and disturbing. The week of March 16, COVID-19 didn’t rank among the 15 most common causes of death. The next week, it ranked seventh. The following week, it moved up to third. The week of April 6, COVID-19 killed more people than anything besides heart disease.These numbers are a tragic milestone, and they’re also a verdict on attempts to downplay the severity of this event. Messaging from political leaders and some media voices early in this outbreak comparing it to the flu were wrong. They might have been well-intentioned efforts to keep people from panicking, but that point is moot now.Coronavirus is the most formidable public health threat in a generation. The time for minimizing is over. The time for aggressive testing, social distancing and (hopefully soon) treatment is now.'\n",
    "testData = [news1]\n",
    "cleaned_text = []\n",
    "\n",
    "for tt in testData:\n",
    "    cleaned =re.sub(r'[^\\w\\s]', '', tt)#remove punctuation\n",
    "    cleaned=re.sub('\\n','',cleaned) #Remove New lines\n",
    "    cleaned = cleaned.lower()\n",
    "    cleaned = remove_stopwords(cleaned)\n",
    "    cleaned_text.append(cleaned)\n",
    "\n",
    "cleaned_text  "
   ]
  },
  {
   "cell_type": "code",
   "execution_count": 45,
   "id": "9570fc9f",
   "metadata": {},
   "outputs": [
    {
     "data": {
      "text/plain": [
       "<1x36369 sparse matrix of type '<class 'numpy.float64'>'\n",
       "\twith 88 stored elements in Compressed Sparse Row format>"
      ]
     },
     "execution_count": 45,
     "metadata": {},
     "output_type": "execute_result"
    }
   ],
   "source": [
    "tokenized_text = []   \n",
    "for sentence in cleaned_text:\n",
    "    tokens = nltk.word_tokenize(sentence)\n",
    "    tokenized_text.append(tokens)\n",
    "    \n",
    "newTest_X = tfidf_vectorizer.transform([' '.join(tokens) for tokens in tokenized_text])\n",
    "newTest_X"
   ]
  },
  {
   "cell_type": "code",
   "execution_count": 46,
   "id": "cb58d325",
   "metadata": {},
   "outputs": [
    {
     "data": {
      "text/plain": [
       "array(['False'], dtype='<U5')"
      ]
     },
     "execution_count": 46,
     "metadata": {},
     "output_type": "execute_result"
    }
   ],
   "source": [
    "y_pred=knn.predict(newTest_X)\n",
    "y_pred"
   ]
  },
  {
   "cell_type": "code",
   "execution_count": null,
   "id": "c03805d0",
   "metadata": {},
   "outputs": [],
   "source": []
  }
 ],
 "metadata": {
  "kernelspec": {
   "display_name": "Python 3 (ipykernel)",
   "language": "python",
   "name": "python3"
  },
  "language_info": {
   "codemirror_mode": {
    "name": "ipython",
    "version": 3
   },
   "file_extension": ".py",
   "mimetype": "text/x-python",
   "name": "python",
   "nbconvert_exporter": "python",
   "pygments_lexer": "ipython3",
   "version": "3.11.1"
  }
 },
 "nbformat": 4,
 "nbformat_minor": 5
}
