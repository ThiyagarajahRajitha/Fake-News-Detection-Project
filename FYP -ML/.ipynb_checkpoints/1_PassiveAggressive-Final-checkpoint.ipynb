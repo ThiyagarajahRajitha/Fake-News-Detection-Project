{
 "cells": [
  {
   "cell_type": "code",
   "execution_count": 1,
   "metadata": {},
   "outputs": [
    {
     "name": "stdout",
     "output_type": "stream",
     "text": [
      "Requirement already satisfied: numpy in c:\\users\\thiya\\appdata\\local\\programs\\python\\python311\\lib\\site-packages (1.24.2)\n",
      "Note: you may need to restart the kernel to use updated packages.\n"
     ]
    },
    {
     "name": "stderr",
     "output_type": "stream",
     "text": [
      "\n",
      "[notice] A new release of pip is available: 23.0.1 -> 23.1\n",
      "[notice] To update, run: python.exe -m pip install --upgrade pip\n"
     ]
    }
   ],
   "source": [
    "pip install numpy"
   ]
  },
  {
   "cell_type": "code",
   "execution_count": 2,
   "metadata": {},
   "outputs": [
    {
     "name": "stdout",
     "output_type": "stream",
     "text": [
      "Requirement already satisfied: pandas in c:\\users\\thiya\\appdata\\local\\programs\\python\\python311\\lib\\site-packages (1.5.3)\n",
      "Requirement already satisfied: python-dateutil>=2.8.1 in c:\\users\\thiya\\appdata\\local\\programs\\python\\python311\\lib\\site-packages (from pandas) (2.8.2)\n",
      "Requirement already satisfied: pytz>=2020.1 in c:\\users\\thiya\\appdata\\local\\programs\\python\\python311\\lib\\site-packages (from pandas) (2022.7.1)\n",
      "Requirement already satisfied: numpy>=1.21.0 in c:\\users\\thiya\\appdata\\local\\programs\\python\\python311\\lib\\site-packages (from pandas) (1.24.2)\n",
      "Requirement already satisfied: six>=1.5 in c:\\users\\thiya\\appdata\\local\\programs\\python\\python311\\lib\\site-packages (from python-dateutil>=2.8.1->pandas) (1.16.0)\n"
     ]
    },
    {
     "name": "stderr",
     "output_type": "stream",
     "text": [
      "\n",
      "[notice] A new release of pip is available: 23.0.1 -> 23.1\n",
      "[notice] To update, run: python.exe -m pip install --upgrade pip\n"
     ]
    }
   ],
   "source": [
    "!pip install pandas"
   ]
  },
  {
   "cell_type": "code",
   "execution_count": 3,
   "metadata": {},
   "outputs": [],
   "source": [
    "import numpy as np\n",
    "import pandas as pd"
   ]
  },
  {
   "cell_type": "code",
   "execution_count": 4,
   "metadata": {},
   "outputs": [
    {
     "name": "stdout",
     "output_type": "stream",
     "text": [
      "Requirement already satisfied: numpy in c:\\users\\thiya\\appdata\\local\\programs\\python\\python311\\lib\\site-packages (1.24.2)\n"
     ]
    },
    {
     "name": "stderr",
     "output_type": "stream",
     "text": [
      "\n",
      "[notice] A new release of pip is available: 23.0.1 -> 23.1\n",
      "[notice] To update, run: python.exe -m pip install --upgrade pip\n"
     ]
    }
   ],
   "source": [
    "!pip install numpy"
   ]
  },
  {
   "cell_type": "code",
   "execution_count": 5,
   "metadata": {},
   "outputs": [
    {
     "name": "stdout",
     "output_type": "stream",
     "text": [
      "Requirement already satisfied: scikit-learn in c:\\users\\thiya\\appdata\\local\\programs\\python\\python311\\lib\\site-packages (1.2.1)\n",
      "Collecting scikit-learn\n",
      "  Downloading scikit_learn-1.2.2-cp311-cp311-win_amd64.whl (8.3 MB)\n",
      "     ---------------------------------------- 0.0/8.3 MB ? eta -:--:--\n",
      "     ---------------------------------------- 0.0/8.3 MB 1.3 MB/s eta 0:00:07\n",
      "     ---------------------------------------- 0.0/8.3 MB 1.3 MB/s eta 0:00:07\n",
      "     ---------------------------------------- 0.0/8.3 MB 279.3 kB/s eta 0:00:30\n",
      "     ---------------------------------------- 0.1/8.3 MB 328.2 kB/s eta 0:00:25\n",
      "     ---------------------------------------- 0.1/8.3 MB 435.7 kB/s eta 0:00:19\n",
      "     ---------------------------------------- 0.1/8.3 MB 435.7 kB/s eta 0:00:19\n",
      "     ---------------------------------------- 0.1/8.3 MB 435.7 kB/s eta 0:00:19\n",
      "      --------------------------------------- 0.1/8.3 MB 343.4 kB/s eta 0:00:24\n",
      "      --------------------------------------- 0.2/8.3 MB 398.2 kB/s eta 0:00:21\n",
      "      --------------------------------------- 0.2/8.3 MB 398.2 kB/s eta 0:00:21\n",
      "      --------------------------------------- 0.2/8.3 MB 398.2 kB/s eta 0:00:21\n",
      "      --------------------------------------- 0.2/8.3 MB 337.8 kB/s eta 0:00:24\n",
      "     - -------------------------------------- 0.2/8.3 MB 424.3 kB/s eta 0:00:19\n",
      "     - -------------------------------------- 0.3/8.3 MB 478.3 kB/s eta 0:00:17\n",
      "     - -------------------------------------- 0.3/8.3 MB 478.3 kB/s eta 0:00:17\n",
      "     - -------------------------------------- 0.3/8.3 MB 499.5 kB/s eta 0:00:16\n",
      "     -- ------------------------------------- 0.4/8.3 MB 597.2 kB/s eta 0:00:14\n",
      "     -- ------------------------------------- 0.6/8.3 MB 723.6 kB/s eta 0:00:11\n",
      "     -- ------------------------------------- 0.6/8.3 MB 737.3 kB/s eta 0:00:11\n",
      "     --- ------------------------------------ 0.6/8.3 MB 754.4 kB/s eta 0:00:11\n",
      "     --- ------------------------------------ 0.7/8.3 MB 830.9 kB/s eta 0:00:10\n",
      "     ---- ----------------------------------- 0.8/8.3 MB 904.2 kB/s eta 0:00:09\n",
      "     ---- ----------------------------------- 0.9/8.3 MB 956.3 kB/s eta 0:00:08\n",
      "     ---- ----------------------------------- 1.0/8.3 MB 998.0 kB/s eta 0:00:08\n",
      "     ----- ---------------------------------- 1.1/8.3 MB 1.1 MB/s eta 0:00:07\n",
      "     ----- ---------------------------------- 1.2/8.3 MB 1.1 MB/s eta 0:00:07\n",
      "     ------ --------------------------------- 1.4/8.3 MB 1.2 MB/s eta 0:00:06\n",
      "     ------- -------------------------------- 1.5/8.3 MB 1.3 MB/s eta 0:00:06\n",
      "     ------- -------------------------------- 1.6/8.3 MB 1.3 MB/s eta 0:00:05\n",
      "     -------- ------------------------------- 1.7/8.3 MB 1.4 MB/s eta 0:00:05\n",
      "     -------- ------------------------------- 1.8/8.3 MB 1.4 MB/s eta 0:00:05\n",
      "     --------- ------------------------------ 1.9/8.3 MB 1.4 MB/s eta 0:00:05\n",
      "     --------- ------------------------------ 2.0/8.3 MB 1.5 MB/s eta 0:00:05\n",
      "     ---------- ----------------------------- 2.1/8.3 MB 1.5 MB/s eta 0:00:05\n",
      "     ----------- ---------------------------- 2.3/8.3 MB 1.6 MB/s eta 0:00:04\n",
      "     ----------- ---------------------------- 2.4/8.3 MB 1.6 MB/s eta 0:00:04\n",
      "     ------------ --------------------------- 2.5/8.3 MB 1.6 MB/s eta 0:00:04\n",
      "     ------------ --------------------------- 2.7/8.3 MB 1.7 MB/s eta 0:00:04\n",
      "     ------------- -------------------------- 2.8/8.3 MB 1.7 MB/s eta 0:00:04\n",
      "     -------------- ------------------------- 2.9/8.3 MB 1.8 MB/s eta 0:00:04\n",
      "     -------------- ------------------------- 3.1/8.3 MB 1.8 MB/s eta 0:00:03\n",
      "     --------------- ------------------------ 3.2/8.3 MB 1.8 MB/s eta 0:00:03\n",
      "     --------------- ------------------------ 3.2/8.3 MB 1.8 MB/s eta 0:00:03\n",
      "     ---------------- ----------------------- 3.4/8.3 MB 1.8 MB/s eta 0:00:03\n",
      "     ---------------- ----------------------- 3.5/8.3 MB 1.9 MB/s eta 0:00:03\n",
      "     ----------------- ---------------------- 3.6/8.3 MB 1.9 MB/s eta 0:00:03\n",
      "     ------------------ --------------------- 3.7/8.3 MB 1.9 MB/s eta 0:00:03\n",
      "     ------------------ --------------------- 3.8/8.3 MB 1.9 MB/s eta 0:00:03\n",
      "     ------------------ --------------------- 3.9/8.3 MB 1.9 MB/s eta 0:00:03\n",
      "     ------------------- -------------------- 4.0/8.3 MB 1.9 MB/s eta 0:00:03\n",
      "     ------------------- -------------------- 4.1/8.3 MB 1.9 MB/s eta 0:00:03\n",
      "     -------------------- ------------------- 4.2/8.3 MB 1.9 MB/s eta 0:00:03\n",
      "     -------------------- ------------------- 4.2/8.3 MB 1.9 MB/s eta 0:00:03\n",
      "     -------------------- ------------------- 4.3/8.3 MB 1.9 MB/s eta 0:00:03\n",
      "     --------------------- ------------------ 4.4/8.3 MB 1.9 MB/s eta 0:00:03\n",
      "     --------------------- ------------------ 4.5/8.3 MB 1.9 MB/s eta 0:00:02\n",
      "     --------------------- ------------------ 4.5/8.3 MB 1.9 MB/s eta 0:00:02\n",
      "     ---------------------- ----------------- 4.6/8.3 MB 1.9 MB/s eta 0:00:02\n",
      "     ---------------------- ----------------- 4.7/8.3 MB 1.9 MB/s eta 0:00:02\n",
      "     ----------------------- ---------------- 4.8/8.3 MB 1.9 MB/s eta 0:00:02\n",
      "     ----------------------- ---------------- 4.8/8.3 MB 1.9 MB/s eta 0:00:02\n",
      "     ----------------------- ---------------- 4.9/8.3 MB 1.9 MB/s eta 0:00:02\n",
      "     ------------------------ --------------- 5.0/8.3 MB 1.9 MB/s eta 0:00:02\n",
      "     ------------------------ --------------- 5.0/8.3 MB 1.9 MB/s eta 0:00:02\n",
      "     ------------------------ --------------- 5.1/8.3 MB 1.9 MB/s eta 0:00:02\n",
      "     ------------------------- -------------- 5.2/8.3 MB 1.9 MB/s eta 0:00:02\n",
      "     ------------------------- -------------- 5.3/8.3 MB 1.9 MB/s eta 0:00:02\n",
      "     ------------------------- -------------- 5.3/8.3 MB 1.9 MB/s eta 0:00:02\n",
      "     -------------------------- ------------- 5.4/8.3 MB 1.9 MB/s eta 0:00:02\n",
      "     -------------------------- ------------- 5.4/8.3 MB 1.9 MB/s eta 0:00:02\n",
      "     -------------------------- ------------- 5.4/8.3 MB 1.9 MB/s eta 0:00:02\n",
      "     -------------------------- ------------- 5.4/8.3 MB 1.9 MB/s eta 0:00:02\n",
      "     -------------------------- ------------- 5.4/8.3 MB 1.9 MB/s eta 0:00:02\n",
      "     -------------------------- ------------- 5.4/8.3 MB 1.9 MB/s eta 0:00:02\n",
      "     -------------------------- ------------- 5.4/8.3 MB 1.9 MB/s eta 0:00:02\n",
      "     -------------------------- ------------- 5.4/8.3 MB 1.9 MB/s eta 0:00:02\n",
      "     -------------------------- ------------- 5.4/8.3 MB 1.9 MB/s eta 0:00:02\n",
      "     -------------------------- ------------- 5.4/8.3 MB 1.9 MB/s eta 0:00:02\n",
      "     -------------------------- ------------- 5.4/8.3 MB 1.9 MB/s eta 0:00:02\n",
      "     -------------------------- ------------- 5.4/8.3 MB 1.9 MB/s eta 0:00:02\n",
      "     -------------------------- ------------- 5.4/8.3 MB 1.9 MB/s eta 0:00:02\n",
      "     -------------------------- ------------- 5.4/8.3 MB 1.9 MB/s eta 0:00:02\n",
      "     ---------------------------- ----------- 5.9/8.3 MB 1.7 MB/s eta 0:00:02\n",
      "     --------------------------------- ------ 6.9/8.3 MB 2.0 MB/s eta 0:00:01\n",
      "     --------------------------------- ------ 7.0/8.3 MB 2.0 MB/s eta 0:00:01\n",
      "     ---------------------------------- ----- 7.1/8.3 MB 2.0 MB/s eta 0:00:01\n",
      "     ---------------------------------- ----- 7.2/8.3 MB 2.0 MB/s eta 0:00:01\n",
      "     ----------------------------------- ---- 7.3/8.3 MB 2.0 MB/s eta 0:00:01\n",
      "     ----------------------------------- ---- 7.4/8.3 MB 2.0 MB/s eta 0:00:01\n",
      "     ------------------------------------ --- 7.5/8.3 MB 2.0 MB/s eta 0:00:01\n",
      "     ------------------------------------- -- 7.7/8.3 MB 2.0 MB/s eta 0:00:01\n",
      "     ------------------------------------- -- 7.8/8.3 MB 2.0 MB/s eta 0:00:01\n",
      "     ------------------------------------- -- 7.8/8.3 MB 2.0 MB/s eta 0:00:01\n",
      "     -------------------------------------- - 7.9/8.3 MB 2.0 MB/s eta 0:00:01\n",
      "     -------------------------------------- - 8.0/8.3 MB 2.0 MB/s eta 0:00:01\n",
      "     ---------------------------------------  8.1/8.3 MB 2.0 MB/s eta 0:00:01\n",
      "     ---------------------------------------  8.2/8.3 MB 2.0 MB/s eta 0:00:01\n",
      "     ---------------------------------------  8.3/8.3 MB 2.0 MB/s eta 0:00:01\n",
      "     ---------------------------------------- 8.3/8.3 MB 2.0 MB/s eta 0:00:00\n",
      "Requirement already satisfied: scipy in c:\\users\\thiya\\appdata\\local\\programs\\python\\python311\\lib\\site-packages (1.10.1)\n",
      "Requirement already satisfied: matplotlib in c:\\users\\thiya\\appdata\\local\\programs\\python\\python311\\lib\\site-packages (3.7.0)\n",
      "Collecting matplotlib\n",
      "  Downloading matplotlib-3.7.1-cp311-cp311-win_amd64.whl (7.6 MB)\n",
      "     ---------------------------------------- 0.0/7.6 MB ? eta -:--:--\n",
      "     ---------------------------------------- 0.1/7.6 MB 1.7 MB/s eta 0:00:05\n",
      "     - -------------------------------------- 0.2/7.6 MB 2.3 MB/s eta 0:00:04\n",
      "     - -------------------------------------- 0.3/7.6 MB 2.5 MB/s eta 0:00:03\n",
      "     -- ------------------------------------- 0.4/7.6 MB 2.3 MB/s eta 0:00:04\n",
      "     -- ------------------------------------- 0.5/7.6 MB 2.6 MB/s eta 0:00:03\n",
      "     --- ------------------------------------ 0.6/7.6 MB 2.4 MB/s eta 0:00:03\n",
      "     --- ------------------------------------ 0.6/7.6 MB 2.0 MB/s eta 0:00:04\n",
      "     --- ------------------------------------ 0.6/7.6 MB 1.9 MB/s eta 0:00:04\n",
      "     --- ------------------------------------ 0.7/7.6 MB 1.7 MB/s eta 0:00:05\n",
      "     --- ------------------------------------ 0.7/7.6 MB 1.7 MB/s eta 0:00:04\n",
      "     ---- ----------------------------------- 0.8/7.6 MB 1.8 MB/s eta 0:00:04\n",
      "     ---- ----------------------------------- 1.0/7.6 MB 1.9 MB/s eta 0:00:04\n",
      "     ----- ---------------------------------- 1.0/7.6 MB 1.9 MB/s eta 0:00:04\n",
      "     ----- ---------------------------------- 1.0/7.6 MB 1.8 MB/s eta 0:00:04\n",
      "     ----- ---------------------------------- 1.1/7.6 MB 1.7 MB/s eta 0:00:04\n",
      "     ----- ---------------------------------- 1.1/7.6 MB 1.7 MB/s eta 0:00:04\n",
      "     ------ --------------------------------- 1.2/7.6 MB 1.6 MB/s eta 0:00:04\n",
      "     ------ --------------------------------- 1.3/7.6 MB 1.7 MB/s eta 0:00:04\n",
      "     ------ --------------------------------- 1.3/7.6 MB 1.7 MB/s eta 0:00:04\n",
      "     ------- -------------------------------- 1.4/7.6 MB 1.7 MB/s eta 0:00:04\n",
      "     ------- -------------------------------- 1.5/7.6 MB 1.7 MB/s eta 0:00:04\n",
      "     ------- -------------------------------- 1.5/7.6 MB 1.7 MB/s eta 0:00:04\n",
      "     -------- ------------------------------- 1.6/7.6 MB 1.7 MB/s eta 0:00:04\n",
      "     -------- ------------------------------- 1.7/7.6 MB 1.7 MB/s eta 0:00:04\n",
      "     --------- ------------------------------ 1.8/7.6 MB 1.7 MB/s eta 0:00:04\n",
      "     --------- ------------------------------ 1.9/7.6 MB 1.7 MB/s eta 0:00:04\n",
      "     ---------- ----------------------------- 1.9/7.6 MB 1.7 MB/s eta 0:00:04\n",
      "     ---------- ----------------------------- 2.1/7.6 MB 1.8 MB/s eta 0:00:04\n",
      "     ----------- ---------------------------- 2.2/7.6 MB 1.8 MB/s eta 0:00:03\n",
      "     ------------ --------------------------- 2.3/7.6 MB 1.8 MB/s eta 0:00:03\n",
      "     ------------ --------------------------- 2.4/7.6 MB 1.8 MB/s eta 0:00:03\n",
      "     ------------- -------------------------- 2.5/7.6 MB 1.9 MB/s eta 0:00:03\n",
      "     ------------- -------------------------- 2.6/7.6 MB 1.9 MB/s eta 0:00:03\n",
      "     ------------- -------------------------- 2.7/7.6 MB 1.9 MB/s eta 0:00:03\n",
      "     -------------- ------------------------- 2.8/7.6 MB 1.9 MB/s eta 0:00:03\n",
      "     --------------- ------------------------ 2.9/7.6 MB 1.9 MB/s eta 0:00:03\n",
      "     --------------- ------------------------ 3.0/7.6 MB 1.9 MB/s eta 0:00:03\n",
      "     ---------------- ----------------------- 3.1/7.6 MB 1.9 MB/s eta 0:00:03\n",
      "     ---------------- ----------------------- 3.1/7.6 MB 1.9 MB/s eta 0:00:03\n",
      "     ---------------- ----------------------- 3.2/7.6 MB 1.9 MB/s eta 0:00:03\n",
      "     ----------------- ---------------------- 3.3/7.6 MB 2.0 MB/s eta 0:00:03\n",
      "     ----------------- ---------------------- 3.4/7.6 MB 1.9 MB/s eta 0:00:03\n",
      "     ----------------- ---------------------- 3.4/7.6 MB 1.9 MB/s eta 0:00:03\n",
      "     ------------------ --------------------- 3.5/7.6 MB 1.9 MB/s eta 0:00:03\n",
      "     ------------------ --------------------- 3.5/7.6 MB 1.9 MB/s eta 0:00:03\n",
      "     ------------------ --------------------- 3.6/7.6 MB 1.9 MB/s eta 0:00:03\n",
      "     ------------------- -------------------- 3.7/7.6 MB 1.9 MB/s eta 0:00:03\n",
      "     ------------------- -------------------- 3.7/7.6 MB 1.9 MB/s eta 0:00:03\n",
      "     -------------------- ------------------- 3.8/7.6 MB 1.9 MB/s eta 0:00:03\n",
      "     -------------------- ------------------- 3.9/7.6 MB 1.9 MB/s eta 0:00:02\n",
      "     --------------------- ------------------ 4.0/7.6 MB 1.9 MB/s eta 0:00:02\n",
      "     --------------------- ------------------ 4.1/7.6 MB 1.9 MB/s eta 0:00:02\n",
      "     --------------------- ------------------ 4.2/7.6 MB 1.9 MB/s eta 0:00:02\n",
      "     ---------------------- ----------------- 4.3/7.6 MB 1.9 MB/s eta 0:00:02\n",
      "     ----------------------- ---------------- 4.4/7.6 MB 1.9 MB/s eta 0:00:02\n",
      "     ----------------------- ---------------- 4.5/7.6 MB 1.9 MB/s eta 0:00:02\n",
      "     ----------------------- ---------------- 4.5/7.6 MB 1.9 MB/s eta 0:00:02\n",
      "     ------------------------ --------------- 4.7/7.6 MB 1.9 MB/s eta 0:00:02\n",
      "     ------------------------ --------------- 4.7/7.6 MB 1.9 MB/s eta 0:00:02\n",
      "     ------------------------- -------------- 4.9/7.6 MB 1.9 MB/s eta 0:00:02\n",
      "     ------------------------- -------------- 5.0/7.6 MB 1.9 MB/s eta 0:00:02\n",
      "     -------------------------- ------------- 5.0/7.6 MB 1.9 MB/s eta 0:00:02\n",
      "     -------------------------- ------------- 5.0/7.6 MB 1.9 MB/s eta 0:00:02\n",
      "     -------------------------- ------------- 5.1/7.6 MB 1.9 MB/s eta 0:00:02\n",
      "     -------------------------- ------------- 5.1/7.6 MB 1.9 MB/s eta 0:00:02\n",
      "     --------------------------- ------------ 5.2/7.6 MB 1.9 MB/s eta 0:00:02\n",
      "     ---------------------------- ----------- 5.4/7.6 MB 1.9 MB/s eta 0:00:02\n",
      "     ---------------------------- ----------- 5.4/7.6 MB 1.9 MB/s eta 0:00:02\n",
      "     ---------------------------- ----------- 5.5/7.6 MB 1.9 MB/s eta 0:00:02\n",
      "     ----------------------------- ---------- 5.6/7.6 MB 1.9 MB/s eta 0:00:02\n",
      "     ------------------------------ --------- 5.8/7.6 MB 1.9 MB/s eta 0:00:01\n",
      "     ------------------------------ --------- 5.9/7.6 MB 2.0 MB/s eta 0:00:01\n",
      "     ------------------------------- -------- 6.0/7.6 MB 2.0 MB/s eta 0:00:01\n",
      "     ------------------------------- -------- 6.0/7.6 MB 2.0 MB/s eta 0:00:01\n",
      "     -------------------------------- ------- 6.1/7.6 MB 1.9 MB/s eta 0:00:01\n",
      "     -------------------------------- ------- 6.2/7.6 MB 2.0 MB/s eta 0:00:01\n",
      "     --------------------------------- ------ 6.3/7.6 MB 2.0 MB/s eta 0:00:01\n",
      "     --------------------------------- ------ 6.4/7.6 MB 2.0 MB/s eta 0:00:01\n",
      "     --------------------------------- ------ 6.5/7.6 MB 2.0 MB/s eta 0:00:01\n",
      "     ---------------------------------- ----- 6.6/7.6 MB 2.0 MB/s eta 0:00:01\n",
      "     ----------------------------------- ---- 6.7/7.6 MB 2.0 MB/s eta 0:00:01\n",
      "     ----------------------------------- ---- 6.8/7.6 MB 2.0 MB/s eta 0:00:01\n",
      "     ------------------------------------ --- 6.9/7.6 MB 2.0 MB/s eta 0:00:01\n",
      "     ------------------------------------ --- 7.0/7.6 MB 2.0 MB/s eta 0:00:01\n",
      "     ------------------------------------- -- 7.1/7.6 MB 2.0 MB/s eta 0:00:01\n",
      "     -------------------------------------- - 7.3/7.6 MB 2.0 MB/s eta 0:00:01\n",
      "     -------------------------------------- - 7.4/7.6 MB 2.0 MB/s eta 0:00:01\n",
      "     ---------------------------------------  7.5/7.6 MB 2.0 MB/s eta 0:00:01\n",
      "     ---------------------------------------  7.6/7.6 MB 2.0 MB/s eta 0:00:01\n",
      "     ---------------------------------------  7.6/7.6 MB 2.0 MB/s eta 0:00:01\n",
      "     ---------------------------------------- 7.6/7.6 MB 2.0 MB/s eta 0:00:00\n",
      "Requirement already satisfied: numpy>=1.17.3 in c:\\users\\thiya\\appdata\\local\\programs\\python\\python311\\lib\\site-packages (from scikit-learn) (1.24.2)\n",
      "Requirement already satisfied: joblib>=1.1.1 in c:\\users\\thiya\\appdata\\local\\programs\\python\\python311\\lib\\site-packages (from scikit-learn) (1.2.0)\n",
      "Requirement already satisfied: threadpoolctl>=2.0.0 in c:\\users\\thiya\\appdata\\local\\programs\\python\\python311\\lib\\site-packages (from scikit-learn) (3.1.0)\n",
      "Requirement already satisfied: contourpy>=1.0.1 in c:\\users\\thiya\\appdata\\local\\programs\\python\\python311\\lib\\site-packages (from matplotlib) (1.0.7)\n",
      "Requirement already satisfied: cycler>=0.10 in c:\\users\\thiya\\appdata\\local\\programs\\python\\python311\\lib\\site-packages (from matplotlib) (0.11.0)\n",
      "Requirement already satisfied: fonttools>=4.22.0 in c:\\users\\thiya\\appdata\\local\\programs\\python\\python311\\lib\\site-packages (from matplotlib) (4.38.0)\n",
      "Requirement already satisfied: kiwisolver>=1.0.1 in c:\\users\\thiya\\appdata\\local\\programs\\python\\python311\\lib\\site-packages (from matplotlib) (1.4.4)\n",
      "Requirement already satisfied: packaging>=20.0 in c:\\users\\thiya\\appdata\\local\\programs\\python\\python311\\lib\\site-packages (from matplotlib) (23.0)\n",
      "Requirement already satisfied: pillow>=6.2.0 in c:\\users\\thiya\\appdata\\local\\programs\\python\\python311\\lib\\site-packages (from matplotlib) (9.4.0)\n",
      "Requirement already satisfied: pyparsing>=2.3.1 in c:\\users\\thiya\\appdata\\local\\programs\\python\\python311\\lib\\site-packages (from matplotlib) (3.0.9)\n",
      "Requirement already satisfied: python-dateutil>=2.7 in c:\\users\\thiya\\appdata\\local\\programs\\python\\python311\\lib\\site-packages (from matplotlib) (2.8.2)\n",
      "Requirement already satisfied: six>=1.5 in c:\\users\\thiya\\appdata\\local\\programs\\python\\python311\\lib\\site-packages (from python-dateutil>=2.7->matplotlib) (1.16.0)\n",
      "Installing collected packages: scikit-learn, matplotlib\n",
      "  Attempting uninstall: scikit-learn\n",
      "    Found existing installation: scikit-learn 1.2.1\n",
      "    Uninstalling scikit-learn-1.2.1:\n",
      "      Successfully uninstalled scikit-learn-1.2.1\n",
      "  Attempting uninstall: matplotlib\n",
      "    Found existing installation: matplotlib 3.7.0\n",
      "    Uninstalling matplotlib-3.7.0:\n",
      "      Successfully uninstalled matplotlib-3.7.0\n",
      "Successfully installed matplotlib-3.7.1 scikit-learn-1.2.2\n",
      "Note: you may need to restart the kernel to use updated packages.\n"
     ]
    },
    {
     "name": "stderr",
     "output_type": "stream",
     "text": [
      "\n",
      "[notice] A new release of pip is available: 23.0.1 -> 23.1\n",
      "[notice] To update, run: python.exe -m pip install --upgrade pip\n"
     ]
    }
   ],
   "source": [
    "pip install -U scikit-learn scipy matplotlib"
   ]
  },
  {
   "cell_type": "code",
   "execution_count": 6,
   "metadata": {},
   "outputs": [],
   "source": [
    "from sklearn.feature_extraction.text import TfidfVectorizer\n",
    "from sklearn.linear_model import PassiveAggressiveClassifier\n",
    "from sklearn.model_selection import train_test_split\n",
    "from sklearn.metrics import accuracy_score, confusion_matrix\n",
    "from sklearn.model_selection import cross_val_score"
   ]
  },
  {
   "cell_type": "code",
   "execution_count": 7,
   "metadata": {},
   "outputs": [
    {
     "data": {
      "text/html": [
       "<div>\n",
       "<style scoped>\n",
       "    .dataframe tbody tr th:only-of-type {\n",
       "        vertical-align: middle;\n",
       "    }\n",
       "\n",
       "    .dataframe tbody tr th {\n",
       "        vertical-align: top;\n",
       "    }\n",
       "\n",
       "    .dataframe thead th {\n",
       "        text-align: right;\n",
       "    }\n",
       "</style>\n",
       "<table border=\"1\" class=\"dataframe\">\n",
       "  <thead>\n",
       "    <tr style=\"text-align: right;\">\n",
       "      <th></th>\n",
       "      <th>myId</th>\n",
       "      <th>id</th>\n",
       "      <th>filename</th>\n",
       "      <th>title</th>\n",
       "      <th>text</th>\n",
       "      <th>label_text</th>\n",
       "      <th>label</th>\n",
       "    </tr>\n",
       "  </thead>\n",
       "  <tbody>\n",
       "    <tr>\n",
       "      <th>0</th>\n",
       "      <td>1</td>\n",
       "      <td>0</td>\n",
       "      <td>1_fake_new_dataset_3120</td>\n",
       "      <td>FACEBOOK DELETES MICHIGAN ANTI-LOCKDOWN GROUP ...</td>\n",
       "      <td>Facebook has shuttered a popular group for Mic...</td>\n",
       "      <td>Fake</td>\n",
       "      <td>0</td>\n",
       "    </tr>\n",
       "    <tr>\n",
       "      <th>1</th>\n",
       "      <td>2</td>\n",
       "      <td>1</td>\n",
       "      <td>1_fake_new_dataset_3120</td>\n",
       "      <td>Other Viewpoints: COVID-19 is worse than the flu</td>\n",
       "      <td>We can now officially put to rest all comparis...</td>\n",
       "      <td>Real</td>\n",
       "      <td>1</td>\n",
       "    </tr>\n",
       "    <tr>\n",
       "      <th>2</th>\n",
       "      <td>3</td>\n",
       "      <td>2</td>\n",
       "      <td>1_fake_new_dataset_3120</td>\n",
       "      <td>Bermuda's COVID-19 cases surpass 100</td>\n",
       "      <td>The Ministry of Health in Bermuda has confirme...</td>\n",
       "      <td>Real</td>\n",
       "      <td>1</td>\n",
       "    </tr>\n",
       "    <tr>\n",
       "      <th>3</th>\n",
       "      <td>5</td>\n",
       "      <td>4</td>\n",
       "      <td>1_fake_new_dataset_3120</td>\n",
       "      <td>THE HIGH COST OF LOCKING DOWN AMERICA: “WE’VE ...</td>\n",
       "      <td>Locking down much of the country may have help...</td>\n",
       "      <td>Fake</td>\n",
       "      <td>0</td>\n",
       "    </tr>\n",
       "    <tr>\n",
       "      <th>4</th>\n",
       "      <td>6</td>\n",
       "      <td>5</td>\n",
       "      <td>1_fake_new_dataset_3120</td>\n",
       "      <td>NY TIMES WORRIES HALF OF AMERICANS WILL REFUSE...</td>\n",
       "      <td>The New York Times has published an article by...</td>\n",
       "      <td>Fake</td>\n",
       "      <td>0</td>\n",
       "    </tr>\n",
       "    <tr>\n",
       "      <th>...</th>\n",
       "      <td>...</td>\n",
       "      <td>...</td>\n",
       "      <td>...</td>\n",
       "      <td>...</td>\n",
       "      <td>...</td>\n",
       "      <td>...</td>\n",
       "      <td>...</td>\n",
       "    </tr>\n",
       "    <tr>\n",
       "      <th>1297</th>\n",
       "      <td>3104</td>\n",
       "      <td>2987</td>\n",
       "      <td>1_fake_new_dataset_3120</td>\n",
       "      <td>Twinbrook ‘pausing’ COVID-19 plan after criticism</td>\n",
       "      <td>Apr 24, 2020 at 4:31 PM Nursing home faced bac...</td>\n",
       "      <td>Fake</td>\n",
       "      <td>0</td>\n",
       "    </tr>\n",
       "    <tr>\n",
       "      <th>1298</th>\n",
       "      <td>3110</td>\n",
       "      <td>2993</td>\n",
       "      <td>1_fake_new_dataset_3120</td>\n",
       "      <td>Experts suggest ventilation, not isolation is ...</td>\n",
       "      <td>The Coronavirus epidemic for the first time re...</td>\n",
       "      <td>Fake</td>\n",
       "      <td>0</td>\n",
       "    </tr>\n",
       "    <tr>\n",
       "      <th>1299</th>\n",
       "      <td>3111</td>\n",
       "      <td>2994</td>\n",
       "      <td>1_fake_new_dataset_3120</td>\n",
       "      <td>Corona virus and pentagon Quarantine help? Com...</td>\n",
       "      <td>Here is the technique we use to heal unseen ne...</td>\n",
       "      <td>Fake</td>\n",
       "      <td>0</td>\n",
       "    </tr>\n",
       "    <tr>\n",
       "      <th>1300</th>\n",
       "      <td>3118</td>\n",
       "      <td>3001</td>\n",
       "      <td>1_fake_new_dataset_3120</td>\n",
       "      <td>Characterizing Patients Hospitalized With COVI...</td>\n",
       "      <td>Characterizing Patients Hospitalized With COVI...</td>\n",
       "      <td>Fake</td>\n",
       "      <td>0</td>\n",
       "    </tr>\n",
       "    <tr>\n",
       "      <th>1301</th>\n",
       "      <td>3119</td>\n",
       "      <td>3002</td>\n",
       "      <td>1_fake_new_dataset_3120</td>\n",
       "      <td>Corona Virus WARNING</td>\n",
       "      <td>Just something to be prepared for… but then it...</td>\n",
       "      <td>Fake</td>\n",
       "      <td>0</td>\n",
       "    </tr>\n",
       "  </tbody>\n",
       "</table>\n",
       "<p>1302 rows × 7 columns</p>\n",
       "</div>"
      ],
      "text/plain": [
       "      myId    id                 filename  \\\n",
       "0        1     0  1_fake_new_dataset_3120   \n",
       "1        2     1  1_fake_new_dataset_3120   \n",
       "2        3     2  1_fake_new_dataset_3120   \n",
       "3        5     4  1_fake_new_dataset_3120   \n",
       "4        6     5  1_fake_new_dataset_3120   \n",
       "...    ...   ...                      ...   \n",
       "1297  3104  2987  1_fake_new_dataset_3120   \n",
       "1298  3110  2993  1_fake_new_dataset_3120   \n",
       "1299  3111  2994  1_fake_new_dataset_3120   \n",
       "1300  3118  3001  1_fake_new_dataset_3120   \n",
       "1301  3119  3002  1_fake_new_dataset_3120   \n",
       "\n",
       "                                                  title  \\\n",
       "0     FACEBOOK DELETES MICHIGAN ANTI-LOCKDOWN GROUP ...   \n",
       "1      Other Viewpoints: COVID-19 is worse than the flu   \n",
       "2                  Bermuda's COVID-19 cases surpass 100   \n",
       "3     THE HIGH COST OF LOCKING DOWN AMERICA: “WE’VE ...   \n",
       "4     NY TIMES WORRIES HALF OF AMERICANS WILL REFUSE...   \n",
       "...                                                 ...   \n",
       "1297  Twinbrook ‘pausing’ COVID-19 plan after criticism   \n",
       "1298  Experts suggest ventilation, not isolation is ...   \n",
       "1299  Corona virus and pentagon Quarantine help? Com...   \n",
       "1300  Characterizing Patients Hospitalized With COVI...   \n",
       "1301                               Corona Virus WARNING   \n",
       "\n",
       "                                                   text label_text  label  \n",
       "0     Facebook has shuttered a popular group for Mic...       Fake      0  \n",
       "1     We can now officially put to rest all comparis...       Real      1  \n",
       "2     The Ministry of Health in Bermuda has confirme...       Real      1  \n",
       "3     Locking down much of the country may have help...       Fake      0  \n",
       "4     The New York Times has published an article by...       Fake      0  \n",
       "...                                                 ...        ...    ...  \n",
       "1297  Apr 24, 2020 at 4:31 PM Nursing home faced bac...       Fake      0  \n",
       "1298  The Coronavirus epidemic for the first time re...       Fake      0  \n",
       "1299  Here is the technique we use to heal unseen ne...       Fake      0  \n",
       "1300  Characterizing Patients Hospitalized With COVI...       Fake      0  \n",
       "1301  Just something to be prepared for… but then it...       Fake      0  \n",
       "\n",
       "[1302 rows x 7 columns]"
      ]
     },
     "execution_count": 7,
     "metadata": {},
     "output_type": "execute_result"
    }
   ],
   "source": [
    "df=pd.read_csv('Final1302.csv',encoding='windows-1252')#had some decode error. so used encoding\n",
    "df"
   ]
  },
  {
   "cell_type": "code",
   "execution_count": 8,
   "metadata": {},
   "outputs": [
    {
     "data": {
      "text/html": [
       "<div>\n",
       "<style scoped>\n",
       "    .dataframe tbody tr th:only-of-type {\n",
       "        vertical-align: middle;\n",
       "    }\n",
       "\n",
       "    .dataframe tbody tr th {\n",
       "        vertical-align: top;\n",
       "    }\n",
       "\n",
       "    .dataframe thead th {\n",
       "        text-align: right;\n",
       "    }\n",
       "</style>\n",
       "<table border=\"1\" class=\"dataframe\">\n",
       "  <thead>\n",
       "    <tr style=\"text-align: right;\">\n",
       "      <th></th>\n",
       "      <th>myId</th>\n",
       "      <th>id</th>\n",
       "      <th>filename</th>\n",
       "      <th>title</th>\n",
       "      <th>text</th>\n",
       "      <th>label_text</th>\n",
       "      <th>label</th>\n",
       "    </tr>\n",
       "  </thead>\n",
       "  <tbody>\n",
       "    <tr>\n",
       "      <th>0</th>\n",
       "      <td>1</td>\n",
       "      <td>0</td>\n",
       "      <td>1_fake_new_dataset_3120</td>\n",
       "      <td>FACEBOOK DELETES MICHIGAN ANTI-LOCKDOWN GROUP ...</td>\n",
       "      <td>Facebook has shuttered a popular group for Mic...</td>\n",
       "      <td>Fake</td>\n",
       "      <td>False</td>\n",
       "    </tr>\n",
       "    <tr>\n",
       "      <th>1</th>\n",
       "      <td>2</td>\n",
       "      <td>1</td>\n",
       "      <td>1_fake_new_dataset_3120</td>\n",
       "      <td>Other Viewpoints: COVID-19 is worse than the flu</td>\n",
       "      <td>We can now officially put to rest all comparis...</td>\n",
       "      <td>Real</td>\n",
       "      <td>True</td>\n",
       "    </tr>\n",
       "    <tr>\n",
       "      <th>2</th>\n",
       "      <td>3</td>\n",
       "      <td>2</td>\n",
       "      <td>1_fake_new_dataset_3120</td>\n",
       "      <td>Bermuda's COVID-19 cases surpass 100</td>\n",
       "      <td>The Ministry of Health in Bermuda has confirme...</td>\n",
       "      <td>Real</td>\n",
       "      <td>True</td>\n",
       "    </tr>\n",
       "    <tr>\n",
       "      <th>3</th>\n",
       "      <td>5</td>\n",
       "      <td>4</td>\n",
       "      <td>1_fake_new_dataset_3120</td>\n",
       "      <td>THE HIGH COST OF LOCKING DOWN AMERICA: “WE’VE ...</td>\n",
       "      <td>Locking down much of the country may have help...</td>\n",
       "      <td>Fake</td>\n",
       "      <td>False</td>\n",
       "    </tr>\n",
       "    <tr>\n",
       "      <th>4</th>\n",
       "      <td>6</td>\n",
       "      <td>5</td>\n",
       "      <td>1_fake_new_dataset_3120</td>\n",
       "      <td>NY TIMES WORRIES HALF OF AMERICANS WILL REFUSE...</td>\n",
       "      <td>The New York Times has published an article by...</td>\n",
       "      <td>Fake</td>\n",
       "      <td>False</td>\n",
       "    </tr>\n",
       "    <tr>\n",
       "      <th>...</th>\n",
       "      <td>...</td>\n",
       "      <td>...</td>\n",
       "      <td>...</td>\n",
       "      <td>...</td>\n",
       "      <td>...</td>\n",
       "      <td>...</td>\n",
       "      <td>...</td>\n",
       "    </tr>\n",
       "    <tr>\n",
       "      <th>1297</th>\n",
       "      <td>3104</td>\n",
       "      <td>2987</td>\n",
       "      <td>1_fake_new_dataset_3120</td>\n",
       "      <td>Twinbrook ‘pausing’ COVID-19 plan after criticism</td>\n",
       "      <td>Apr 24, 2020 at 4:31 PM Nursing home faced bac...</td>\n",
       "      <td>Fake</td>\n",
       "      <td>False</td>\n",
       "    </tr>\n",
       "    <tr>\n",
       "      <th>1298</th>\n",
       "      <td>3110</td>\n",
       "      <td>2993</td>\n",
       "      <td>1_fake_new_dataset_3120</td>\n",
       "      <td>Experts suggest ventilation, not isolation is ...</td>\n",
       "      <td>The Coronavirus epidemic for the first time re...</td>\n",
       "      <td>Fake</td>\n",
       "      <td>False</td>\n",
       "    </tr>\n",
       "    <tr>\n",
       "      <th>1299</th>\n",
       "      <td>3111</td>\n",
       "      <td>2994</td>\n",
       "      <td>1_fake_new_dataset_3120</td>\n",
       "      <td>Corona virus and pentagon Quarantine help? Com...</td>\n",
       "      <td>Here is the technique we use to heal unseen ne...</td>\n",
       "      <td>Fake</td>\n",
       "      <td>False</td>\n",
       "    </tr>\n",
       "    <tr>\n",
       "      <th>1300</th>\n",
       "      <td>3118</td>\n",
       "      <td>3001</td>\n",
       "      <td>1_fake_new_dataset_3120</td>\n",
       "      <td>Characterizing Patients Hospitalized With COVI...</td>\n",
       "      <td>Characterizing Patients Hospitalized With COVI...</td>\n",
       "      <td>Fake</td>\n",
       "      <td>False</td>\n",
       "    </tr>\n",
       "    <tr>\n",
       "      <th>1301</th>\n",
       "      <td>3119</td>\n",
       "      <td>3002</td>\n",
       "      <td>1_fake_new_dataset_3120</td>\n",
       "      <td>Corona Virus WARNING</td>\n",
       "      <td>Just something to be prepared for… but then it...</td>\n",
       "      <td>Fake</td>\n",
       "      <td>False</td>\n",
       "    </tr>\n",
       "  </tbody>\n",
       "</table>\n",
       "<p>1302 rows × 7 columns</p>\n",
       "</div>"
      ],
      "text/plain": [
       "      myId    id                 filename  \\\n",
       "0        1     0  1_fake_new_dataset_3120   \n",
       "1        2     1  1_fake_new_dataset_3120   \n",
       "2        3     2  1_fake_new_dataset_3120   \n",
       "3        5     4  1_fake_new_dataset_3120   \n",
       "4        6     5  1_fake_new_dataset_3120   \n",
       "...    ...   ...                      ...   \n",
       "1297  3104  2987  1_fake_new_dataset_3120   \n",
       "1298  3110  2993  1_fake_new_dataset_3120   \n",
       "1299  3111  2994  1_fake_new_dataset_3120   \n",
       "1300  3118  3001  1_fake_new_dataset_3120   \n",
       "1301  3119  3002  1_fake_new_dataset_3120   \n",
       "\n",
       "                                                  title  \\\n",
       "0     FACEBOOK DELETES MICHIGAN ANTI-LOCKDOWN GROUP ...   \n",
       "1      Other Viewpoints: COVID-19 is worse than the flu   \n",
       "2                  Bermuda's COVID-19 cases surpass 100   \n",
       "3     THE HIGH COST OF LOCKING DOWN AMERICA: “WE’VE ...   \n",
       "4     NY TIMES WORRIES HALF OF AMERICANS WILL REFUSE...   \n",
       "...                                                 ...   \n",
       "1297  Twinbrook ‘pausing’ COVID-19 plan after criticism   \n",
       "1298  Experts suggest ventilation, not isolation is ...   \n",
       "1299  Corona virus and pentagon Quarantine help? Com...   \n",
       "1300  Characterizing Patients Hospitalized With COVI...   \n",
       "1301                               Corona Virus WARNING   \n",
       "\n",
       "                                                   text label_text  label  \n",
       "0     Facebook has shuttered a popular group for Mic...       Fake  False  \n",
       "1     We can now officially put to rest all comparis...       Real   True  \n",
       "2     The Ministry of Health in Bermuda has confirme...       Real   True  \n",
       "3     Locking down much of the country may have help...       Fake  False  \n",
       "4     The New York Times has published an article by...       Fake  False  \n",
       "...                                                 ...        ...    ...  \n",
       "1297  Apr 24, 2020 at 4:31 PM Nursing home faced bac...       Fake  False  \n",
       "1298  The Coronavirus epidemic for the first time re...       Fake  False  \n",
       "1299  Here is the technique we use to heal unseen ne...       Fake  False  \n",
       "1300  Characterizing Patients Hospitalized With COVI...       Fake  False  \n",
       "1301  Just something to be prepared for… but then it...       Fake  False  \n",
       "\n",
       "[1302 rows x 7 columns]"
      ]
     },
     "execution_count": 8,
     "metadata": {},
     "output_type": "execute_result"
    }
   ],
   "source": [
    "df=pd.read_csv('Final1302.csv',encoding='windows-1252')\n",
    "conversion_dict={0:'False',1:'True'}\n",
    "df['label']=df['label'].replace(conversion_dict)#Replace 1,0 to real and fake\n",
    "df"
   ]
  },
  {
   "cell_type": "code",
   "execution_count": 9,
   "metadata": {},
   "outputs": [
    {
     "data": {
      "text/plain": [
       "False    651\n",
       "True     651\n",
       "Name: label, dtype: int64"
      ]
     },
     "execution_count": 9,
     "metadata": {},
     "output_type": "execute_result"
    }
   ],
   "source": [
    "#Check the balance of the data\n",
    "df.label.value_counts()#Not balanced. Have to find a way to solve this"
   ]
  },
  {
   "cell_type": "code",
   "execution_count": 10,
   "metadata": {},
   "outputs": [],
   "source": [
    "X_train, X_test,y_train, y_test=train_test_split(df['text'],df['label'],test_size=0.25,random_state=9,shuffle=True)"
   ]
  },
  {
   "cell_type": "code",
   "execution_count": 11,
   "metadata": {},
   "outputs": [],
   "source": [
    "tfidf_vectorizer=TfidfVectorizer(stop_words='english', max_df=0.75)"
   ]
  },
  {
   "cell_type": "code",
   "execution_count": 12,
   "metadata": {},
   "outputs": [],
   "source": [
    "vec_train=tfidf_vectorizer.fit_transform(X_train.values.astype('U'))\n",
    "vec_test=tfidf_vectorizer.transform(X_test.values.astype('U'))"
   ]
  },
  {
   "cell_type": "code",
   "execution_count": 13,
   "metadata": {},
   "outputs": [
    {
     "data": {
      "text/html": [
       "<style>#sk-container-id-1 {color: black;background-color: white;}#sk-container-id-1 pre{padding: 0;}#sk-container-id-1 div.sk-toggleable {background-color: white;}#sk-container-id-1 label.sk-toggleable__label {cursor: pointer;display: block;width: 100%;margin-bottom: 0;padding: 0.3em;box-sizing: border-box;text-align: center;}#sk-container-id-1 label.sk-toggleable__label-arrow:before {content: \"▸\";float: left;margin-right: 0.25em;color: #696969;}#sk-container-id-1 label.sk-toggleable__label-arrow:hover:before {color: black;}#sk-container-id-1 div.sk-estimator:hover label.sk-toggleable__label-arrow:before {color: black;}#sk-container-id-1 div.sk-toggleable__content {max-height: 0;max-width: 0;overflow: hidden;text-align: left;background-color: #f0f8ff;}#sk-container-id-1 div.sk-toggleable__content pre {margin: 0.2em;color: black;border-radius: 0.25em;background-color: #f0f8ff;}#sk-container-id-1 input.sk-toggleable__control:checked~div.sk-toggleable__content {max-height: 200px;max-width: 100%;overflow: auto;}#sk-container-id-1 input.sk-toggleable__control:checked~label.sk-toggleable__label-arrow:before {content: \"▾\";}#sk-container-id-1 div.sk-estimator input.sk-toggleable__control:checked~label.sk-toggleable__label {background-color: #d4ebff;}#sk-container-id-1 div.sk-label input.sk-toggleable__control:checked~label.sk-toggleable__label {background-color: #d4ebff;}#sk-container-id-1 input.sk-hidden--visually {border: 0;clip: rect(1px 1px 1px 1px);clip: rect(1px, 1px, 1px, 1px);height: 1px;margin: -1px;overflow: hidden;padding: 0;position: absolute;width: 1px;}#sk-container-id-1 div.sk-estimator {font-family: monospace;background-color: #f0f8ff;border: 1px dotted black;border-radius: 0.25em;box-sizing: border-box;margin-bottom: 0.5em;}#sk-container-id-1 div.sk-estimator:hover {background-color: #d4ebff;}#sk-container-id-1 div.sk-parallel-item::after {content: \"\";width: 100%;border-bottom: 1px solid gray;flex-grow: 1;}#sk-container-id-1 div.sk-label:hover label.sk-toggleable__label {background-color: #d4ebff;}#sk-container-id-1 div.sk-serial::before {content: \"\";position: absolute;border-left: 1px solid gray;box-sizing: border-box;top: 0;bottom: 0;left: 50%;z-index: 0;}#sk-container-id-1 div.sk-serial {display: flex;flex-direction: column;align-items: center;background-color: white;padding-right: 0.2em;padding-left: 0.2em;position: relative;}#sk-container-id-1 div.sk-item {position: relative;z-index: 1;}#sk-container-id-1 div.sk-parallel {display: flex;align-items: stretch;justify-content: center;background-color: white;position: relative;}#sk-container-id-1 div.sk-item::before, #sk-container-id-1 div.sk-parallel-item::before {content: \"\";position: absolute;border-left: 1px solid gray;box-sizing: border-box;top: 0;bottom: 0;left: 50%;z-index: -1;}#sk-container-id-1 div.sk-parallel-item {display: flex;flex-direction: column;z-index: 1;position: relative;background-color: white;}#sk-container-id-1 div.sk-parallel-item:first-child::after {align-self: flex-end;width: 50%;}#sk-container-id-1 div.sk-parallel-item:last-child::after {align-self: flex-start;width: 50%;}#sk-container-id-1 div.sk-parallel-item:only-child::after {width: 0;}#sk-container-id-1 div.sk-dashed-wrapped {border: 1px dashed gray;margin: 0 0.4em 0.5em 0.4em;box-sizing: border-box;padding-bottom: 0.4em;background-color: white;}#sk-container-id-1 div.sk-label label {font-family: monospace;font-weight: bold;display: inline-block;line-height: 1.2em;}#sk-container-id-1 div.sk-label-container {text-align: center;}#sk-container-id-1 div.sk-container {/* jupyter's `normalize.less` sets `[hidden] { display: none; }` but bootstrap.min.css set `[hidden] { display: none !important; }` so we also need the `!important` here to be able to override the default hidden behavior on the sphinx rendered scikit-learn.org. See: https://github.com/scikit-learn/scikit-learn/issues/21755 */display: inline-block !important;position: relative;}#sk-container-id-1 div.sk-text-repr-fallback {display: none;}</style><div id=\"sk-container-id-1\" class=\"sk-top-container\"><div class=\"sk-text-repr-fallback\"><pre>PassiveAggressiveClassifier(max_iter=50)</pre><b>In a Jupyter environment, please rerun this cell to show the HTML representation or trust the notebook. <br />On GitHub, the HTML representation is unable to render, please try loading this page with nbviewer.org.</b></div><div class=\"sk-container\" hidden><div class=\"sk-item\"><div class=\"sk-estimator sk-toggleable\"><input class=\"sk-toggleable__control sk-hidden--visually\" id=\"sk-estimator-id-1\" type=\"checkbox\" checked><label for=\"sk-estimator-id-1\" class=\"sk-toggleable__label sk-toggleable__label-arrow\">PassiveAggressiveClassifier</label><div class=\"sk-toggleable__content\"><pre>PassiveAggressiveClassifier(max_iter=50)</pre></div></div></div></div></div>"
      ],
      "text/plain": [
       "PassiveAggressiveClassifier(max_iter=50)"
      ]
     },
     "execution_count": 13,
     "metadata": {},
     "output_type": "execute_result"
    }
   ],
   "source": [
    "pac=PassiveAggressiveClassifier(max_iter=50)\n",
    "pac.fit(vec_train,y_train)"
   ]
  },
  {
   "cell_type": "code",
   "execution_count": 14,
   "metadata": {},
   "outputs": [
    {
     "name": "stdout",
     "output_type": "stream",
     "text": [
      "PAC Accuracy: 76.69%\n"
     ]
    }
   ],
   "source": [
    "y_pred=pac.predict(vec_test)\n",
    "score=accuracy_score(y_test,y_pred)\n",
    "print(f'PAC Accuracy: {round(score*100,2)}%')"
   ]
  },
  {
   "cell_type": "code",
   "execution_count": 15,
   "metadata": {},
   "outputs": [
    {
     "data": {
      "text/plain": [
       "array([[122,  34],\n",
       "       [ 42, 128]], dtype=int64)"
      ]
     },
     "execution_count": 15,
     "metadata": {},
     "output_type": "execute_result"
    }
   ],
   "source": [
    "confusion_matrix(y_test,y_pred, labels=['True','False'])"
   ]
  },
  {
   "cell_type": "code",
   "execution_count": 16,
   "metadata": {},
   "outputs": [],
   "source": [
    "#428 true positive-predicted real and actually real\n",
    "#181 false negative- predicted false and actually false\n",
    "#accuracy=(428+181)/(428+181+74+97)  = 78.08"
   ]
  },
  {
   "cell_type": "code",
   "execution_count": 17,
   "metadata": {},
   "outputs": [],
   "source": [
    "#K fold accuracy\n",
    "X=tfidf_vectorizer.transform(df['text'].values.astype('U'))"
   ]
  },
  {
   "cell_type": "code",
   "execution_count": 18,
   "metadata": {},
   "outputs": [
    {
     "name": "stdout",
     "output_type": "stream",
     "text": [
      "K fold accuracy : 77.42%\n"
     ]
    }
   ],
   "source": [
    "scores=cross_val_score(pac,X,df['label'].values, cv=5)\n",
    "print(f'K fold accuracy : {round(scores.mean()*100,2)}%')"
   ]
  },
  {
   "cell_type": "code",
   "execution_count": 19,
   "metadata": {},
   "outputs": [
    {
     "ename": "FileNotFoundError",
     "evalue": "[Errno 2] No such file or directory: 'Real.csv'",
     "output_type": "error",
     "traceback": [
      "\u001b[1;31m---------------------------------------------------------------------------\u001b[0m",
      "\u001b[1;31mFileNotFoundError\u001b[0m                         Traceback (most recent call last)",
      "Cell \u001b[1;32mIn[19], line 1\u001b[0m\n\u001b[1;32m----> 1\u001b[0m df_true\u001b[38;5;241m=\u001b[39m\u001b[43mpd\u001b[49m\u001b[38;5;241;43m.\u001b[39;49m\u001b[43mread_csv\u001b[49m\u001b[43m(\u001b[49m\u001b[38;5;124;43m'\u001b[39;49m\u001b[38;5;124;43mReal.csv\u001b[39;49m\u001b[38;5;124;43m'\u001b[39;49m\u001b[43m,\u001b[49m\u001b[43mencoding\u001b[49m\u001b[38;5;241;43m=\u001b[39;49m\u001b[38;5;124;43m'\u001b[39;49m\u001b[38;5;124;43mwindows-1252\u001b[39;49m\u001b[38;5;124;43m'\u001b[39;49m\u001b[43m)\u001b[49m\n\u001b[0;32m      2\u001b[0m \u001b[38;5;66;03m#df_true_rep=[df_true['text'][i].replace('WASHINGTON(Reuters)-','').replace]\u001b[39;00m\n\u001b[0;32m      3\u001b[0m \u001b[38;5;66;03m#df_true['text']=df_true_rep\u001b[39;00m\n",
      "File \u001b[1;32m~\\AppData\\Local\\Programs\\Python\\Python311\\Lib\\site-packages\\pandas\\util\\_decorators.py:211\u001b[0m, in \u001b[0;36mdeprecate_kwarg.<locals>._deprecate_kwarg.<locals>.wrapper\u001b[1;34m(*args, **kwargs)\u001b[0m\n\u001b[0;32m    209\u001b[0m     \u001b[38;5;28;01melse\u001b[39;00m:\n\u001b[0;32m    210\u001b[0m         kwargs[new_arg_name] \u001b[38;5;241m=\u001b[39m new_arg_value\n\u001b[1;32m--> 211\u001b[0m \u001b[38;5;28;01mreturn\u001b[39;00m \u001b[43mfunc\u001b[49m\u001b[43m(\u001b[49m\u001b[38;5;241;43m*\u001b[39;49m\u001b[43margs\u001b[49m\u001b[43m,\u001b[49m\u001b[43m \u001b[49m\u001b[38;5;241;43m*\u001b[39;49m\u001b[38;5;241;43m*\u001b[39;49m\u001b[43mkwargs\u001b[49m\u001b[43m)\u001b[49m\n",
      "File \u001b[1;32m~\\AppData\\Local\\Programs\\Python\\Python311\\Lib\\site-packages\\pandas\\util\\_decorators.py:331\u001b[0m, in \u001b[0;36mdeprecate_nonkeyword_arguments.<locals>.decorate.<locals>.wrapper\u001b[1;34m(*args, **kwargs)\u001b[0m\n\u001b[0;32m    325\u001b[0m \u001b[38;5;28;01mif\u001b[39;00m \u001b[38;5;28mlen\u001b[39m(args) \u001b[38;5;241m>\u001b[39m num_allow_args:\n\u001b[0;32m    326\u001b[0m     warnings\u001b[38;5;241m.\u001b[39mwarn(\n\u001b[0;32m    327\u001b[0m         msg\u001b[38;5;241m.\u001b[39mformat(arguments\u001b[38;5;241m=\u001b[39m_format_argument_list(allow_args)),\n\u001b[0;32m    328\u001b[0m         \u001b[38;5;167;01mFutureWarning\u001b[39;00m,\n\u001b[0;32m    329\u001b[0m         stacklevel\u001b[38;5;241m=\u001b[39mfind_stack_level(),\n\u001b[0;32m    330\u001b[0m     )\n\u001b[1;32m--> 331\u001b[0m \u001b[38;5;28;01mreturn\u001b[39;00m \u001b[43mfunc\u001b[49m\u001b[43m(\u001b[49m\u001b[38;5;241;43m*\u001b[39;49m\u001b[43margs\u001b[49m\u001b[43m,\u001b[49m\u001b[43m \u001b[49m\u001b[38;5;241;43m*\u001b[39;49m\u001b[38;5;241;43m*\u001b[39;49m\u001b[43mkwargs\u001b[49m\u001b[43m)\u001b[49m\n",
      "File \u001b[1;32m~\\AppData\\Local\\Programs\\Python\\Python311\\Lib\\site-packages\\pandas\\io\\parsers\\readers.py:950\u001b[0m, in \u001b[0;36mread_csv\u001b[1;34m(filepath_or_buffer, sep, delimiter, header, names, index_col, usecols, squeeze, prefix, mangle_dupe_cols, dtype, engine, converters, true_values, false_values, skipinitialspace, skiprows, skipfooter, nrows, na_values, keep_default_na, na_filter, verbose, skip_blank_lines, parse_dates, infer_datetime_format, keep_date_col, date_parser, dayfirst, cache_dates, iterator, chunksize, compression, thousands, decimal, lineterminator, quotechar, quoting, doublequote, escapechar, comment, encoding, encoding_errors, dialect, error_bad_lines, warn_bad_lines, on_bad_lines, delim_whitespace, low_memory, memory_map, float_precision, storage_options)\u001b[0m\n\u001b[0;32m    935\u001b[0m kwds_defaults \u001b[38;5;241m=\u001b[39m _refine_defaults_read(\n\u001b[0;32m    936\u001b[0m     dialect,\n\u001b[0;32m    937\u001b[0m     delimiter,\n\u001b[1;32m   (...)\u001b[0m\n\u001b[0;32m    946\u001b[0m     defaults\u001b[38;5;241m=\u001b[39m{\u001b[38;5;124m\"\u001b[39m\u001b[38;5;124mdelimiter\u001b[39m\u001b[38;5;124m\"\u001b[39m: \u001b[38;5;124m\"\u001b[39m\u001b[38;5;124m,\u001b[39m\u001b[38;5;124m\"\u001b[39m},\n\u001b[0;32m    947\u001b[0m )\n\u001b[0;32m    948\u001b[0m kwds\u001b[38;5;241m.\u001b[39mupdate(kwds_defaults)\n\u001b[1;32m--> 950\u001b[0m \u001b[38;5;28;01mreturn\u001b[39;00m \u001b[43m_read\u001b[49m\u001b[43m(\u001b[49m\u001b[43mfilepath_or_buffer\u001b[49m\u001b[43m,\u001b[49m\u001b[43m \u001b[49m\u001b[43mkwds\u001b[49m\u001b[43m)\u001b[49m\n",
      "File \u001b[1;32m~\\AppData\\Local\\Programs\\Python\\Python311\\Lib\\site-packages\\pandas\\io\\parsers\\readers.py:605\u001b[0m, in \u001b[0;36m_read\u001b[1;34m(filepath_or_buffer, kwds)\u001b[0m\n\u001b[0;32m    602\u001b[0m _validate_names(kwds\u001b[38;5;241m.\u001b[39mget(\u001b[38;5;124m\"\u001b[39m\u001b[38;5;124mnames\u001b[39m\u001b[38;5;124m\"\u001b[39m, \u001b[38;5;28;01mNone\u001b[39;00m))\n\u001b[0;32m    604\u001b[0m \u001b[38;5;66;03m# Create the parser.\u001b[39;00m\n\u001b[1;32m--> 605\u001b[0m parser \u001b[38;5;241m=\u001b[39m \u001b[43mTextFileReader\u001b[49m\u001b[43m(\u001b[49m\u001b[43mfilepath_or_buffer\u001b[49m\u001b[43m,\u001b[49m\u001b[43m \u001b[49m\u001b[38;5;241;43m*\u001b[39;49m\u001b[38;5;241;43m*\u001b[39;49m\u001b[43mkwds\u001b[49m\u001b[43m)\u001b[49m\n\u001b[0;32m    607\u001b[0m \u001b[38;5;28;01mif\u001b[39;00m chunksize \u001b[38;5;129;01mor\u001b[39;00m iterator:\n\u001b[0;32m    608\u001b[0m     \u001b[38;5;28;01mreturn\u001b[39;00m parser\n",
      "File \u001b[1;32m~\\AppData\\Local\\Programs\\Python\\Python311\\Lib\\site-packages\\pandas\\io\\parsers\\readers.py:1442\u001b[0m, in \u001b[0;36mTextFileReader.__init__\u001b[1;34m(self, f, engine, **kwds)\u001b[0m\n\u001b[0;32m   1439\u001b[0m     \u001b[38;5;28mself\u001b[39m\u001b[38;5;241m.\u001b[39moptions[\u001b[38;5;124m\"\u001b[39m\u001b[38;5;124mhas_index_names\u001b[39m\u001b[38;5;124m\"\u001b[39m] \u001b[38;5;241m=\u001b[39m kwds[\u001b[38;5;124m\"\u001b[39m\u001b[38;5;124mhas_index_names\u001b[39m\u001b[38;5;124m\"\u001b[39m]\n\u001b[0;32m   1441\u001b[0m \u001b[38;5;28mself\u001b[39m\u001b[38;5;241m.\u001b[39mhandles: IOHandles \u001b[38;5;241m|\u001b[39m \u001b[38;5;28;01mNone\u001b[39;00m \u001b[38;5;241m=\u001b[39m \u001b[38;5;28;01mNone\u001b[39;00m\n\u001b[1;32m-> 1442\u001b[0m \u001b[38;5;28mself\u001b[39m\u001b[38;5;241m.\u001b[39m_engine \u001b[38;5;241m=\u001b[39m \u001b[38;5;28;43mself\u001b[39;49m\u001b[38;5;241;43m.\u001b[39;49m\u001b[43m_make_engine\u001b[49m\u001b[43m(\u001b[49m\u001b[43mf\u001b[49m\u001b[43m,\u001b[49m\u001b[43m \u001b[49m\u001b[38;5;28;43mself\u001b[39;49m\u001b[38;5;241;43m.\u001b[39;49m\u001b[43mengine\u001b[49m\u001b[43m)\u001b[49m\n",
      "File \u001b[1;32m~\\AppData\\Local\\Programs\\Python\\Python311\\Lib\\site-packages\\pandas\\io\\parsers\\readers.py:1735\u001b[0m, in \u001b[0;36mTextFileReader._make_engine\u001b[1;34m(self, f, engine)\u001b[0m\n\u001b[0;32m   1733\u001b[0m     \u001b[38;5;28;01mif\u001b[39;00m \u001b[38;5;124m\"\u001b[39m\u001b[38;5;124mb\u001b[39m\u001b[38;5;124m\"\u001b[39m \u001b[38;5;129;01mnot\u001b[39;00m \u001b[38;5;129;01min\u001b[39;00m mode:\n\u001b[0;32m   1734\u001b[0m         mode \u001b[38;5;241m+\u001b[39m\u001b[38;5;241m=\u001b[39m \u001b[38;5;124m\"\u001b[39m\u001b[38;5;124mb\u001b[39m\u001b[38;5;124m\"\u001b[39m\n\u001b[1;32m-> 1735\u001b[0m \u001b[38;5;28mself\u001b[39m\u001b[38;5;241m.\u001b[39mhandles \u001b[38;5;241m=\u001b[39m \u001b[43mget_handle\u001b[49m\u001b[43m(\u001b[49m\n\u001b[0;32m   1736\u001b[0m \u001b[43m    \u001b[49m\u001b[43mf\u001b[49m\u001b[43m,\u001b[49m\n\u001b[0;32m   1737\u001b[0m \u001b[43m    \u001b[49m\u001b[43mmode\u001b[49m\u001b[43m,\u001b[49m\n\u001b[0;32m   1738\u001b[0m \u001b[43m    \u001b[49m\u001b[43mencoding\u001b[49m\u001b[38;5;241;43m=\u001b[39;49m\u001b[38;5;28;43mself\u001b[39;49m\u001b[38;5;241;43m.\u001b[39;49m\u001b[43moptions\u001b[49m\u001b[38;5;241;43m.\u001b[39;49m\u001b[43mget\u001b[49m\u001b[43m(\u001b[49m\u001b[38;5;124;43m\"\u001b[39;49m\u001b[38;5;124;43mencoding\u001b[39;49m\u001b[38;5;124;43m\"\u001b[39;49m\u001b[43m,\u001b[49m\u001b[43m \u001b[49m\u001b[38;5;28;43;01mNone\u001b[39;49;00m\u001b[43m)\u001b[49m\u001b[43m,\u001b[49m\n\u001b[0;32m   1739\u001b[0m \u001b[43m    \u001b[49m\u001b[43mcompression\u001b[49m\u001b[38;5;241;43m=\u001b[39;49m\u001b[38;5;28;43mself\u001b[39;49m\u001b[38;5;241;43m.\u001b[39;49m\u001b[43moptions\u001b[49m\u001b[38;5;241;43m.\u001b[39;49m\u001b[43mget\u001b[49m\u001b[43m(\u001b[49m\u001b[38;5;124;43m\"\u001b[39;49m\u001b[38;5;124;43mcompression\u001b[39;49m\u001b[38;5;124;43m\"\u001b[39;49m\u001b[43m,\u001b[49m\u001b[43m \u001b[49m\u001b[38;5;28;43;01mNone\u001b[39;49;00m\u001b[43m)\u001b[49m\u001b[43m,\u001b[49m\n\u001b[0;32m   1740\u001b[0m \u001b[43m    \u001b[49m\u001b[43mmemory_map\u001b[49m\u001b[38;5;241;43m=\u001b[39;49m\u001b[38;5;28;43mself\u001b[39;49m\u001b[38;5;241;43m.\u001b[39;49m\u001b[43moptions\u001b[49m\u001b[38;5;241;43m.\u001b[39;49m\u001b[43mget\u001b[49m\u001b[43m(\u001b[49m\u001b[38;5;124;43m\"\u001b[39;49m\u001b[38;5;124;43mmemory_map\u001b[39;49m\u001b[38;5;124;43m\"\u001b[39;49m\u001b[43m,\u001b[49m\u001b[43m \u001b[49m\u001b[38;5;28;43;01mFalse\u001b[39;49;00m\u001b[43m)\u001b[49m\u001b[43m,\u001b[49m\n\u001b[0;32m   1741\u001b[0m \u001b[43m    \u001b[49m\u001b[43mis_text\u001b[49m\u001b[38;5;241;43m=\u001b[39;49m\u001b[43mis_text\u001b[49m\u001b[43m,\u001b[49m\n\u001b[0;32m   1742\u001b[0m \u001b[43m    \u001b[49m\u001b[43merrors\u001b[49m\u001b[38;5;241;43m=\u001b[39;49m\u001b[38;5;28;43mself\u001b[39;49m\u001b[38;5;241;43m.\u001b[39;49m\u001b[43moptions\u001b[49m\u001b[38;5;241;43m.\u001b[39;49m\u001b[43mget\u001b[49m\u001b[43m(\u001b[49m\u001b[38;5;124;43m\"\u001b[39;49m\u001b[38;5;124;43mencoding_errors\u001b[39;49m\u001b[38;5;124;43m\"\u001b[39;49m\u001b[43m,\u001b[49m\u001b[43m \u001b[49m\u001b[38;5;124;43m\"\u001b[39;49m\u001b[38;5;124;43mstrict\u001b[39;49m\u001b[38;5;124;43m\"\u001b[39;49m\u001b[43m)\u001b[49m\u001b[43m,\u001b[49m\n\u001b[0;32m   1743\u001b[0m \u001b[43m    \u001b[49m\u001b[43mstorage_options\u001b[49m\u001b[38;5;241;43m=\u001b[39;49m\u001b[38;5;28;43mself\u001b[39;49m\u001b[38;5;241;43m.\u001b[39;49m\u001b[43moptions\u001b[49m\u001b[38;5;241;43m.\u001b[39;49m\u001b[43mget\u001b[49m\u001b[43m(\u001b[49m\u001b[38;5;124;43m\"\u001b[39;49m\u001b[38;5;124;43mstorage_options\u001b[39;49m\u001b[38;5;124;43m\"\u001b[39;49m\u001b[43m,\u001b[49m\u001b[43m \u001b[49m\u001b[38;5;28;43;01mNone\u001b[39;49;00m\u001b[43m)\u001b[49m\u001b[43m,\u001b[49m\n\u001b[0;32m   1744\u001b[0m \u001b[43m\u001b[49m\u001b[43m)\u001b[49m\n\u001b[0;32m   1745\u001b[0m \u001b[38;5;28;01massert\u001b[39;00m \u001b[38;5;28mself\u001b[39m\u001b[38;5;241m.\u001b[39mhandles \u001b[38;5;129;01mis\u001b[39;00m \u001b[38;5;129;01mnot\u001b[39;00m \u001b[38;5;28;01mNone\u001b[39;00m\n\u001b[0;32m   1746\u001b[0m f \u001b[38;5;241m=\u001b[39m \u001b[38;5;28mself\u001b[39m\u001b[38;5;241m.\u001b[39mhandles\u001b[38;5;241m.\u001b[39mhandle\n",
      "File \u001b[1;32m~\\AppData\\Local\\Programs\\Python\\Python311\\Lib\\site-packages\\pandas\\io\\common.py:856\u001b[0m, in \u001b[0;36mget_handle\u001b[1;34m(path_or_buf, mode, encoding, compression, memory_map, is_text, errors, storage_options)\u001b[0m\n\u001b[0;32m    851\u001b[0m \u001b[38;5;28;01melif\u001b[39;00m \u001b[38;5;28misinstance\u001b[39m(handle, \u001b[38;5;28mstr\u001b[39m):\n\u001b[0;32m    852\u001b[0m     \u001b[38;5;66;03m# Check whether the filename is to be opened in binary mode.\u001b[39;00m\n\u001b[0;32m    853\u001b[0m     \u001b[38;5;66;03m# Binary mode does not support 'encoding' and 'newline'.\u001b[39;00m\n\u001b[0;32m    854\u001b[0m     \u001b[38;5;28;01mif\u001b[39;00m ioargs\u001b[38;5;241m.\u001b[39mencoding \u001b[38;5;129;01mand\u001b[39;00m \u001b[38;5;124m\"\u001b[39m\u001b[38;5;124mb\u001b[39m\u001b[38;5;124m\"\u001b[39m \u001b[38;5;129;01mnot\u001b[39;00m \u001b[38;5;129;01min\u001b[39;00m ioargs\u001b[38;5;241m.\u001b[39mmode:\n\u001b[0;32m    855\u001b[0m         \u001b[38;5;66;03m# Encoding\u001b[39;00m\n\u001b[1;32m--> 856\u001b[0m         handle \u001b[38;5;241m=\u001b[39m \u001b[38;5;28;43mopen\u001b[39;49m\u001b[43m(\u001b[49m\n\u001b[0;32m    857\u001b[0m \u001b[43m            \u001b[49m\u001b[43mhandle\u001b[49m\u001b[43m,\u001b[49m\n\u001b[0;32m    858\u001b[0m \u001b[43m            \u001b[49m\u001b[43mioargs\u001b[49m\u001b[38;5;241;43m.\u001b[39;49m\u001b[43mmode\u001b[49m\u001b[43m,\u001b[49m\n\u001b[0;32m    859\u001b[0m \u001b[43m            \u001b[49m\u001b[43mencoding\u001b[49m\u001b[38;5;241;43m=\u001b[39;49m\u001b[43mioargs\u001b[49m\u001b[38;5;241;43m.\u001b[39;49m\u001b[43mencoding\u001b[49m\u001b[43m,\u001b[49m\n\u001b[0;32m    860\u001b[0m \u001b[43m            \u001b[49m\u001b[43merrors\u001b[49m\u001b[38;5;241;43m=\u001b[39;49m\u001b[43merrors\u001b[49m\u001b[43m,\u001b[49m\n\u001b[0;32m    861\u001b[0m \u001b[43m            \u001b[49m\u001b[43mnewline\u001b[49m\u001b[38;5;241;43m=\u001b[39;49m\u001b[38;5;124;43m\"\u001b[39;49m\u001b[38;5;124;43m\"\u001b[39;49m\u001b[43m,\u001b[49m\n\u001b[0;32m    862\u001b[0m \u001b[43m        \u001b[49m\u001b[43m)\u001b[49m\n\u001b[0;32m    863\u001b[0m     \u001b[38;5;28;01melse\u001b[39;00m:\n\u001b[0;32m    864\u001b[0m         \u001b[38;5;66;03m# Binary mode\u001b[39;00m\n\u001b[0;32m    865\u001b[0m         handle \u001b[38;5;241m=\u001b[39m \u001b[38;5;28mopen\u001b[39m(handle, ioargs\u001b[38;5;241m.\u001b[39mmode)\n",
      "\u001b[1;31mFileNotFoundError\u001b[0m: [Errno 2] No such file or directory: 'Real.csv'"
     ]
    }
   ],
   "source": [
    "df_true=pd.read_csv('Real.csv',encoding='windows-1252')\n",
    "#df_true_rep=[df_true['text'][i].replace('WASHINGTON(Reuters)-','').replace]\n",
    "#df_true['text']=df_true_rep"
   ]
  },
  {
   "cell_type": "code",
   "execution_count": 39,
   "metadata": {},
   "outputs": [],
   "source": [
    "df_fake=pd.read_csv('Fake.csv',encoding='windows-1252')"
   ]
  },
  {
   "cell_type": "code",
   "execution_count": 40,
   "metadata": {},
   "outputs": [],
   "source": [
    "df_final=pd.concat([df_true,df_fake])"
   ]
  },
  {
   "cell_type": "code",
   "execution_count": 41,
   "metadata": {},
   "outputs": [
    {
     "data": {
      "text/html": [
       "<div>\n",
       "<style scoped>\n",
       "    .dataframe tbody tr th:only-of-type {\n",
       "        vertical-align: middle;\n",
       "    }\n",
       "\n",
       "    .dataframe tbody tr th {\n",
       "        vertical-align: top;\n",
       "    }\n",
       "\n",
       "    .dataframe thead th {\n",
       "        text-align: right;\n",
       "    }\n",
       "</style>\n",
       "<table border=\"1\" class=\"dataframe\">\n",
       "  <thead>\n",
       "    <tr style=\"text-align: right;\">\n",
       "      <th></th>\n",
       "      <th>Unnamed: 0</th>\n",
       "      <th>title</th>\n",
       "      <th>text</th>\n",
       "      <th>label</th>\n",
       "    </tr>\n",
       "  </thead>\n",
       "  <tbody>\n",
       "    <tr>\n",
       "      <th>0</th>\n",
       "      <td>NaN</td>\n",
       "      <td>The reason why the COVID-19 mortality rate and...</td>\n",
       "      <td>instant download http://drberg.com/covid-waves...</td>\n",
       "      <td>False</td>\n",
       "    </tr>\n",
       "    <tr>\n",
       "      <th>1</th>\n",
       "      <td>947.0</td>\n",
       "      <td>Some mouthwashes could help curb coronavirus</td>\n",
       "      <td>researchers are looking into possibility that ...</td>\n",
       "      <td>False</td>\n",
       "    </tr>\n",
       "    <tr>\n",
       "      <th>2</th>\n",
       "      <td>948.0</td>\n",
       "      <td>The World Health Organization confirmed that t...</td>\n",
       "      <td>zerohedge on long enough timeline survival rat...</td>\n",
       "      <td>False</td>\n",
       "    </tr>\n",
       "    <tr>\n",
       "      <th>3</th>\n",
       "      <td>949.0</td>\n",
       "      <td>The U.S. CDC said that the virus which causes ...</td>\n",
       "      <td>owen breaks down latest update from cdc as the...</td>\n",
       "      <td>False</td>\n",
       "    </tr>\n",
       "    <tr>\n",
       "      <th>4</th>\n",
       "      <td>955.0</td>\n",
       "      <td>The genomic sequences of coronaviruses that su...</td>\n",
       "      <td>two possibilities should be considered for ori...</td>\n",
       "      <td>False</td>\n",
       "    </tr>\n",
       "    <tr>\n",
       "      <th>5</th>\n",
       "      <td>958.0</td>\n",
       "      <td>The U.S. government has released their initial...</td>\n",
       "      <td>earlier today trump administration released it...</td>\n",
       "      <td>False</td>\n",
       "    </tr>\n",
       "    <tr>\n",
       "      <th>6</th>\n",
       "      <td>963.0</td>\n",
       "      <td>More babies die by abortion in two days than a...</td>\n",
       "      <td>more babies will die by abortion in two days t...</td>\n",
       "      <td>False</td>\n",
       "    </tr>\n",
       "    <tr>\n",
       "      <th>7</th>\n",
       "      <td>966.0</td>\n",
       "      <td>The U.S. CDC encourages the use of a “[COVID-1...</td>\n",
       "      <td>covid parent warning alert i had to take my so...</td>\n",
       "      <td>False</td>\n",
       "    </tr>\n",
       "    <tr>\n",
       "      <th>8</th>\n",
       "      <td>968.0</td>\n",
       "      <td>“Coronavirus was created in Wuhan lab and rele...</td>\n",
       "      <td>just now on tucker carlson it was revealed tha...</td>\n",
       "      <td>False</td>\n",
       "    </tr>\n",
       "    <tr>\n",
       "      <th>9</th>\n",
       "      <td>969.0</td>\n",
       "      <td>If you decide you don’t want the COVID-19 vacc...</td>\n",
       "      <td>earlier today trump administration released it...</td>\n",
       "      <td>False</td>\n",
       "    </tr>\n",
       "    <tr>\n",
       "      <th>10</th>\n",
       "      <td>970.0</td>\n",
       "      <td>There is no second wave of COVID-19; this seco...</td>\n",
       "      <td>it 's not second wave of c19 coming soon. it '...</td>\n",
       "      <td>False</td>\n",
       "    </tr>\n",
       "    <tr>\n",
       "      <th>11</th>\n",
       "      <td>971.0</td>\n",
       "      <td>Genetic evidence within the Spike gene of the ...</td>\n",
       "      <td>dr. li meng yan joins tucker carlson with insi...</td>\n",
       "      <td>False</td>\n",
       "    </tr>\n",
       "    <tr>\n",
       "      <th>12</th>\n",
       "      <td>973.0</td>\n",
       "      <td>PGA golfer Bubba Wallace wrote Facebook post t...</td>\n",
       "      <td>hooray for bubba watson. he put into words wha...</td>\n",
       "      <td>False</td>\n",
       "    </tr>\n",
       "    <tr>\n",
       "      <th>13</th>\n",
       "      <td>974.0</td>\n",
       "      <td>The World Integrated Trade Solutions (WITS) we...</td>\n",
       "      <td>this is incredibly strange. world bank website...</td>\n",
       "      <td>False</td>\n",
       "    </tr>\n",
       "  </tbody>\n",
       "</table>\n",
       "</div>"
      ],
      "text/plain": [
       "    Unnamed: 0                                              title  \\\n",
       "0          NaN  The reason why the COVID-19 mortality rate and...   \n",
       "1        947.0       Some mouthwashes could help curb coronavirus   \n",
       "2        948.0  The World Health Organization confirmed that t...   \n",
       "3        949.0  The U.S. CDC said that the virus which causes ...   \n",
       "4        955.0  The genomic sequences of coronaviruses that su...   \n",
       "5        958.0  The U.S. government has released their initial...   \n",
       "6        963.0  More babies die by abortion in two days than a...   \n",
       "7        966.0  The U.S. CDC encourages the use of a “[COVID-1...   \n",
       "8        968.0  “Coronavirus was created in Wuhan lab and rele...   \n",
       "9        969.0  If you decide you don’t want the COVID-19 vacc...   \n",
       "10       970.0  There is no second wave of COVID-19; this seco...   \n",
       "11       971.0  Genetic evidence within the Spike gene of the ...   \n",
       "12       973.0  PGA golfer Bubba Wallace wrote Facebook post t...   \n",
       "13       974.0  The World Integrated Trade Solutions (WITS) we...   \n",
       "\n",
       "                                                 text  label  \n",
       "0   instant download http://drberg.com/covid-waves...  False  \n",
       "1   researchers are looking into possibility that ...  False  \n",
       "2   zerohedge on long enough timeline survival rat...  False  \n",
       "3   owen breaks down latest update from cdc as the...  False  \n",
       "4   two possibilities should be considered for ori...  False  \n",
       "5   earlier today trump administration released it...  False  \n",
       "6   more babies will die by abortion in two days t...  False  \n",
       "7   covid parent warning alert i had to take my so...  False  \n",
       "8   just now on tucker carlson it was revealed tha...  False  \n",
       "9   earlier today trump administration released it...  False  \n",
       "10  it 's not second wave of c19 coming soon. it '...  False  \n",
       "11  dr. li meng yan joins tucker carlson with insi...  False  \n",
       "12  hooray for bubba watson. he put into words wha...  False  \n",
       "13  this is incredibly strange. world bank website...  False  "
      ]
     },
     "execution_count": 41,
     "metadata": {},
     "output_type": "execute_result"
    }
   ],
   "source": [
    "df_fake"
   ]
  },
  {
   "cell_type": "code",
   "execution_count": 42,
   "metadata": {},
   "outputs": [],
   "source": [
    "def find_label(newtext):\n",
    "    vec_newtext=tfidf_vectorizer.transform([newtext])\n",
    "    y_pred=pac.predict(vec_newtext)\n",
    "    return y_pred[0]"
   ]
  },
  {
   "cell_type": "code",
   "execution_count": 43,
   "metadata": {},
   "outputs": [
    {
     "data": {
      "text/plain": [
       "'False'"
      ]
     },
     "execution_count": 43,
     "metadata": {},
     "output_type": "execute_result"
    }
   ],
   "source": [
    "find_label((df_true['text'][0]))#predicting true news as false"
   ]
  },
  {
   "cell_type": "code",
   "execution_count": 46,
   "metadata": {},
   "outputs": [
    {
     "data": {
      "text/plain": [
       "'experts warn covid-19 pandemic may intensify over winter months but there are steps you can take to protect yourself and your family .. '"
      ]
     },
     "execution_count": 46,
     "metadata": {},
     "output_type": "execute_result"
    }
   ],
   "source": [
    "df_true['text'][0]"
   ]
  },
  {
   "cell_type": "code",
   "execution_count": 45,
   "metadata": {},
   "outputs": [
    {
     "data": {
      "text/plain": [
       "'False'"
      ]
     },
     "execution_count": 45,
     "metadata": {},
     "output_type": "execute_result"
    }
   ],
   "source": [
    "find_label((df_fake['text'][0]))"
   ]
  },
  {
   "cell_type": "code",
   "execution_count": 47,
   "metadata": {},
   "outputs": [
    {
     "data": {
      "text/plain": [
       "'instant download http://drberg.com/covid-waves covid-19 first and second wave)here are references:1. swedish study about memory t cells and long term .... '"
      ]
     },
     "execution_count": 47,
     "metadata": {},
     "output_type": "execute_result"
    }
   ],
   "source": [
    "df_fake['text'][0]"
   ]
  },
  {
   "cell_type": "code",
   "execution_count": 48,
   "metadata": {},
   "outputs": [
    {
     "data": {
      "text/plain": [
       "0.1631578947368421"
      ]
     },
     "execution_count": 48,
     "metadata": {},
     "output_type": "execute_result"
    }
   ],
   "source": [
    "sum([1 if find_label((df_true['text'][i]))=='True' else 0 for i in range(len(df_true['text']))])/df_true['text'].size"
   ]
  },
  {
   "cell_type": "code",
   "execution_count": 2,
   "metadata": {},
   "outputs": [
    {
     "ename": "NameError",
     "evalue": "name 'df_fake' is not defined",
     "output_type": "error",
     "traceback": [
      "\u001b[1;31m---------------------------------------------------------------------------\u001b[0m",
      "\u001b[1;31mNameError\u001b[0m                                 Traceback (most recent call last)",
      "\u001b[1;32m<ipython-input-2-5aa193631a37>\u001b[0m in \u001b[0;36m<module>\u001b[1;34m\u001b[0m\n\u001b[1;32m----> 1\u001b[1;33m \u001b[0msum\u001b[0m\u001b[1;33m(\u001b[0m\u001b[1;33m[\u001b[0m\u001b[1;36m1\u001b[0m \u001b[1;32mif\u001b[0m \u001b[0mfind_label\u001b[0m\u001b[1;33m(\u001b[0m\u001b[1;33m(\u001b[0m\u001b[0mdf_fake\u001b[0m\u001b[1;33m[\u001b[0m\u001b[1;34m'text'\u001b[0m\u001b[1;33m]\u001b[0m\u001b[1;33m[\u001b[0m\u001b[0mi\u001b[0m\u001b[1;33m]\u001b[0m\u001b[1;33m)\u001b[0m\u001b[1;33m)\u001b[0m\u001b[1;33m==\u001b[0m\u001b[1;34m'Fake'\u001b[0m \u001b[1;32melse\u001b[0m \u001b[1;36m0\u001b[0m \u001b[1;32mfor\u001b[0m \u001b[0mi\u001b[0m \u001b[1;32min\u001b[0m \u001b[0mrange\u001b[0m\u001b[1;33m(\u001b[0m\u001b[0mlen\u001b[0m\u001b[1;33m(\u001b[0m\u001b[0mdf_fake\u001b[0m\u001b[1;33m[\u001b[0m\u001b[1;34m'text'\u001b[0m\u001b[1;33m]\u001b[0m\u001b[1;33m)\u001b[0m\u001b[1;33m)\u001b[0m\u001b[1;33m]\u001b[0m\u001b[1;33m)\u001b[0m\u001b[1;33m/\u001b[0m\u001b[0mdf_fake\u001b[0m\u001b[1;33m[\u001b[0m\u001b[1;34m'text'\u001b[0m\u001b[1;33m]\u001b[0m\u001b[1;33m.\u001b[0m\u001b[0msize\u001b[0m\u001b[1;33m\u001b[0m\u001b[1;33m\u001b[0m\u001b[0m\n\u001b[0m",
      "\u001b[1;31mNameError\u001b[0m: name 'df_fake' is not defined"
     ]
    }
   ],
   "source": [
    "sum([1 if find_label((df_fake['text'][i]))=='False' else 0 for i in range(len(df_fake['text']))])/df_fake['text'].size"
   ]
  },
  {
   "cell_type": "code",
   "execution_count": 50,
   "metadata": {},
   "outputs": [],
   "source": [
    "#Only 16% times the model predicts the actual results as true for the unknown dataset which all the news are true\n",
    "#Only 28% times the model predicts the actual results as true for the unknown dataset which all the news are false"
   ]
  },
  {
   "cell_type": "code",
   "execution_count": null,
   "metadata": {},
   "outputs": [],
   "source": [
    "#So can't conclude only with the accuracy"
   ]
  }
 ],
 "metadata": {
  "kernelspec": {
   "display_name": "Python 3 (ipykernel)",
   "language": "python",
   "name": "python3"
  },
  "language_info": {
   "codemirror_mode": {
    "name": "ipython",
    "version": 3
   },
   "file_extension": ".py",
   "mimetype": "text/x-python",
   "name": "python",
   "nbconvert_exporter": "python",
   "pygments_lexer": "ipython3",
   "version": "3.11.1"
  }
 },
 "nbformat": 4,
 "nbformat_minor": 4
}
