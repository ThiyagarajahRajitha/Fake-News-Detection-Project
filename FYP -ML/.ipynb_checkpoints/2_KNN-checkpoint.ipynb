{
 "cells": [
  {
   "cell_type": "code",
   "execution_count": 1,
   "metadata": {},
   "outputs": [],
   "source": [
    "import numpy as np\n",
    "import pandas as pd"
   ]
  },
  {
   "cell_type": "code",
   "execution_count": 2,
   "metadata": {},
   "outputs": [],
   "source": [
    "from sklearn.feature_extraction.text import TfidfVectorizer\n",
    "from sklearn.model_selection import train_test_split\n",
    "from sklearn.metrics import accuracy_score, confusion_matrix\n",
    "from sklearn.model_selection import cross_val_score"
   ]
  },
  {
   "cell_type": "code",
   "execution_count": 3,
   "metadata": {},
   "outputs": [
    {
     "data": {
      "text/html": [
       "<div>\n",
       "<style scoped>\n",
       "    .dataframe tbody tr th:only-of-type {\n",
       "        vertical-align: middle;\n",
       "    }\n",
       "\n",
       "    .dataframe tbody tr th {\n",
       "        vertical-align: top;\n",
       "    }\n",
       "\n",
       "    .dataframe thead th {\n",
       "        text-align: right;\n",
       "    }\n",
       "</style>\n",
       "<table border=\"1\" class=\"dataframe\">\n",
       "  <thead>\n",
       "    <tr style=\"text-align: right;\">\n",
       "      <th></th>\n",
       "      <th>Unnamed: 0</th>\n",
       "      <th>title</th>\n",
       "      <th>text</th>\n",
       "      <th>subcategory</th>\n",
       "      <th>label</th>\n",
       "    </tr>\n",
       "  </thead>\n",
       "  <tbody>\n",
       "    <tr>\n",
       "      <th>0</th>\n",
       "      <td>0</td>\n",
       "      <td>FACEBOOK DELETES MICHIGAN ANTI-LOCKDOWN GROUP ...</td>\n",
       "      <td>Facebook has shuttered a popular group for Mic...</td>\n",
       "      <td>false news</td>\n",
       "      <td>0</td>\n",
       "    </tr>\n",
       "    <tr>\n",
       "      <th>1</th>\n",
       "      <td>1</td>\n",
       "      <td>Other Viewpoints: COVID-19 is worse than the flu</td>\n",
       "      <td>We can now officially put to rest all comparis...</td>\n",
       "      <td>true</td>\n",
       "      <td>1</td>\n",
       "    </tr>\n",
       "    <tr>\n",
       "      <th>2</th>\n",
       "      <td>2</td>\n",
       "      <td>Bermuda's COVID-19 cases surpass 100</td>\n",
       "      <td>The Ministry of Health in Bermuda has confirme...</td>\n",
       "      <td>true</td>\n",
       "      <td>1</td>\n",
       "    </tr>\n",
       "    <tr>\n",
       "      <th>3</th>\n",
       "      <td>3</td>\n",
       "      <td>Purdue University says students face 'close to...</td>\n",
       "      <td>Purdue University President Mitch Daniels, the...</td>\n",
       "      <td>partially false</td>\n",
       "      <td>0</td>\n",
       "    </tr>\n",
       "    <tr>\n",
       "      <th>4</th>\n",
       "      <td>4</td>\n",
       "      <td>THE HIGH COST OF LOCKING DOWN AMERICA: “WE’VE ...</td>\n",
       "      <td>Locking down much of the country may have help...</td>\n",
       "      <td>false news</td>\n",
       "      <td>0</td>\n",
       "    </tr>\n",
       "    <tr>\n",
       "      <th>...</th>\n",
       "      <td>...</td>\n",
       "      <td>...</td>\n",
       "      <td>...</td>\n",
       "      <td>...</td>\n",
       "      <td>...</td>\n",
       "    </tr>\n",
       "    <tr>\n",
       "      <th>3114</th>\n",
       "      <td>2998</td>\n",
       "      <td>2019-nCoV: Health dept. on full alert</td>\n",
       "      <td>Quarantine advised for 80 persons across the S...</td>\n",
       "      <td>true</td>\n",
       "      <td>1</td>\n",
       "    </tr>\n",
       "    <tr>\n",
       "      <th>3115</th>\n",
       "      <td>2999</td>\n",
       "      <td>Screening machine for corona virus launched at...</td>\n",
       "      <td>South Sudan has begun screening all travelers ...</td>\n",
       "      <td>true</td>\n",
       "      <td>1</td>\n",
       "    </tr>\n",
       "    <tr>\n",
       "      <th>3116</th>\n",
       "      <td>3000</td>\n",
       "      <td>Coronavirus (2019-nCoV)</td>\n",
       "      <td>Coronavirus (2019-nCoV) is a new respiratory i...</td>\n",
       "      <td>true</td>\n",
       "      <td>1</td>\n",
       "    </tr>\n",
       "    <tr>\n",
       "      <th>3117</th>\n",
       "      <td>3001</td>\n",
       "      <td>Characterizing Patients Hospitalized With COVI...</td>\n",
       "      <td>Characterizing Patients Hospitalized With COVI...</td>\n",
       "      <td>false news</td>\n",
       "      <td>0</td>\n",
       "    </tr>\n",
       "    <tr>\n",
       "      <th>3118</th>\n",
       "      <td>3002</td>\n",
       "      <td>Corona Virus WARNING</td>\n",
       "      <td>Just something to be prepared for… but then it...</td>\n",
       "      <td>false news</td>\n",
       "      <td>0</td>\n",
       "    </tr>\n",
       "  </tbody>\n",
       "</table>\n",
       "<p>3119 rows × 5 columns</p>\n",
       "</div>"
      ],
      "text/plain": [
       "      Unnamed: 0                                              title  \\\n",
       "0              0  FACEBOOK DELETES MICHIGAN ANTI-LOCKDOWN GROUP ...   \n",
       "1              1   Other Viewpoints: COVID-19 is worse than the flu   \n",
       "2              2               Bermuda's COVID-19 cases surpass 100   \n",
       "3              3  Purdue University says students face 'close to...   \n",
       "4              4  THE HIGH COST OF LOCKING DOWN AMERICA: “WE’VE ...   \n",
       "...          ...                                                ...   \n",
       "3114        2998              2019-nCoV: Health dept. on full alert   \n",
       "3115        2999  Screening machine for corona virus launched at...   \n",
       "3116        3000                            Coronavirus (2019-nCoV)   \n",
       "3117        3001  Characterizing Patients Hospitalized With COVI...   \n",
       "3118        3002                               Corona Virus WARNING   \n",
       "\n",
       "                                                   text      subcategory  \\\n",
       "0     Facebook has shuttered a popular group for Mic...       false news   \n",
       "1     We can now officially put to rest all comparis...             true   \n",
       "2     The Ministry of Health in Bermuda has confirme...             true   \n",
       "3     Purdue University President Mitch Daniels, the...  partially false   \n",
       "4     Locking down much of the country may have help...       false news   \n",
       "...                                                 ...              ...   \n",
       "3114  Quarantine advised for 80 persons across the S...             true   \n",
       "3115  South Sudan has begun screening all travelers ...             true   \n",
       "3116  Coronavirus (2019-nCoV) is a new respiratory i...             true   \n",
       "3117  Characterizing Patients Hospitalized With COVI...       false news   \n",
       "3118  Just something to be prepared for… but then it...       false news   \n",
       "\n",
       "      label  \n",
       "0         0  \n",
       "1         1  \n",
       "2         1  \n",
       "3         0  \n",
       "4         0  \n",
       "...     ...  \n",
       "3114      1  \n",
       "3115      1  \n",
       "3116      1  \n",
       "3117      0  \n",
       "3118      0  \n",
       "\n",
       "[3119 rows x 5 columns]"
      ]
     },
     "execution_count": 3,
     "metadata": {},
     "output_type": "execute_result"
    }
   ],
   "source": [
    "df=pd.read_csv('1_fake_new_dataset_3120.csv',encoding='windows-1252')#had some decode error. so used encoding\n",
    "df"
   ]
  },
  {
   "cell_type": "code",
   "execution_count": 4,
   "metadata": {},
   "outputs": [
    {
     "data": {
      "text/html": [
       "<div>\n",
       "<style scoped>\n",
       "    .dataframe tbody tr th:only-of-type {\n",
       "        vertical-align: middle;\n",
       "    }\n",
       "\n",
       "    .dataframe tbody tr th {\n",
       "        vertical-align: top;\n",
       "    }\n",
       "\n",
       "    .dataframe thead th {\n",
       "        text-align: right;\n",
       "    }\n",
       "</style>\n",
       "<table border=\"1\" class=\"dataframe\">\n",
       "  <thead>\n",
       "    <tr style=\"text-align: right;\">\n",
       "      <th></th>\n",
       "      <th>Unnamed: 0</th>\n",
       "      <th>title</th>\n",
       "      <th>text</th>\n",
       "      <th>subcategory</th>\n",
       "      <th>label</th>\n",
       "    </tr>\n",
       "  </thead>\n",
       "  <tbody>\n",
       "    <tr>\n",
       "      <th>0</th>\n",
       "      <td>0</td>\n",
       "      <td>FACEBOOK DELETES MICHIGAN ANTI-LOCKDOWN GROUP ...</td>\n",
       "      <td>Facebook has shuttered a popular group for Mic...</td>\n",
       "      <td>false news</td>\n",
       "      <td>False</td>\n",
       "    </tr>\n",
       "    <tr>\n",
       "      <th>1</th>\n",
       "      <td>1</td>\n",
       "      <td>Other Viewpoints: COVID-19 is worse than the flu</td>\n",
       "      <td>We can now officially put to rest all comparis...</td>\n",
       "      <td>true</td>\n",
       "      <td>True</td>\n",
       "    </tr>\n",
       "    <tr>\n",
       "      <th>2</th>\n",
       "      <td>2</td>\n",
       "      <td>Bermuda's COVID-19 cases surpass 100</td>\n",
       "      <td>The Ministry of Health in Bermuda has confirme...</td>\n",
       "      <td>true</td>\n",
       "      <td>True</td>\n",
       "    </tr>\n",
       "    <tr>\n",
       "      <th>3</th>\n",
       "      <td>3</td>\n",
       "      <td>Purdue University says students face 'close to...</td>\n",
       "      <td>Purdue University President Mitch Daniels, the...</td>\n",
       "      <td>partially false</td>\n",
       "      <td>False</td>\n",
       "    </tr>\n",
       "    <tr>\n",
       "      <th>4</th>\n",
       "      <td>4</td>\n",
       "      <td>THE HIGH COST OF LOCKING DOWN AMERICA: “WE’VE ...</td>\n",
       "      <td>Locking down much of the country may have help...</td>\n",
       "      <td>false news</td>\n",
       "      <td>False</td>\n",
       "    </tr>\n",
       "    <tr>\n",
       "      <th>...</th>\n",
       "      <td>...</td>\n",
       "      <td>...</td>\n",
       "      <td>...</td>\n",
       "      <td>...</td>\n",
       "      <td>...</td>\n",
       "    </tr>\n",
       "    <tr>\n",
       "      <th>3114</th>\n",
       "      <td>2998</td>\n",
       "      <td>2019-nCoV: Health dept. on full alert</td>\n",
       "      <td>Quarantine advised for 80 persons across the S...</td>\n",
       "      <td>true</td>\n",
       "      <td>True</td>\n",
       "    </tr>\n",
       "    <tr>\n",
       "      <th>3115</th>\n",
       "      <td>2999</td>\n",
       "      <td>Screening machine for corona virus launched at...</td>\n",
       "      <td>South Sudan has begun screening all travelers ...</td>\n",
       "      <td>true</td>\n",
       "      <td>True</td>\n",
       "    </tr>\n",
       "    <tr>\n",
       "      <th>3116</th>\n",
       "      <td>3000</td>\n",
       "      <td>Coronavirus (2019-nCoV)</td>\n",
       "      <td>Coronavirus (2019-nCoV) is a new respiratory i...</td>\n",
       "      <td>true</td>\n",
       "      <td>True</td>\n",
       "    </tr>\n",
       "    <tr>\n",
       "      <th>3117</th>\n",
       "      <td>3001</td>\n",
       "      <td>Characterizing Patients Hospitalized With COVI...</td>\n",
       "      <td>Characterizing Patients Hospitalized With COVI...</td>\n",
       "      <td>false news</td>\n",
       "      <td>False</td>\n",
       "    </tr>\n",
       "    <tr>\n",
       "      <th>3118</th>\n",
       "      <td>3002</td>\n",
       "      <td>Corona Virus WARNING</td>\n",
       "      <td>Just something to be prepared for… but then it...</td>\n",
       "      <td>false news</td>\n",
       "      <td>False</td>\n",
       "    </tr>\n",
       "  </tbody>\n",
       "</table>\n",
       "<p>3119 rows × 5 columns</p>\n",
       "</div>"
      ],
      "text/plain": [
       "      Unnamed: 0                                              title  \\\n",
       "0              0  FACEBOOK DELETES MICHIGAN ANTI-LOCKDOWN GROUP ...   \n",
       "1              1   Other Viewpoints: COVID-19 is worse than the flu   \n",
       "2              2               Bermuda's COVID-19 cases surpass 100   \n",
       "3              3  Purdue University says students face 'close to...   \n",
       "4              4  THE HIGH COST OF LOCKING DOWN AMERICA: “WE’VE ...   \n",
       "...          ...                                                ...   \n",
       "3114        2998              2019-nCoV: Health dept. on full alert   \n",
       "3115        2999  Screening machine for corona virus launched at...   \n",
       "3116        3000                            Coronavirus (2019-nCoV)   \n",
       "3117        3001  Characterizing Patients Hospitalized With COVI...   \n",
       "3118        3002                               Corona Virus WARNING   \n",
       "\n",
       "                                                   text      subcategory  \\\n",
       "0     Facebook has shuttered a popular group for Mic...       false news   \n",
       "1     We can now officially put to rest all comparis...             true   \n",
       "2     The Ministry of Health in Bermuda has confirme...             true   \n",
       "3     Purdue University President Mitch Daniels, the...  partially false   \n",
       "4     Locking down much of the country may have help...       false news   \n",
       "...                                                 ...              ...   \n",
       "3114  Quarantine advised for 80 persons across the S...             true   \n",
       "3115  South Sudan has begun screening all travelers ...             true   \n",
       "3116  Coronavirus (2019-nCoV) is a new respiratory i...             true   \n",
       "3117  Characterizing Patients Hospitalized With COVI...       false news   \n",
       "3118  Just something to be prepared for… but then it...       false news   \n",
       "\n",
       "      label  \n",
       "0     False  \n",
       "1      True  \n",
       "2      True  \n",
       "3     False  \n",
       "4     False  \n",
       "...     ...  \n",
       "3114   True  \n",
       "3115   True  \n",
       "3116   True  \n",
       "3117  False  \n",
       "3118  False  \n",
       "\n",
       "[3119 rows x 5 columns]"
      ]
     },
     "execution_count": 4,
     "metadata": {},
     "output_type": "execute_result"
    }
   ],
   "source": [
    "df=pd.read_csv('1_fake_new_dataset_3120.csv',encoding='windows-1252')\n",
    "conversion_dict={0:'False',1:'True'}\n",
    "df['label']=df['label'].replace(conversion_dict)#Replace 1,0 to real and fake\n",
    "df"
   ]
  },
  {
   "cell_type": "code",
   "execution_count": 43,
   "metadata": {},
   "outputs": [
    {
     "data": {
      "text/plain": [
       "True     2061\n",
       "False    1058\n",
       "Name: label, dtype: int64"
      ]
     },
     "execution_count": 43,
     "metadata": {},
     "output_type": "execute_result"
    }
   ],
   "source": [
    "#Check the balance of the data\n",
    "df.label.value_counts()#Not balanced. Have to find a way to solve this"
   ]
  },
  {
   "cell_type": "code",
   "execution_count": 75,
   "metadata": {},
   "outputs": [],
   "source": [
    "import string\n",
    "import re\n",
    "def word_drop(text):\n",
    "    text=text.lower()\n",
    "    text=re.sub('\\[.*?\\]','',text)\n",
    "    text=re.sub(\"\\\\W\",\"\",text)\n",
    "    text=re.sub('https?://\\S+|www\\.\\S+','',text)\n",
    "    text=re.sub('<.*?>+','',text)\n",
    "    text=re.sub('[%s]' % re.escape(string.punctuation),'',text)\n",
    "    text=re.sub('\\n','',text)\n",
    "    text=re.sub('\\w\"\\d\\w\"','',text)\n",
    "    return text"
   ]
  },
  {
   "cell_type": "code",
   "execution_count": 76,
   "metadata": {},
   "outputs": [],
   "source": [
    "df[\"text\"]=df[\"text\"].apply(word_drop)"
   ]
  },
  {
   "cell_type": "code",
   "execution_count": 77,
   "metadata": {},
   "outputs": [
    {
     "data": {
      "text/html": [
       "<div>\n",
       "<style scoped>\n",
       "    .dataframe tbody tr th:only-of-type {\n",
       "        vertical-align: middle;\n",
       "    }\n",
       "\n",
       "    .dataframe tbody tr th {\n",
       "        vertical-align: top;\n",
       "    }\n",
       "\n",
       "    .dataframe thead th {\n",
       "        text-align: right;\n",
       "    }\n",
       "</style>\n",
       "<table border=\"1\" class=\"dataframe\">\n",
       "  <thead>\n",
       "    <tr style=\"text-align: right;\">\n",
       "      <th></th>\n",
       "      <th>Unnamed: 0</th>\n",
       "      <th>title</th>\n",
       "      <th>text</th>\n",
       "      <th>subcategory</th>\n",
       "      <th>label</th>\n",
       "    </tr>\n",
       "  </thead>\n",
       "  <tbody>\n",
       "    <tr>\n",
       "      <th>0</th>\n",
       "      <td>0</td>\n",
       "      <td>FACEBOOK DELETES MICHIGAN ANTI-LOCKDOWN GROUP ...</td>\n",
       "      <td>facebookhasshutteredapopulargroupformichigande...</td>\n",
       "      <td>false news</td>\n",
       "      <td>False</td>\n",
       "    </tr>\n",
       "    <tr>\n",
       "      <th>1</th>\n",
       "      <td>1</td>\n",
       "      <td>Other Viewpoints: COVID-19 is worse than the flu</td>\n",
       "      <td>wecannowofficiallyputtorestallcomparisonsofcov...</td>\n",
       "      <td>true</td>\n",
       "      <td>True</td>\n",
       "    </tr>\n",
       "    <tr>\n",
       "      <th>2</th>\n",
       "      <td>2</td>\n",
       "      <td>Bermuda's COVID-19 cases surpass 100</td>\n",
       "      <td>theministryofhealthinbermudahasconfirmedanewsp...</td>\n",
       "      <td>true</td>\n",
       "      <td>True</td>\n",
       "    </tr>\n",
       "    <tr>\n",
       "      <th>3</th>\n",
       "      <td>3</td>\n",
       "      <td>Purdue University says students face 'close to...</td>\n",
       "      <td>purdueuniversitypresidentmitchdanielstheformer...</td>\n",
       "      <td>partially false</td>\n",
       "      <td>False</td>\n",
       "    </tr>\n",
       "    <tr>\n",
       "      <th>4</th>\n",
       "      <td>4</td>\n",
       "      <td>THE HIGH COST OF LOCKING DOWN AMERICA: “WE’VE ...</td>\n",
       "      <td>lockingdownmuchofthecountrymayhavehelpedtoflat...</td>\n",
       "      <td>false news</td>\n",
       "      <td>False</td>\n",
       "    </tr>\n",
       "  </tbody>\n",
       "</table>\n",
       "</div>"
      ],
      "text/plain": [
       "   Unnamed: 0                                              title  \\\n",
       "0           0  FACEBOOK DELETES MICHIGAN ANTI-LOCKDOWN GROUP ...   \n",
       "1           1   Other Viewpoints: COVID-19 is worse than the flu   \n",
       "2           2               Bermuda's COVID-19 cases surpass 100   \n",
       "3           3  Purdue University says students face 'close to...   \n",
       "4           4  THE HIGH COST OF LOCKING DOWN AMERICA: “WE’VE ...   \n",
       "\n",
       "                                                text      subcategory  label  \n",
       "0  facebookhasshutteredapopulargroupformichigande...       false news  False  \n",
       "1  wecannowofficiallyputtorestallcomparisonsofcov...             true   True  \n",
       "2  theministryofhealthinbermudahasconfirmedanewsp...             true   True  \n",
       "3  purdueuniversitypresidentmitchdanielstheformer...  partially false  False  \n",
       "4  lockingdownmuchofthecountrymayhavehelpedtoflat...       false news  False  "
      ]
     },
     "execution_count": 77,
     "metadata": {},
     "output_type": "execute_result"
    }
   ],
   "source": [
    "df.head(5)"
   ]
  },
  {
   "cell_type": "code",
   "execution_count": 78,
   "metadata": {},
   "outputs": [],
   "source": [
    "X_train, X_test,y_train, y_test=train_test_split(df['text'],df['label'],test_size=0.25,random_state=9,shuffle=True)"
   ]
  },
  {
   "cell_type": "code",
   "execution_count": 79,
   "metadata": {},
   "outputs": [],
   "source": [
    "tfidf_vectorizer=TfidfVectorizer(stop_words='english', max_df=0.75)"
   ]
  },
  {
   "cell_type": "code",
   "execution_count": 80,
   "metadata": {},
   "outputs": [],
   "source": [
    "vec_train=tfidf_vectorizer.fit_transform(X_train.values.astype('U'))\n",
    "vec_test=tfidf_vectorizer.transform(X_test.values.astype('U'))"
   ]
  },
  {
   "cell_type": "code",
   "execution_count": 81,
   "metadata": {},
   "outputs": [
    {
     "data": {
      "text/plain": [
       "KNeighborsClassifier(n_neighbors=2)"
      ]
     },
     "execution_count": 81,
     "metadata": {},
     "output_type": "execute_result"
    }
   ],
   "source": [
    "from sklearn.neighbors import KNeighborsClassifier\n",
    "knn=KNeighborsClassifier(n_neighbors=2)\n",
    "knn.fit(vec_train,y_train)"
   ]
  },
  {
   "cell_type": "code",
   "execution_count": 82,
   "metadata": {},
   "outputs": [
    {
     "name": "stdout",
     "output_type": "stream",
     "text": [
      "PAC Accuracy: 68.08%\n"
     ]
    }
   ],
   "source": [
    "y_pred=knn.predict(vec_test)\n",
    "score=accuracy_score(y_test,y_pred)\n",
    "print(f'PAC Accuracy: {round(score*100,2)}%')"
   ]
  },
  {
   "cell_type": "code",
   "execution_count": 83,
   "metadata": {},
   "outputs": [
    {
     "data": {
      "text/plain": [
       "0.6807692307692308"
      ]
     },
     "execution_count": 83,
     "metadata": {},
     "output_type": "execute_result"
    }
   ],
   "source": [
    "#Or\n",
    "knn.score(vec_test,y_test)"
   ]
  },
  {
   "cell_type": "code",
   "execution_count": 84,
   "metadata": {},
   "outputs": [],
   "source": [
    "#Can use gridSearchCV or Kfold crossvalidation to change the k value and get the optimal value"
   ]
  },
  {
   "cell_type": "code",
   "execution_count": 85,
   "metadata": {},
   "outputs": [
    {
     "data": {
      "text/plain": [
       "array([[523,   2],\n",
       "       [247,   8]], dtype=int64)"
      ]
     },
     "execution_count": 85,
     "metadata": {},
     "output_type": "execute_result"
    }
   ],
   "source": [
    "cm=confusion_matrix(y_test,y_pred, labels=['True','False'])\n",
    "cm"
   ]
  },
  {
   "cell_type": "code",
   "execution_count": 86,
   "metadata": {},
   "outputs": [
    {
     "data": {
      "text/plain": [
       "Text(24.0, 0.5, 'Actual')"
      ]
     },
     "execution_count": 86,
     "metadata": {},
     "output_type": "execute_result"
    },
    {
     "data": {
      "image/png": "[encoded data removed]",
      "text/plain": [
       "<Figure size 360x216 with 2 Axes>"
      ]
     },
     "metadata": {
      "needs_background": "light"
     },
     "output_type": "display_data"
    }
   ],
   "source": [
    "%matplotlib inline\n",
    "import matplotlib.pyplot as plt\n",
    "import seaborn as sn\n",
    "plt.figure(figsize=(5,3))\n",
    "sn.heatmap(cm,annot=True)\n",
    "plt.xlabel('Predicted')\n",
    "plt.ylabel('Actual')"
   ]
  },
  {
   "cell_type": "code",
   "execution_count": 87,
   "metadata": {},
   "outputs": [
    {
     "name": "stdout",
     "output_type": "stream",
     "text": [
      "              precision    recall  f1-score   support\n",
      "\n",
      "       False       0.80      0.03      0.06       255\n",
      "        True       0.68      1.00      0.81       525\n",
      "\n",
      "    accuracy                           0.68       780\n",
      "   macro avg       0.74      0.51      0.43       780\n",
      "weighted avg       0.72      0.68      0.56       780\n",
      "\n"
     ]
    }
   ],
   "source": [
    "from sklearn.metrics import classification_report\n",
    "print(classification_report(y_test,y_pred))"
   ]
  },
  {
   "cell_type": "code",
   "execution_count": 88,
   "metadata": {},
   "outputs": [],
   "source": [
    "df_true=pd.read_csv('Real.csv',encoding='windows-1252')\n",
    "df_fake=pd.read_csv('Fake.csv',encoding='windows-1252')\n",
    "df_final=pd.concat([df_true,df_fake])"
   ]
  },
  {
   "cell_type": "code",
   "execution_count": 89,
   "metadata": {},
   "outputs": [],
   "source": [
    "def find_label(newtext):\n",
    "    vec_newtext=tfidf_vectorizer.transform([newtext])\n",
    "    y_pred=knn.predict(vec_newtext)\n",
    "    return y_pred[0]"
   ]
  },
  {
   "cell_type": "code",
   "execution_count": 90,
   "metadata": {},
   "outputs": [
    {
     "data": {
      "text/plain": [
       "'True'"
      ]
     },
     "execution_count": 90,
     "metadata": {},
     "output_type": "execute_result"
    }
   ],
   "source": [
    "find_label((df_true['text'][0]))#predicting true news as false"
   ]
  },
  {
   "cell_type": "code",
   "execution_count": 91,
   "metadata": {},
   "outputs": [
    {
     "data": {
      "text/plain": [
       "'True'"
      ]
     },
     "execution_count": 91,
     "metadata": {},
     "output_type": "execute_result"
    }
   ],
   "source": [
    "find_label((df_fake['text'][0]))"
   ]
  },
  {
   "cell_type": "code",
   "execution_count": 92,
   "metadata": {},
   "outputs": [
    {
     "data": {
      "text/plain": [
       "1.0"
      ]
     },
     "execution_count": 92,
     "metadata": {},
     "output_type": "execute_result"
    }
   ],
   "source": [
    "sum([1 if find_label((df_true['text'][i]))=='True' else 0 for i in range(len(df_true['text']))])/df_true['text'].size"
   ]
  },
  {
   "cell_type": "code",
   "execution_count": 94,
   "metadata": {},
   "outputs": [
    {
     "data": {
      "text/plain": [
       "0.0"
      ]
     },
     "execution_count": 94,
     "metadata": {},
     "output_type": "execute_result"
    }
   ],
   "source": [
    "sum([1 if find_label((df_fake['text'][i]))=='false' else 0 for i in range(len(df_fake['text']))])/df_fake['text'].size"
   ]
  },
  {
   "cell_type": "code",
   "execution_count": 42,
   "metadata": {},
   "outputs": [],
   "source": [
    "#Only 24% times the model predicts the actual results as true for the unknown dataset which all the news are true\n",
    "#Only 21% times the model predicts the actual results as true for the unknown dataset which all the news are false"
   ]
  },
  {
   "cell_type": "code",
   "execution_count": null,
   "metadata": {},
   "outputs": [],
   "source": []
  }
 ],
 "metadata": {
  "kernelspec": {
   "display_name": "Python 3 (ipykernel)",
   "language": "python",
   "name": "python3"
  },
  "language_info": {
   "codemirror_mode": {
    "name": "ipython",
    "version": 3
   },
   "file_extension": ".py",
   "mimetype": "text/x-python",
   "name": "python",
   "nbconvert_exporter": "python",
   "pygments_lexer": "ipython3",
   "version": "3.11.2"
  }
 },
 "nbformat": 4,
 "nbformat_minor": 4
}
